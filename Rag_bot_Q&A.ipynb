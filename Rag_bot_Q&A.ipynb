{
  "nbformat": 4,
  "nbformat_minor": 0,
  "metadata": {
    "colab": {
      "provenance": [],
      "authorship_tag": "ABX9TyN+beZftT2jTSX9dsRUnLeT",
      "include_colab_link": true
    },
    "kernelspec": {
      "name": "python3",
      "display_name": "Python 3"
    },
    "language_info": {
      "name": "python"
    },
    "widgets": {
      "application/vnd.jupyter.widget-state+json": {
        "fce67404222b4f189b546a5bcaaf1ceb": {
          "model_module": "@jupyter-widgets/controls",
          "model_name": "HBoxModel",
          "model_module_version": "1.5.0",
          "state": {
            "_dom_classes": [],
            "_model_module": "@jupyter-widgets/controls",
            "_model_module_version": "1.5.0",
            "_model_name": "HBoxModel",
            "_view_count": null,
            "_view_module": "@jupyter-widgets/controls",
            "_view_module_version": "1.5.0",
            "_view_name": "HBoxView",
            "box_style": "",
            "children": [
              "IPY_MODEL_00e8b5704fbf49798d537165556320e4",
              "IPY_MODEL_1ea0d53a9d354446a9c7bb7dcc293e52",
              "IPY_MODEL_78776283cd404d55b3790fee5bffbffb"
            ],
            "layout": "IPY_MODEL_7fcadf16143840d5aca96b6e3f1adc59"
          }
        },
        "00e8b5704fbf49798d537165556320e4": {
          "model_module": "@jupyter-widgets/controls",
          "model_name": "HTMLModel",
          "model_module_version": "1.5.0",
          "state": {
            "_dom_classes": [],
            "_model_module": "@jupyter-widgets/controls",
            "_model_module_version": "1.5.0",
            "_model_name": "HTMLModel",
            "_view_count": null,
            "_view_module": "@jupyter-widgets/controls",
            "_view_module_version": "1.5.0",
            "_view_name": "HTMLView",
            "description": "",
            "description_tooltip": null,
            "layout": "IPY_MODEL_23876d50823d403a9f0bc9c336ce0d04",
            "placeholder": "​",
            "style": "IPY_MODEL_8d6c5e40f9434f0d9d3140eccbc12fb7",
            "value": "config.json: 100%"
          }
        },
        "1ea0d53a9d354446a9c7bb7dcc293e52": {
          "model_module": "@jupyter-widgets/controls",
          "model_name": "FloatProgressModel",
          "model_module_version": "1.5.0",
          "state": {
            "_dom_classes": [],
            "_model_module": "@jupyter-widgets/controls",
            "_model_module_version": "1.5.0",
            "_model_name": "FloatProgressModel",
            "_view_count": null,
            "_view_module": "@jupyter-widgets/controls",
            "_view_module_version": "1.5.0",
            "_view_name": "ProgressView",
            "bar_style": "success",
            "description": "",
            "description_tooltip": null,
            "layout": "IPY_MODEL_776c9f9d6a2f437d98f9f10acef30fe9",
            "max": 794,
            "min": 0,
            "orientation": "horizontal",
            "style": "IPY_MODEL_b7089ec7fc0a40aba06f5c5fb951ea1f",
            "value": 794
          }
        },
        "78776283cd404d55b3790fee5bffbffb": {
          "model_module": "@jupyter-widgets/controls",
          "model_name": "HTMLModel",
          "model_module_version": "1.5.0",
          "state": {
            "_dom_classes": [],
            "_model_module": "@jupyter-widgets/controls",
            "_model_module_version": "1.5.0",
            "_model_name": "HTMLModel",
            "_view_count": null,
            "_view_module": "@jupyter-widgets/controls",
            "_view_module_version": "1.5.0",
            "_view_name": "HTMLView",
            "description": "",
            "description_tooltip": null,
            "layout": "IPY_MODEL_1ccf1fc117af4138b9794e7eb90a3fd1",
            "placeholder": "​",
            "style": "IPY_MODEL_ccc9b6041d34422fae1669907941fa04",
            "value": " 794/794 [00:00&lt;00:00, 28.4kB/s]"
          }
        },
        "7fcadf16143840d5aca96b6e3f1adc59": {
          "model_module": "@jupyter-widgets/base",
          "model_name": "LayoutModel",
          "model_module_version": "1.2.0",
          "state": {
            "_model_module": "@jupyter-widgets/base",
            "_model_module_version": "1.2.0",
            "_model_name": "LayoutModel",
            "_view_count": null,
            "_view_module": "@jupyter-widgets/base",
            "_view_module_version": "1.2.0",
            "_view_name": "LayoutView",
            "align_content": null,
            "align_items": null,
            "align_self": null,
            "border": null,
            "bottom": null,
            "display": null,
            "flex": null,
            "flex_flow": null,
            "grid_area": null,
            "grid_auto_columns": null,
            "grid_auto_flow": null,
            "grid_auto_rows": null,
            "grid_column": null,
            "grid_gap": null,
            "grid_row": null,
            "grid_template_areas": null,
            "grid_template_columns": null,
            "grid_template_rows": null,
            "height": null,
            "justify_content": null,
            "justify_items": null,
            "left": null,
            "margin": null,
            "max_height": null,
            "max_width": null,
            "min_height": null,
            "min_width": null,
            "object_fit": null,
            "object_position": null,
            "order": null,
            "overflow": null,
            "overflow_x": null,
            "overflow_y": null,
            "padding": null,
            "right": null,
            "top": null,
            "visibility": null,
            "width": null
          }
        },
        "23876d50823d403a9f0bc9c336ce0d04": {
          "model_module": "@jupyter-widgets/base",
          "model_name": "LayoutModel",
          "model_module_version": "1.2.0",
          "state": {
            "_model_module": "@jupyter-widgets/base",
            "_model_module_version": "1.2.0",
            "_model_name": "LayoutModel",
            "_view_count": null,
            "_view_module": "@jupyter-widgets/base",
            "_view_module_version": "1.2.0",
            "_view_name": "LayoutView",
            "align_content": null,
            "align_items": null,
            "align_self": null,
            "border": null,
            "bottom": null,
            "display": null,
            "flex": null,
            "flex_flow": null,
            "grid_area": null,
            "grid_auto_columns": null,
            "grid_auto_flow": null,
            "grid_auto_rows": null,
            "grid_column": null,
            "grid_gap": null,
            "grid_row": null,
            "grid_template_areas": null,
            "grid_template_columns": null,
            "grid_template_rows": null,
            "height": null,
            "justify_content": null,
            "justify_items": null,
            "left": null,
            "margin": null,
            "max_height": null,
            "max_width": null,
            "min_height": null,
            "min_width": null,
            "object_fit": null,
            "object_position": null,
            "order": null,
            "overflow": null,
            "overflow_x": null,
            "overflow_y": null,
            "padding": null,
            "right": null,
            "top": null,
            "visibility": null,
            "width": null
          }
        },
        "8d6c5e40f9434f0d9d3140eccbc12fb7": {
          "model_module": "@jupyter-widgets/controls",
          "model_name": "DescriptionStyleModel",
          "model_module_version": "1.5.0",
          "state": {
            "_model_module": "@jupyter-widgets/controls",
            "_model_module_version": "1.5.0",
            "_model_name": "DescriptionStyleModel",
            "_view_count": null,
            "_view_module": "@jupyter-widgets/base",
            "_view_module_version": "1.2.0",
            "_view_name": "StyleView",
            "description_width": ""
          }
        },
        "776c9f9d6a2f437d98f9f10acef30fe9": {
          "model_module": "@jupyter-widgets/base",
          "model_name": "LayoutModel",
          "model_module_version": "1.2.0",
          "state": {
            "_model_module": "@jupyter-widgets/base",
            "_model_module_version": "1.2.0",
            "_model_name": "LayoutModel",
            "_view_count": null,
            "_view_module": "@jupyter-widgets/base",
            "_view_module_version": "1.2.0",
            "_view_name": "LayoutView",
            "align_content": null,
            "align_items": null,
            "align_self": null,
            "border": null,
            "bottom": null,
            "display": null,
            "flex": null,
            "flex_flow": null,
            "grid_area": null,
            "grid_auto_columns": null,
            "grid_auto_flow": null,
            "grid_auto_rows": null,
            "grid_column": null,
            "grid_gap": null,
            "grid_row": null,
            "grid_template_areas": null,
            "grid_template_columns": null,
            "grid_template_rows": null,
            "height": null,
            "justify_content": null,
            "justify_items": null,
            "left": null,
            "margin": null,
            "max_height": null,
            "max_width": null,
            "min_height": null,
            "min_width": null,
            "object_fit": null,
            "object_position": null,
            "order": null,
            "overflow": null,
            "overflow_x": null,
            "overflow_y": null,
            "padding": null,
            "right": null,
            "top": null,
            "visibility": null,
            "width": null
          }
        },
        "b7089ec7fc0a40aba06f5c5fb951ea1f": {
          "model_module": "@jupyter-widgets/controls",
          "model_name": "ProgressStyleModel",
          "model_module_version": "1.5.0",
          "state": {
            "_model_module": "@jupyter-widgets/controls",
            "_model_module_version": "1.5.0",
            "_model_name": "ProgressStyleModel",
            "_view_count": null,
            "_view_module": "@jupyter-widgets/base",
            "_view_module_version": "1.2.0",
            "_view_name": "StyleView",
            "bar_color": null,
            "description_width": ""
          }
        },
        "1ccf1fc117af4138b9794e7eb90a3fd1": {
          "model_module": "@jupyter-widgets/base",
          "model_name": "LayoutModel",
          "model_module_version": "1.2.0",
          "state": {
            "_model_module": "@jupyter-widgets/base",
            "_model_module_version": "1.2.0",
            "_model_name": "LayoutModel",
            "_view_count": null,
            "_view_module": "@jupyter-widgets/base",
            "_view_module_version": "1.2.0",
            "_view_name": "LayoutView",
            "align_content": null,
            "align_items": null,
            "align_self": null,
            "border": null,
            "bottom": null,
            "display": null,
            "flex": null,
            "flex_flow": null,
            "grid_area": null,
            "grid_auto_columns": null,
            "grid_auto_flow": null,
            "grid_auto_rows": null,
            "grid_column": null,
            "grid_gap": null,
            "grid_row": null,
            "grid_template_areas": null,
            "grid_template_columns": null,
            "grid_template_rows": null,
            "height": null,
            "justify_content": null,
            "justify_items": null,
            "left": null,
            "margin": null,
            "max_height": null,
            "max_width": null,
            "min_height": null,
            "min_width": null,
            "object_fit": null,
            "object_position": null,
            "order": null,
            "overflow": null,
            "overflow_x": null,
            "overflow_y": null,
            "padding": null,
            "right": null,
            "top": null,
            "visibility": null,
            "width": null
          }
        },
        "ccc9b6041d34422fae1669907941fa04": {
          "model_module": "@jupyter-widgets/controls",
          "model_name": "DescriptionStyleModel",
          "model_module_version": "1.5.0",
          "state": {
            "_model_module": "@jupyter-widgets/controls",
            "_model_module_version": "1.5.0",
            "_model_name": "DescriptionStyleModel",
            "_view_count": null,
            "_view_module": "@jupyter-widgets/base",
            "_view_module_version": "1.2.0",
            "_view_name": "StyleView",
            "description_width": ""
          }
        },
        "d357b5e673314a35b64d82ea1b7bec7b": {
          "model_module": "@jupyter-widgets/controls",
          "model_name": "HBoxModel",
          "model_module_version": "1.5.0",
          "state": {
            "_dom_classes": [],
            "_model_module": "@jupyter-widgets/controls",
            "_model_module_version": "1.5.0",
            "_model_name": "HBoxModel",
            "_view_count": null,
            "_view_module": "@jupyter-widgets/controls",
            "_view_module_version": "1.5.0",
            "_view_name": "HBoxView",
            "box_style": "",
            "children": [
              "IPY_MODEL_1a012e1fe0114f5f8c617ad80b61fbd7",
              "IPY_MODEL_f6e2689990df49ec906d11d31da44e06",
              "IPY_MODEL_553d4b1da9a342109a2bc8d05b6b18ce"
            ],
            "layout": "IPY_MODEL_fcc5e73e99644dc8af0548542f5c4871"
          }
        },
        "1a012e1fe0114f5f8c617ad80b61fbd7": {
          "model_module": "@jupyter-widgets/controls",
          "model_name": "HTMLModel",
          "model_module_version": "1.5.0",
          "state": {
            "_dom_classes": [],
            "_model_module": "@jupyter-widgets/controls",
            "_model_module_version": "1.5.0",
            "_model_name": "HTMLModel",
            "_view_count": null,
            "_view_module": "@jupyter-widgets/controls",
            "_view_module_version": "1.5.0",
            "_view_name": "HTMLView",
            "description": "",
            "description_tooltip": null,
            "layout": "IPY_MODEL_7ff81328608f4ee6b4009b21da4b2242",
            "placeholder": "​",
            "style": "IPY_MODEL_1be0e36fb2994683a3f95f7fff02b153",
            "value": "pytorch_model.bin: 100%"
          }
        },
        "f6e2689990df49ec906d11d31da44e06": {
          "model_module": "@jupyter-widgets/controls",
          "model_name": "FloatProgressModel",
          "model_module_version": "1.5.0",
          "state": {
            "_dom_classes": [],
            "_model_module": "@jupyter-widgets/controls",
            "_model_module_version": "1.5.0",
            "_model_name": "FloatProgressModel",
            "_view_count": null,
            "_view_module": "@jupyter-widgets/controls",
            "_view_module_version": "1.5.0",
            "_view_name": "ProgressView",
            "bar_style": "success",
            "description": "",
            "description_tooltip": null,
            "layout": "IPY_MODEL_41a42d585d7744c28c3de7799fd4dab2",
            "max": 90903017,
            "min": 0,
            "orientation": "horizontal",
            "style": "IPY_MODEL_69b71c5d35264d8bba443244eb7ff6d1",
            "value": 90903017
          }
        },
        "553d4b1da9a342109a2bc8d05b6b18ce": {
          "model_module": "@jupyter-widgets/controls",
          "model_name": "HTMLModel",
          "model_module_version": "1.5.0",
          "state": {
            "_dom_classes": [],
            "_model_module": "@jupyter-widgets/controls",
            "_model_module_version": "1.5.0",
            "_model_name": "HTMLModel",
            "_view_count": null,
            "_view_module": "@jupyter-widgets/controls",
            "_view_module_version": "1.5.0",
            "_view_name": "HTMLView",
            "description": "",
            "description_tooltip": null,
            "layout": "IPY_MODEL_e9b4d5e0b60c41df9f86280d8484216a",
            "placeholder": "​",
            "style": "IPY_MODEL_396a1a12506647ffa3c4842d4f946cc4",
            "value": " 90.9M/90.9M [00:00&lt;00:00, 124MB/s]"
          }
        },
        "fcc5e73e99644dc8af0548542f5c4871": {
          "model_module": "@jupyter-widgets/base",
          "model_name": "LayoutModel",
          "model_module_version": "1.2.0",
          "state": {
            "_model_module": "@jupyter-widgets/base",
            "_model_module_version": "1.2.0",
            "_model_name": "LayoutModel",
            "_view_count": null,
            "_view_module": "@jupyter-widgets/base",
            "_view_module_version": "1.2.0",
            "_view_name": "LayoutView",
            "align_content": null,
            "align_items": null,
            "align_self": null,
            "border": null,
            "bottom": null,
            "display": null,
            "flex": null,
            "flex_flow": null,
            "grid_area": null,
            "grid_auto_columns": null,
            "grid_auto_flow": null,
            "grid_auto_rows": null,
            "grid_column": null,
            "grid_gap": null,
            "grid_row": null,
            "grid_template_areas": null,
            "grid_template_columns": null,
            "grid_template_rows": null,
            "height": null,
            "justify_content": null,
            "justify_items": null,
            "left": null,
            "margin": null,
            "max_height": null,
            "max_width": null,
            "min_height": null,
            "min_width": null,
            "object_fit": null,
            "object_position": null,
            "order": null,
            "overflow": null,
            "overflow_x": null,
            "overflow_y": null,
            "padding": null,
            "right": null,
            "top": null,
            "visibility": null,
            "width": null
          }
        },
        "7ff81328608f4ee6b4009b21da4b2242": {
          "model_module": "@jupyter-widgets/base",
          "model_name": "LayoutModel",
          "model_module_version": "1.2.0",
          "state": {
            "_model_module": "@jupyter-widgets/base",
            "_model_module_version": "1.2.0",
            "_model_name": "LayoutModel",
            "_view_count": null,
            "_view_module": "@jupyter-widgets/base",
            "_view_module_version": "1.2.0",
            "_view_name": "LayoutView",
            "align_content": null,
            "align_items": null,
            "align_self": null,
            "border": null,
            "bottom": null,
            "display": null,
            "flex": null,
            "flex_flow": null,
            "grid_area": null,
            "grid_auto_columns": null,
            "grid_auto_flow": null,
            "grid_auto_rows": null,
            "grid_column": null,
            "grid_gap": null,
            "grid_row": null,
            "grid_template_areas": null,
            "grid_template_columns": null,
            "grid_template_rows": null,
            "height": null,
            "justify_content": null,
            "justify_items": null,
            "left": null,
            "margin": null,
            "max_height": null,
            "max_width": null,
            "min_height": null,
            "min_width": null,
            "object_fit": null,
            "object_position": null,
            "order": null,
            "overflow": null,
            "overflow_x": null,
            "overflow_y": null,
            "padding": null,
            "right": null,
            "top": null,
            "visibility": null,
            "width": null
          }
        },
        "1be0e36fb2994683a3f95f7fff02b153": {
          "model_module": "@jupyter-widgets/controls",
          "model_name": "DescriptionStyleModel",
          "model_module_version": "1.5.0",
          "state": {
            "_model_module": "@jupyter-widgets/controls",
            "_model_module_version": "1.5.0",
            "_model_name": "DescriptionStyleModel",
            "_view_count": null,
            "_view_module": "@jupyter-widgets/base",
            "_view_module_version": "1.2.0",
            "_view_name": "StyleView",
            "description_width": ""
          }
        },
        "41a42d585d7744c28c3de7799fd4dab2": {
          "model_module": "@jupyter-widgets/base",
          "model_name": "LayoutModel",
          "model_module_version": "1.2.0",
          "state": {
            "_model_module": "@jupyter-widgets/base",
            "_model_module_version": "1.2.0",
            "_model_name": "LayoutModel",
            "_view_count": null,
            "_view_module": "@jupyter-widgets/base",
            "_view_module_version": "1.2.0",
            "_view_name": "LayoutView",
            "align_content": null,
            "align_items": null,
            "align_self": null,
            "border": null,
            "bottom": null,
            "display": null,
            "flex": null,
            "flex_flow": null,
            "grid_area": null,
            "grid_auto_columns": null,
            "grid_auto_flow": null,
            "grid_auto_rows": null,
            "grid_column": null,
            "grid_gap": null,
            "grid_row": null,
            "grid_template_areas": null,
            "grid_template_columns": null,
            "grid_template_rows": null,
            "height": null,
            "justify_content": null,
            "justify_items": null,
            "left": null,
            "margin": null,
            "max_height": null,
            "max_width": null,
            "min_height": null,
            "min_width": null,
            "object_fit": null,
            "object_position": null,
            "order": null,
            "overflow": null,
            "overflow_x": null,
            "overflow_y": null,
            "padding": null,
            "right": null,
            "top": null,
            "visibility": null,
            "width": null
          }
        },
        "69b71c5d35264d8bba443244eb7ff6d1": {
          "model_module": "@jupyter-widgets/controls",
          "model_name": "ProgressStyleModel",
          "model_module_version": "1.5.0",
          "state": {
            "_model_module": "@jupyter-widgets/controls",
            "_model_module_version": "1.5.0",
            "_model_name": "ProgressStyleModel",
            "_view_count": null,
            "_view_module": "@jupyter-widgets/base",
            "_view_module_version": "1.2.0",
            "_view_name": "StyleView",
            "bar_color": null,
            "description_width": ""
          }
        },
        "e9b4d5e0b60c41df9f86280d8484216a": {
          "model_module": "@jupyter-widgets/base",
          "model_name": "LayoutModel",
          "model_module_version": "1.2.0",
          "state": {
            "_model_module": "@jupyter-widgets/base",
            "_model_module_version": "1.2.0",
            "_model_name": "LayoutModel",
            "_view_count": null,
            "_view_module": "@jupyter-widgets/base",
            "_view_module_version": "1.2.0",
            "_view_name": "LayoutView",
            "align_content": null,
            "align_items": null,
            "align_self": null,
            "border": null,
            "bottom": null,
            "display": null,
            "flex": null,
            "flex_flow": null,
            "grid_area": null,
            "grid_auto_columns": null,
            "grid_auto_flow": null,
            "grid_auto_rows": null,
            "grid_column": null,
            "grid_gap": null,
            "grid_row": null,
            "grid_template_areas": null,
            "grid_template_columns": null,
            "grid_template_rows": null,
            "height": null,
            "justify_content": null,
            "justify_items": null,
            "left": null,
            "margin": null,
            "max_height": null,
            "max_width": null,
            "min_height": null,
            "min_width": null,
            "object_fit": null,
            "object_position": null,
            "order": null,
            "overflow": null,
            "overflow_x": null,
            "overflow_y": null,
            "padding": null,
            "right": null,
            "top": null,
            "visibility": null,
            "width": null
          }
        },
        "396a1a12506647ffa3c4842d4f946cc4": {
          "model_module": "@jupyter-widgets/controls",
          "model_name": "DescriptionStyleModel",
          "model_module_version": "1.5.0",
          "state": {
            "_model_module": "@jupyter-widgets/controls",
            "_model_module_version": "1.5.0",
            "_model_name": "DescriptionStyleModel",
            "_view_count": null,
            "_view_module": "@jupyter-widgets/base",
            "_view_module_version": "1.2.0",
            "_view_name": "StyleView",
            "description_width": ""
          }
        },
        "2779e04c6dd844129c06bc3606330c12": {
          "model_module": "@jupyter-widgets/controls",
          "model_name": "HBoxModel",
          "model_module_version": "1.5.0",
          "state": {
            "_dom_classes": [],
            "_model_module": "@jupyter-widgets/controls",
            "_model_module_version": "1.5.0",
            "_model_name": "HBoxModel",
            "_view_count": null,
            "_view_module": "@jupyter-widgets/controls",
            "_view_module_version": "1.5.0",
            "_view_name": "HBoxView",
            "box_style": "",
            "children": [
              "IPY_MODEL_149d4ae5615e495f9fe484b8881b908a",
              "IPY_MODEL_ec28568d251e4c2f8d21b14ad9ee51dc",
              "IPY_MODEL_3b62b1acd3384b75a6dd8be3e9b15911"
            ],
            "layout": "IPY_MODEL_2491e5f14b6e4bfbbe4ad6556357e877"
          }
        },
        "149d4ae5615e495f9fe484b8881b908a": {
          "model_module": "@jupyter-widgets/controls",
          "model_name": "HTMLModel",
          "model_module_version": "1.5.0",
          "state": {
            "_dom_classes": [],
            "_model_module": "@jupyter-widgets/controls",
            "_model_module_version": "1.5.0",
            "_model_name": "HTMLModel",
            "_view_count": null,
            "_view_module": "@jupyter-widgets/controls",
            "_view_module_version": "1.5.0",
            "_view_name": "HTMLView",
            "description": "",
            "description_tooltip": null,
            "layout": "IPY_MODEL_1fcf56558cd14b2a98acac5af4d414b8",
            "placeholder": "​",
            "style": "IPY_MODEL_4b67908f027c4d8b8135956d2ef545a2",
            "value": "tokenizer_config.json: 100%"
          }
        },
        "ec28568d251e4c2f8d21b14ad9ee51dc": {
          "model_module": "@jupyter-widgets/controls",
          "model_name": "FloatProgressModel",
          "model_module_version": "1.5.0",
          "state": {
            "_dom_classes": [],
            "_model_module": "@jupyter-widgets/controls",
            "_model_module_version": "1.5.0",
            "_model_name": "FloatProgressModel",
            "_view_count": null,
            "_view_module": "@jupyter-widgets/controls",
            "_view_module_version": "1.5.0",
            "_view_name": "ProgressView",
            "bar_style": "success",
            "description": "",
            "description_tooltip": null,
            "layout": "IPY_MODEL_4162a9ae792a42f8bed7930dbc384fb0",
            "max": 316,
            "min": 0,
            "orientation": "horizontal",
            "style": "IPY_MODEL_ff6b0a054e5e4d79b49c7d37cf966b9f",
            "value": 316
          }
        },
        "3b62b1acd3384b75a6dd8be3e9b15911": {
          "model_module": "@jupyter-widgets/controls",
          "model_name": "HTMLModel",
          "model_module_version": "1.5.0",
          "state": {
            "_dom_classes": [],
            "_model_module": "@jupyter-widgets/controls",
            "_model_module_version": "1.5.0",
            "_model_name": "HTMLModel",
            "_view_count": null,
            "_view_module": "@jupyter-widgets/controls",
            "_view_module_version": "1.5.0",
            "_view_name": "HTMLView",
            "description": "",
            "description_tooltip": null,
            "layout": "IPY_MODEL_9b1bf31e9e69499c9a514e4592607154",
            "placeholder": "​",
            "style": "IPY_MODEL_8ce3247e46334a36bd2e06193ce502dc",
            "value": " 316/316 [00:00&lt;00:00, 4.13kB/s]"
          }
        },
        "2491e5f14b6e4bfbbe4ad6556357e877": {
          "model_module": "@jupyter-widgets/base",
          "model_name": "LayoutModel",
          "model_module_version": "1.2.0",
          "state": {
            "_model_module": "@jupyter-widgets/base",
            "_model_module_version": "1.2.0",
            "_model_name": "LayoutModel",
            "_view_count": null,
            "_view_module": "@jupyter-widgets/base",
            "_view_module_version": "1.2.0",
            "_view_name": "LayoutView",
            "align_content": null,
            "align_items": null,
            "align_self": null,
            "border": null,
            "bottom": null,
            "display": null,
            "flex": null,
            "flex_flow": null,
            "grid_area": null,
            "grid_auto_columns": null,
            "grid_auto_flow": null,
            "grid_auto_rows": null,
            "grid_column": null,
            "grid_gap": null,
            "grid_row": null,
            "grid_template_areas": null,
            "grid_template_columns": null,
            "grid_template_rows": null,
            "height": null,
            "justify_content": null,
            "justify_items": null,
            "left": null,
            "margin": null,
            "max_height": null,
            "max_width": null,
            "min_height": null,
            "min_width": null,
            "object_fit": null,
            "object_position": null,
            "order": null,
            "overflow": null,
            "overflow_x": null,
            "overflow_y": null,
            "padding": null,
            "right": null,
            "top": null,
            "visibility": null,
            "width": null
          }
        },
        "1fcf56558cd14b2a98acac5af4d414b8": {
          "model_module": "@jupyter-widgets/base",
          "model_name": "LayoutModel",
          "model_module_version": "1.2.0",
          "state": {
            "_model_module": "@jupyter-widgets/base",
            "_model_module_version": "1.2.0",
            "_model_name": "LayoutModel",
            "_view_count": null,
            "_view_module": "@jupyter-widgets/base",
            "_view_module_version": "1.2.0",
            "_view_name": "LayoutView",
            "align_content": null,
            "align_items": null,
            "align_self": null,
            "border": null,
            "bottom": null,
            "display": null,
            "flex": null,
            "flex_flow": null,
            "grid_area": null,
            "grid_auto_columns": null,
            "grid_auto_flow": null,
            "grid_auto_rows": null,
            "grid_column": null,
            "grid_gap": null,
            "grid_row": null,
            "grid_template_areas": null,
            "grid_template_columns": null,
            "grid_template_rows": null,
            "height": null,
            "justify_content": null,
            "justify_items": null,
            "left": null,
            "margin": null,
            "max_height": null,
            "max_width": null,
            "min_height": null,
            "min_width": null,
            "object_fit": null,
            "object_position": null,
            "order": null,
            "overflow": null,
            "overflow_x": null,
            "overflow_y": null,
            "padding": null,
            "right": null,
            "top": null,
            "visibility": null,
            "width": null
          }
        },
        "4b67908f027c4d8b8135956d2ef545a2": {
          "model_module": "@jupyter-widgets/controls",
          "model_name": "DescriptionStyleModel",
          "model_module_version": "1.5.0",
          "state": {
            "_model_module": "@jupyter-widgets/controls",
            "_model_module_version": "1.5.0",
            "_model_name": "DescriptionStyleModel",
            "_view_count": null,
            "_view_module": "@jupyter-widgets/base",
            "_view_module_version": "1.2.0",
            "_view_name": "StyleView",
            "description_width": ""
          }
        },
        "4162a9ae792a42f8bed7930dbc384fb0": {
          "model_module": "@jupyter-widgets/base",
          "model_name": "LayoutModel",
          "model_module_version": "1.2.0",
          "state": {
            "_model_module": "@jupyter-widgets/base",
            "_model_module_version": "1.2.0",
            "_model_name": "LayoutModel",
            "_view_count": null,
            "_view_module": "@jupyter-widgets/base",
            "_view_module_version": "1.2.0",
            "_view_name": "LayoutView",
            "align_content": null,
            "align_items": null,
            "align_self": null,
            "border": null,
            "bottom": null,
            "display": null,
            "flex": null,
            "flex_flow": null,
            "grid_area": null,
            "grid_auto_columns": null,
            "grid_auto_flow": null,
            "grid_auto_rows": null,
            "grid_column": null,
            "grid_gap": null,
            "grid_row": null,
            "grid_template_areas": null,
            "grid_template_columns": null,
            "grid_template_rows": null,
            "height": null,
            "justify_content": null,
            "justify_items": null,
            "left": null,
            "margin": null,
            "max_height": null,
            "max_width": null,
            "min_height": null,
            "min_width": null,
            "object_fit": null,
            "object_position": null,
            "order": null,
            "overflow": null,
            "overflow_x": null,
            "overflow_y": null,
            "padding": null,
            "right": null,
            "top": null,
            "visibility": null,
            "width": null
          }
        },
        "ff6b0a054e5e4d79b49c7d37cf966b9f": {
          "model_module": "@jupyter-widgets/controls",
          "model_name": "ProgressStyleModel",
          "model_module_version": "1.5.0",
          "state": {
            "_model_module": "@jupyter-widgets/controls",
            "_model_module_version": "1.5.0",
            "_model_name": "ProgressStyleModel",
            "_view_count": null,
            "_view_module": "@jupyter-widgets/base",
            "_view_module_version": "1.2.0",
            "_view_name": "StyleView",
            "bar_color": null,
            "description_width": ""
          }
        },
        "9b1bf31e9e69499c9a514e4592607154": {
          "model_module": "@jupyter-widgets/base",
          "model_name": "LayoutModel",
          "model_module_version": "1.2.0",
          "state": {
            "_model_module": "@jupyter-widgets/base",
            "_model_module_version": "1.2.0",
            "_model_name": "LayoutModel",
            "_view_count": null,
            "_view_module": "@jupyter-widgets/base",
            "_view_module_version": "1.2.0",
            "_view_name": "LayoutView",
            "align_content": null,
            "align_items": null,
            "align_self": null,
            "border": null,
            "bottom": null,
            "display": null,
            "flex": null,
            "flex_flow": null,
            "grid_area": null,
            "grid_auto_columns": null,
            "grid_auto_flow": null,
            "grid_auto_rows": null,
            "grid_column": null,
            "grid_gap": null,
            "grid_row": null,
            "grid_template_areas": null,
            "grid_template_columns": null,
            "grid_template_rows": null,
            "height": null,
            "justify_content": null,
            "justify_items": null,
            "left": null,
            "margin": null,
            "max_height": null,
            "max_width": null,
            "min_height": null,
            "min_width": null,
            "object_fit": null,
            "object_position": null,
            "order": null,
            "overflow": null,
            "overflow_x": null,
            "overflow_y": null,
            "padding": null,
            "right": null,
            "top": null,
            "visibility": null,
            "width": null
          }
        },
        "8ce3247e46334a36bd2e06193ce502dc": {
          "model_module": "@jupyter-widgets/controls",
          "model_name": "DescriptionStyleModel",
          "model_module_version": "1.5.0",
          "state": {
            "_model_module": "@jupyter-widgets/controls",
            "_model_module_version": "1.5.0",
            "_model_name": "DescriptionStyleModel",
            "_view_count": null,
            "_view_module": "@jupyter-widgets/base",
            "_view_module_version": "1.2.0",
            "_view_name": "StyleView",
            "description_width": ""
          }
        },
        "970981b7de824491a4bef80dbc1d15d0": {
          "model_module": "@jupyter-widgets/controls",
          "model_name": "HBoxModel",
          "model_module_version": "1.5.0",
          "state": {
            "_dom_classes": [],
            "_model_module": "@jupyter-widgets/controls",
            "_model_module_version": "1.5.0",
            "_model_name": "HBoxModel",
            "_view_count": null,
            "_view_module": "@jupyter-widgets/controls",
            "_view_module_version": "1.5.0",
            "_view_name": "HBoxView",
            "box_style": "",
            "children": [
              "IPY_MODEL_53eda179987c48d18b65415183293475",
              "IPY_MODEL_ef7340a0d83046078cfdf3f362d77390",
              "IPY_MODEL_25d2b698b1f34f028849d2a5a50f9133"
            ],
            "layout": "IPY_MODEL_3e0a4507106c42f2af9016f5fae3c50c"
          }
        },
        "53eda179987c48d18b65415183293475": {
          "model_module": "@jupyter-widgets/controls",
          "model_name": "HTMLModel",
          "model_module_version": "1.5.0",
          "state": {
            "_dom_classes": [],
            "_model_module": "@jupyter-widgets/controls",
            "_model_module_version": "1.5.0",
            "_model_name": "HTMLModel",
            "_view_count": null,
            "_view_module": "@jupyter-widgets/controls",
            "_view_module_version": "1.5.0",
            "_view_name": "HTMLView",
            "description": "",
            "description_tooltip": null,
            "layout": "IPY_MODEL_3de9733b7ccc4fd5be416b86650b883c",
            "placeholder": "​",
            "style": "IPY_MODEL_f409f902c0e54485911fb51efefc0220",
            "value": "vocab.txt: 100%"
          }
        },
        "ef7340a0d83046078cfdf3f362d77390": {
          "model_module": "@jupyter-widgets/controls",
          "model_name": "FloatProgressModel",
          "model_module_version": "1.5.0",
          "state": {
            "_dom_classes": [],
            "_model_module": "@jupyter-widgets/controls",
            "_model_module_version": "1.5.0",
            "_model_name": "FloatProgressModel",
            "_view_count": null,
            "_view_module": "@jupyter-widgets/controls",
            "_view_module_version": "1.5.0",
            "_view_name": "ProgressView",
            "bar_style": "success",
            "description": "",
            "description_tooltip": null,
            "layout": "IPY_MODEL_6f28711826cd4567865842810c26786d",
            "max": 231508,
            "min": 0,
            "orientation": "horizontal",
            "style": "IPY_MODEL_dfadb8878d6249b5bfe17de4d3a24f48",
            "value": 231508
          }
        },
        "25d2b698b1f34f028849d2a5a50f9133": {
          "model_module": "@jupyter-widgets/controls",
          "model_name": "HTMLModel",
          "model_module_version": "1.5.0",
          "state": {
            "_dom_classes": [],
            "_model_module": "@jupyter-widgets/controls",
            "_model_module_version": "1.5.0",
            "_model_name": "HTMLModel",
            "_view_count": null,
            "_view_module": "@jupyter-widgets/controls",
            "_view_module_version": "1.5.0",
            "_view_name": "HTMLView",
            "description": "",
            "description_tooltip": null,
            "layout": "IPY_MODEL_1d129e28def8481b89f535126a88df2a",
            "placeholder": "​",
            "style": "IPY_MODEL_401b7afd169746f1837affddda1b1808",
            "value": " 232k/232k [00:00&lt;00:00, 1.89MB/s]"
          }
        },
        "3e0a4507106c42f2af9016f5fae3c50c": {
          "model_module": "@jupyter-widgets/base",
          "model_name": "LayoutModel",
          "model_module_version": "1.2.0",
          "state": {
            "_model_module": "@jupyter-widgets/base",
            "_model_module_version": "1.2.0",
            "_model_name": "LayoutModel",
            "_view_count": null,
            "_view_module": "@jupyter-widgets/base",
            "_view_module_version": "1.2.0",
            "_view_name": "LayoutView",
            "align_content": null,
            "align_items": null,
            "align_self": null,
            "border": null,
            "bottom": null,
            "display": null,
            "flex": null,
            "flex_flow": null,
            "grid_area": null,
            "grid_auto_columns": null,
            "grid_auto_flow": null,
            "grid_auto_rows": null,
            "grid_column": null,
            "grid_gap": null,
            "grid_row": null,
            "grid_template_areas": null,
            "grid_template_columns": null,
            "grid_template_rows": null,
            "height": null,
            "justify_content": null,
            "justify_items": null,
            "left": null,
            "margin": null,
            "max_height": null,
            "max_width": null,
            "min_height": null,
            "min_width": null,
            "object_fit": null,
            "object_position": null,
            "order": null,
            "overflow": null,
            "overflow_x": null,
            "overflow_y": null,
            "padding": null,
            "right": null,
            "top": null,
            "visibility": null,
            "width": null
          }
        },
        "3de9733b7ccc4fd5be416b86650b883c": {
          "model_module": "@jupyter-widgets/base",
          "model_name": "LayoutModel",
          "model_module_version": "1.2.0",
          "state": {
            "_model_module": "@jupyter-widgets/base",
            "_model_module_version": "1.2.0",
            "_model_name": "LayoutModel",
            "_view_count": null,
            "_view_module": "@jupyter-widgets/base",
            "_view_module_version": "1.2.0",
            "_view_name": "LayoutView",
            "align_content": null,
            "align_items": null,
            "align_self": null,
            "border": null,
            "bottom": null,
            "display": null,
            "flex": null,
            "flex_flow": null,
            "grid_area": null,
            "grid_auto_columns": null,
            "grid_auto_flow": null,
            "grid_auto_rows": null,
            "grid_column": null,
            "grid_gap": null,
            "grid_row": null,
            "grid_template_areas": null,
            "grid_template_columns": null,
            "grid_template_rows": null,
            "height": null,
            "justify_content": null,
            "justify_items": null,
            "left": null,
            "margin": null,
            "max_height": null,
            "max_width": null,
            "min_height": null,
            "min_width": null,
            "object_fit": null,
            "object_position": null,
            "order": null,
            "overflow": null,
            "overflow_x": null,
            "overflow_y": null,
            "padding": null,
            "right": null,
            "top": null,
            "visibility": null,
            "width": null
          }
        },
        "f409f902c0e54485911fb51efefc0220": {
          "model_module": "@jupyter-widgets/controls",
          "model_name": "DescriptionStyleModel",
          "model_module_version": "1.5.0",
          "state": {
            "_model_module": "@jupyter-widgets/controls",
            "_model_module_version": "1.5.0",
            "_model_name": "DescriptionStyleModel",
            "_view_count": null,
            "_view_module": "@jupyter-widgets/base",
            "_view_module_version": "1.2.0",
            "_view_name": "StyleView",
            "description_width": ""
          }
        },
        "6f28711826cd4567865842810c26786d": {
          "model_module": "@jupyter-widgets/base",
          "model_name": "LayoutModel",
          "model_module_version": "1.2.0",
          "state": {
            "_model_module": "@jupyter-widgets/base",
            "_model_module_version": "1.2.0",
            "_model_name": "LayoutModel",
            "_view_count": null,
            "_view_module": "@jupyter-widgets/base",
            "_view_module_version": "1.2.0",
            "_view_name": "LayoutView",
            "align_content": null,
            "align_items": null,
            "align_self": null,
            "border": null,
            "bottom": null,
            "display": null,
            "flex": null,
            "flex_flow": null,
            "grid_area": null,
            "grid_auto_columns": null,
            "grid_auto_flow": null,
            "grid_auto_rows": null,
            "grid_column": null,
            "grid_gap": null,
            "grid_row": null,
            "grid_template_areas": null,
            "grid_template_columns": null,
            "grid_template_rows": null,
            "height": null,
            "justify_content": null,
            "justify_items": null,
            "left": null,
            "margin": null,
            "max_height": null,
            "max_width": null,
            "min_height": null,
            "min_width": null,
            "object_fit": null,
            "object_position": null,
            "order": null,
            "overflow": null,
            "overflow_x": null,
            "overflow_y": null,
            "padding": null,
            "right": null,
            "top": null,
            "visibility": null,
            "width": null
          }
        },
        "dfadb8878d6249b5bfe17de4d3a24f48": {
          "model_module": "@jupyter-widgets/controls",
          "model_name": "ProgressStyleModel",
          "model_module_version": "1.5.0",
          "state": {
            "_model_module": "@jupyter-widgets/controls",
            "_model_module_version": "1.5.0",
            "_model_name": "ProgressStyleModel",
            "_view_count": null,
            "_view_module": "@jupyter-widgets/base",
            "_view_module_version": "1.2.0",
            "_view_name": "StyleView",
            "bar_color": null,
            "description_width": ""
          }
        },
        "1d129e28def8481b89f535126a88df2a": {
          "model_module": "@jupyter-widgets/base",
          "model_name": "LayoutModel",
          "model_module_version": "1.2.0",
          "state": {
            "_model_module": "@jupyter-widgets/base",
            "_model_module_version": "1.2.0",
            "_model_name": "LayoutModel",
            "_view_count": null,
            "_view_module": "@jupyter-widgets/base",
            "_view_module_version": "1.2.0",
            "_view_name": "LayoutView",
            "align_content": null,
            "align_items": null,
            "align_self": null,
            "border": null,
            "bottom": null,
            "display": null,
            "flex": null,
            "flex_flow": null,
            "grid_area": null,
            "grid_auto_columns": null,
            "grid_auto_flow": null,
            "grid_auto_rows": null,
            "grid_column": null,
            "grid_gap": null,
            "grid_row": null,
            "grid_template_areas": null,
            "grid_template_columns": null,
            "grid_template_rows": null,
            "height": null,
            "justify_content": null,
            "justify_items": null,
            "left": null,
            "margin": null,
            "max_height": null,
            "max_width": null,
            "min_height": null,
            "min_width": null,
            "object_fit": null,
            "object_position": null,
            "order": null,
            "overflow": null,
            "overflow_x": null,
            "overflow_y": null,
            "padding": null,
            "right": null,
            "top": null,
            "visibility": null,
            "width": null
          }
        },
        "401b7afd169746f1837affddda1b1808": {
          "model_module": "@jupyter-widgets/controls",
          "model_name": "DescriptionStyleModel",
          "model_module_version": "1.5.0",
          "state": {
            "_model_module": "@jupyter-widgets/controls",
            "_model_module_version": "1.5.0",
            "_model_name": "DescriptionStyleModel",
            "_view_count": null,
            "_view_module": "@jupyter-widgets/base",
            "_view_module_version": "1.2.0",
            "_view_name": "StyleView",
            "description_width": ""
          }
        },
        "f11a323473ea4dff840cdbf9a3e3a9c7": {
          "model_module": "@jupyter-widgets/controls",
          "model_name": "HBoxModel",
          "model_module_version": "1.5.0",
          "state": {
            "_dom_classes": [],
            "_model_module": "@jupyter-widgets/controls",
            "_model_module_version": "1.5.0",
            "_model_name": "HBoxModel",
            "_view_count": null,
            "_view_module": "@jupyter-widgets/controls",
            "_view_module_version": "1.5.0",
            "_view_name": "HBoxView",
            "box_style": "",
            "children": [
              "IPY_MODEL_a84f24e93933421aa4876c49cefbe1ca",
              "IPY_MODEL_24ad531d0e074099b92f8c7aee816871",
              "IPY_MODEL_86a20dfea642474d995ae2213ec27044"
            ],
            "layout": "IPY_MODEL_35d1f02a34564a0d9b1fddfe9b95a779"
          }
        },
        "a84f24e93933421aa4876c49cefbe1ca": {
          "model_module": "@jupyter-widgets/controls",
          "model_name": "HTMLModel",
          "model_module_version": "1.5.0",
          "state": {
            "_dom_classes": [],
            "_model_module": "@jupyter-widgets/controls",
            "_model_module_version": "1.5.0",
            "_model_name": "HTMLModel",
            "_view_count": null,
            "_view_module": "@jupyter-widgets/controls",
            "_view_module_version": "1.5.0",
            "_view_name": "HTMLView",
            "description": "",
            "description_tooltip": null,
            "layout": "IPY_MODEL_d88daaa101f94b4c9f28a4d2ef72b869",
            "placeholder": "​",
            "style": "IPY_MODEL_cefdae980faa4001b1d57793916d99c5",
            "value": "special_tokens_map.json: 100%"
          }
        },
        "24ad531d0e074099b92f8c7aee816871": {
          "model_module": "@jupyter-widgets/controls",
          "model_name": "FloatProgressModel",
          "model_module_version": "1.5.0",
          "state": {
            "_dom_classes": [],
            "_model_module": "@jupyter-widgets/controls",
            "_model_module_version": "1.5.0",
            "_model_name": "FloatProgressModel",
            "_view_count": null,
            "_view_module": "@jupyter-widgets/controls",
            "_view_module_version": "1.5.0",
            "_view_name": "ProgressView",
            "bar_style": "success",
            "description": "",
            "description_tooltip": null,
            "layout": "IPY_MODEL_c62bb6ab77214859b584003556d591c9",
            "max": 112,
            "min": 0,
            "orientation": "horizontal",
            "style": "IPY_MODEL_abd7ece77ea94dffb679ab661f2c5905",
            "value": 112
          }
        },
        "86a20dfea642474d995ae2213ec27044": {
          "model_module": "@jupyter-widgets/controls",
          "model_name": "HTMLModel",
          "model_module_version": "1.5.0",
          "state": {
            "_dom_classes": [],
            "_model_module": "@jupyter-widgets/controls",
            "_model_module_version": "1.5.0",
            "_model_name": "HTMLModel",
            "_view_count": null,
            "_view_module": "@jupyter-widgets/controls",
            "_view_module_version": "1.5.0",
            "_view_name": "HTMLView",
            "description": "",
            "description_tooltip": null,
            "layout": "IPY_MODEL_9f008a1e1ccd4d58bd941ab2904e9629",
            "placeholder": "​",
            "style": "IPY_MODEL_68d454ca08f04dd4b3b9e4126383a470",
            "value": " 112/112 [00:00&lt;00:00, 1.45kB/s]"
          }
        },
        "35d1f02a34564a0d9b1fddfe9b95a779": {
          "model_module": "@jupyter-widgets/base",
          "model_name": "LayoutModel",
          "model_module_version": "1.2.0",
          "state": {
            "_model_module": "@jupyter-widgets/base",
            "_model_module_version": "1.2.0",
            "_model_name": "LayoutModel",
            "_view_count": null,
            "_view_module": "@jupyter-widgets/base",
            "_view_module_version": "1.2.0",
            "_view_name": "LayoutView",
            "align_content": null,
            "align_items": null,
            "align_self": null,
            "border": null,
            "bottom": null,
            "display": null,
            "flex": null,
            "flex_flow": null,
            "grid_area": null,
            "grid_auto_columns": null,
            "grid_auto_flow": null,
            "grid_auto_rows": null,
            "grid_column": null,
            "grid_gap": null,
            "grid_row": null,
            "grid_template_areas": null,
            "grid_template_columns": null,
            "grid_template_rows": null,
            "height": null,
            "justify_content": null,
            "justify_items": null,
            "left": null,
            "margin": null,
            "max_height": null,
            "max_width": null,
            "min_height": null,
            "min_width": null,
            "object_fit": null,
            "object_position": null,
            "order": null,
            "overflow": null,
            "overflow_x": null,
            "overflow_y": null,
            "padding": null,
            "right": null,
            "top": null,
            "visibility": null,
            "width": null
          }
        },
        "d88daaa101f94b4c9f28a4d2ef72b869": {
          "model_module": "@jupyter-widgets/base",
          "model_name": "LayoutModel",
          "model_module_version": "1.2.0",
          "state": {
            "_model_module": "@jupyter-widgets/base",
            "_model_module_version": "1.2.0",
            "_model_name": "LayoutModel",
            "_view_count": null,
            "_view_module": "@jupyter-widgets/base",
            "_view_module_version": "1.2.0",
            "_view_name": "LayoutView",
            "align_content": null,
            "align_items": null,
            "align_self": null,
            "border": null,
            "bottom": null,
            "display": null,
            "flex": null,
            "flex_flow": null,
            "grid_area": null,
            "grid_auto_columns": null,
            "grid_auto_flow": null,
            "grid_auto_rows": null,
            "grid_column": null,
            "grid_gap": null,
            "grid_row": null,
            "grid_template_areas": null,
            "grid_template_columns": null,
            "grid_template_rows": null,
            "height": null,
            "justify_content": null,
            "justify_items": null,
            "left": null,
            "margin": null,
            "max_height": null,
            "max_width": null,
            "min_height": null,
            "min_width": null,
            "object_fit": null,
            "object_position": null,
            "order": null,
            "overflow": null,
            "overflow_x": null,
            "overflow_y": null,
            "padding": null,
            "right": null,
            "top": null,
            "visibility": null,
            "width": null
          }
        },
        "cefdae980faa4001b1d57793916d99c5": {
          "model_module": "@jupyter-widgets/controls",
          "model_name": "DescriptionStyleModel",
          "model_module_version": "1.5.0",
          "state": {
            "_model_module": "@jupyter-widgets/controls",
            "_model_module_version": "1.5.0",
            "_model_name": "DescriptionStyleModel",
            "_view_count": null,
            "_view_module": "@jupyter-widgets/base",
            "_view_module_version": "1.2.0",
            "_view_name": "StyleView",
            "description_width": ""
          }
        },
        "c62bb6ab77214859b584003556d591c9": {
          "model_module": "@jupyter-widgets/base",
          "model_name": "LayoutModel",
          "model_module_version": "1.2.0",
          "state": {
            "_model_module": "@jupyter-widgets/base",
            "_model_module_version": "1.2.0",
            "_model_name": "LayoutModel",
            "_view_count": null,
            "_view_module": "@jupyter-widgets/base",
            "_view_module_version": "1.2.0",
            "_view_name": "LayoutView",
            "align_content": null,
            "align_items": null,
            "align_self": null,
            "border": null,
            "bottom": null,
            "display": null,
            "flex": null,
            "flex_flow": null,
            "grid_area": null,
            "grid_auto_columns": null,
            "grid_auto_flow": null,
            "grid_auto_rows": null,
            "grid_column": null,
            "grid_gap": null,
            "grid_row": null,
            "grid_template_areas": null,
            "grid_template_columns": null,
            "grid_template_rows": null,
            "height": null,
            "justify_content": null,
            "justify_items": null,
            "left": null,
            "margin": null,
            "max_height": null,
            "max_width": null,
            "min_height": null,
            "min_width": null,
            "object_fit": null,
            "object_position": null,
            "order": null,
            "overflow": null,
            "overflow_x": null,
            "overflow_y": null,
            "padding": null,
            "right": null,
            "top": null,
            "visibility": null,
            "width": null
          }
        },
        "abd7ece77ea94dffb679ab661f2c5905": {
          "model_module": "@jupyter-widgets/controls",
          "model_name": "ProgressStyleModel",
          "model_module_version": "1.5.0",
          "state": {
            "_model_module": "@jupyter-widgets/controls",
            "_model_module_version": "1.5.0",
            "_model_name": "ProgressStyleModel",
            "_view_count": null,
            "_view_module": "@jupyter-widgets/base",
            "_view_module_version": "1.2.0",
            "_view_name": "StyleView",
            "bar_color": null,
            "description_width": ""
          }
        },
        "9f008a1e1ccd4d58bd941ab2904e9629": {
          "model_module": "@jupyter-widgets/base",
          "model_name": "LayoutModel",
          "model_module_version": "1.2.0",
          "state": {
            "_model_module": "@jupyter-widgets/base",
            "_model_module_version": "1.2.0",
            "_model_name": "LayoutModel",
            "_view_count": null,
            "_view_module": "@jupyter-widgets/base",
            "_view_module_version": "1.2.0",
            "_view_name": "LayoutView",
            "align_content": null,
            "align_items": null,
            "align_self": null,
            "border": null,
            "bottom": null,
            "display": null,
            "flex": null,
            "flex_flow": null,
            "grid_area": null,
            "grid_auto_columns": null,
            "grid_auto_flow": null,
            "grid_auto_rows": null,
            "grid_column": null,
            "grid_gap": null,
            "grid_row": null,
            "grid_template_areas": null,
            "grid_template_columns": null,
            "grid_template_rows": null,
            "height": null,
            "justify_content": null,
            "justify_items": null,
            "left": null,
            "margin": null,
            "max_height": null,
            "max_width": null,
            "min_height": null,
            "min_width": null,
            "object_fit": null,
            "object_position": null,
            "order": null,
            "overflow": null,
            "overflow_x": null,
            "overflow_y": null,
            "padding": null,
            "right": null,
            "top": null,
            "visibility": null,
            "width": null
          }
        },
        "68d454ca08f04dd4b3b9e4126383a470": {
          "model_module": "@jupyter-widgets/controls",
          "model_name": "DescriptionStyleModel",
          "model_module_version": "1.5.0",
          "state": {
            "_model_module": "@jupyter-widgets/controls",
            "_model_module_version": "1.5.0",
            "_model_name": "DescriptionStyleModel",
            "_view_count": null,
            "_view_module": "@jupyter-widgets/base",
            "_view_module_version": "1.2.0",
            "_view_name": "StyleView",
            "description_width": ""
          }
        }
      }
    }
  },
  "cells": [
    {
      "cell_type": "markdown",
      "metadata": {
        "id": "view-in-github",
        "colab_type": "text"
      },
      "source": [
        "<a href=\"https://colab.research.google.com/github/Naveenand/Rag/blob/main/Rag_bot_Q%26A.ipynb\" target=\"_parent\"><img src=\"https://colab.research.google.com/assets/colab-badge.svg\" alt=\"Open In Colab\"/></a>"
      ]
    },
    {
      "cell_type": "code",
      "execution_count": null,
      "metadata": {
        "id": "dAgeR-oVMp8T"
      },
      "outputs": [],
      "source": [
        "import warnings\n",
        "warnings.filterwarnings(\"ignore\")\n",
        "\n",
        "!pip install -qU \\\n",
        "    langchain \\\n",
        "    openai \\\n",
        "    pinecone-client \\\n",
        "    tiktoken  \\\n",
        "    langchain_community \\\n",
        "    langchain_openai \\\n",
        "    pypdf"
      ]
    },
    {
      "cell_type": "code",
      "source": [
        "!pip install langchain_community pypdf"
      ],
      "metadata": {
        "id": "Mobjrqz_Sbnr"
      },
      "execution_count": null,
      "outputs": []
    },
    {
      "cell_type": "code",
      "source": [
        "from textwrap import wrap\n",
        "from langchain.text_splitter import RecursiveCharacterTextSplitter\n",
        "from langchain_community.document_loaders import PyPDFLoader"
      ],
      "metadata": {
        "id": "d-EsecIFqZhg"
      },
      "execution_count": null,
      "outputs": []
    },
    {
      "cell_type": "code",
      "source": [
        "loader = PyPDFLoader(\"/content/apple_annual_report_2023.pdf\")\n",
        "pages = loader.load_and_split()"
      ],
      "metadata": {
        "id": "jb0CiYfBV39u"
      },
      "execution_count": null,
      "outputs": []
    },
    {
      "cell_type": "code",
      "source": [
        "pages[5]"
      ],
      "metadata": {
        "colab": {
          "base_uri": "https://localhost:8080/"
        },
        "id": "av0xolTAWMf5",
        "outputId": "d553226d-fb4e-45c4-ab5d-38af62f38151"
      },
      "execution_count": null,
      "outputs": [
        {
          "output_type": "execute_result",
          "data": {
            "text/plain": [
              "Document(page_content='The Company is focused on expanding its market opportunities related to smartphones, personal computers, tablets, wearables \\nand accessories, and services. The Company faces substantial competition in these markets from companies that have \\nsignificant technical, marketing, distribution and other resources, as well as established hardware, software, and service offerings \\nwith large customer bases. In addition, some of the Company’s competitors have broader product lines, lower-priced products \\nand a larger installed base of active devices. Competition has been particularly intense as competitors have aggressively cut \\nprices and lowered product margins. Certain competitors have the resources, experience or cost structures to provide products \\nat little or no profit or even at a loss. The Company’s services compete with business models that provide content to users for \\nfree and use illegitimate means to obtain third-party digital content and applications. The Company faces significant competition \\nas competitors imitate the Company’s product features and applications within their products, or collaborate to offer integrated \\nsolutions that are more competitive than those they currently offer.\\nSupply of Components\\nAlthough most components essential to the Company’s business are generally available from multiple sources, certain \\ncomponents are currently obtained from single or limited sources. The Company also competes for various components with \\nother participants in the markets for smartphones, personal computers, tablets, wearables and accessories. Therefore, many \\ncomponents used by the Company, including those that are available from multiple sources, are at times subject to industry-wide \\nshortage and significant commodity pricing fluctuations.\\nThe Company uses some custom components that are not commonly used by its competitors, and new products introduced by \\nthe Company often utilize custom components available from only one source. When a component or product uses new \\ntechnologies, initial capacity constraints may exist until the suppliers’ yields have matured or their manufacturing capacities have \\nincreased. The continued availability of these components at acceptable prices, or at all, may be affected if suppliers decide to \\nconcentrate on the production of common components instead of components customized to meet the Company’s requirements.\\nThe Company has entered into agreements for the supply of many components; however, there can be no guarantee that the \\nCompany will be able to extend or renew these agreements on similar terms, or at all.\\nSubstantially all of the Company’s hardware products are manufactured by outsourcing partners that are located primarily in \\nAsia, with some Mac computers manufactured in the U.S. and Ireland.\\nResearch and Development\\nBecause the industries in which the Company competes are characterized by rapid technological advances, the Company’s \\nability to compete successfully depends heavily upon its ability to ensure a continual and timely flow of competitive products, \\nservices and technologies to the marketplace. The Company continues to develop new technologies to enhance existing \\nproducts and services, and to expand the range of its offerings through research and development (“R&D”), licensing of \\nintellectual property and acquisition of third-party businesses and technology.\\nIntellectual Property\\nThe Company currently holds a broad collection of intellectual property rights relating to certain aspects of its hardware devices, \\naccessories, software and services. This includes patents, designs, copyrights, trademarks and other forms of intellectual \\nproperty rights in the U.S. and various foreign countries. Although the Company believes the ownership of such intellectual \\nproperty rights is an important factor in differentiating its business and that its success does depend in part on such ownership,', metadata={'source': '/content/apple_annual_report_2023.pdf', 'page': 5})"
            ]
          },
          "metadata": {},
          "execution_count": 6
        }
      ]
    },
    {
      "cell_type": "code",
      "source": [
        "# Filter the empty strings\n",
        "pdf_texts = [text for text in pages if text]\n",
        "\n",
        "print(pdf_texts[0])\n",
        "print(len(pdf_texts))"
      ],
      "metadata": {
        "colab": {
          "base_uri": "https://localhost:8080/"
        },
        "id": "B7Y6fTjsPjzj",
        "outputId": "f21dff8a-1178-4c6f-a0e4-77992cd05548"
      },
      "execution_count": null,
      "outputs": [
        {
          "output_type": "stream",
          "name": "stdout",
          "text": [
            "page_content='UNITED STATES\\nSECURITIES AND EXCHANGE COMMISSION\\nWashington, D.C. 20549\\nFORM 10-K\\n(Mark One)\\n☒    ANNUAL REPORT PURSUANT TO SECTION 13 OR 15(d) OF THE SECURITIES EXCHANGE ACT OF 1934\\nFor the fiscal year ended September\\xa024, 2022\\nor\\n☐    TRANSITION REPORT PURSUANT TO SECTION 13 OR 15(d) OF THE SECURITIES EXCHANGE ACT OF 1934\\nFor the transition period from \\xa0\\xa0\\xa0\\xa0\\xa0\\xa0\\xa0\\xa0\\xa0\\xa0\\xa0\\xa0  to \\xa0\\xa0\\xa0\\xa0\\xa0\\xa0\\xa0\\xa0\\xa0\\xa0\\xa0\\xa0 .\\nCommission File Number: 001-36743\\nApple Inc.\\n(Exact name of Registrant as specified in its charter)\\nCalifornia 94-2404110\\n(State or other jurisdiction\\nof incorporation or organization)(I.R.S. Employer Identification No.)\\nOne Apple Park Way\\nCupertino , California 95014\\n(Address of principal executive offices) (Zip Code)\\n(408) 996-1010\\n(Registrant’s telephone number, including area code)\\nSecurities registered pursuant to Section 12(b) of the Act:\\nTitle of each classTrading \\nsymbol(s) Name of each exchange on which registered\\nCommon Stock, $0.00001  par value per share AAPL The Nasdaq Stock Market LLC\\n1.000% Notes due 2022 — The Nasdaq Stock Market LLC\\n1.375% Notes due 2024 — The Nasdaq Stock Market LLC\\n0.000% Notes due 2025 — The Nasdaq Stock Market LLC\\n0.875% Notes due 2025 — The Nasdaq Stock Market LLC\\n1.625% Notes due 2026 — The Nasdaq Stock Market LLC\\n2.000% Notes due 2027 — The Nasdaq Stock Market LLC\\n1.375% Notes due 2029 — The Nasdaq Stock Market LLC\\n3.050% Notes due 2029 — The Nasdaq Stock Market LLC\\n0.500% Notes due 2031 — The Nasdaq Stock Market LLC\\n3.600% Notes due 2042 — The Nasdaq Stock Market LLC\\nSecurities registered pursuant to Section 12(g) of the Act:  None\\nIndicate by check mark if the Registrant is a well-known seasoned issuer, as defined in Rule 405 of the Securities Act.\\nYes\\xa0\\xa0☒\\xa0\\xa0\\xa0\\xa0\\xa0No\\xa0\\xa0☐\\nIndicate by check mark if the Registrant is not required to file reports pursuant to Section 13 or Section 15(d) of the Act.\\nYes\\xa0\\xa0☐\\xa0\\xa0\\xa0\\xa0\\xa0No\\xa0\\xa0☒' metadata={'source': '/content/apple_annual_report_2023.pdf', 'page': 0}\n",
            "115\n"
          ]
        }
      ]
    },
    {
      "cell_type": "code",
      "source": [
        "# Set up the RecursiveCharacterTextSplitter, then Split the documents\n",
        "text_splitter = RecursiveCharacterTextSplitter(chunk_size=1000, chunk_overlap=0)\n",
        "texts = text_splitter.split_documents(pdf_texts)"
      ],
      "metadata": {
        "id": "SaOwazqlUgKj"
      },
      "execution_count": null,
      "outputs": []
    },
    {
      "cell_type": "code",
      "source": [
        "print(texts[5])\n",
        "print(len(texts))\n",
        "print(type(texts))"
      ],
      "metadata": {
        "colab": {
          "base_uri": "https://localhost:8080/"
        },
        "id": "2YDYH8CzVD7d",
        "outputId": "12e41e96-f02e-46d0-e4d8-de63c9f4a2a3"
      },
      "execution_count": null,
      "outputs": [
        {
          "output_type": "stream",
          "name": "stdout",
          "text": [
            "page_content='III of this Annual Report on Form 10-K where indicated. The Registrant’s definitive proxy statement will be filed with the U.S. Securities and \\nExchange Commission within 120 days after the end of the fiscal year to which this report relates.' metadata={'source': '/content/apple_annual_report_2023.pdf', 'page': 1}\n",
            "372\n",
            "<class 'list'>\n"
          ]
        }
      ]
    },
    {
      "cell_type": "markdown",
      "source": [
        "#Pinecone and OpenAI Embedding setup"
      ],
      "metadata": {
        "id": "ETYkL_reYQLc"
      }
    },
    {
      "cell_type": "code",
      "source": [
        "from google.colab import userdata\n",
        "import os\n",
        "import pinecone"
      ],
      "metadata": {
        "id": "9kMq7j5fbJ6L"
      },
      "execution_count": null,
      "outputs": []
    },
    {
      "cell_type": "code",
      "source": [
        "import pinecone\n",
        "\n",
        "pinecone.init(api_key='YOUR_API_KEY', environment='us-east1-gcp')\n",
        "\n",
        "## The following example creates an index without a metadata\n",
        "## configuration. By default, Pinecone indexes all metadata.\n",
        "#'rag-project is a index name, so give your own index name\n",
        "index = pinecone.create_index('rag-project', dimension=1536)"
      ],
      "metadata": {
        "id": "LToYFB6cf4ww"
      },
      "execution_count": null,
      "outputs": []
    },
    {
      "cell_type": "code",
      "source": [
        "index = pinecone.Index('rag-project')"
      ],
      "metadata": {
        "id": "PyJU4Vuhh3QQ"
      },
      "execution_count": null,
      "outputs": []
    },
    {
      "cell_type": "code",
      "source": [
        "# Examine pinecone index. Delete all vectors, if you want to start fresh\n",
        "index.describe_index_stats()\n",
        "#index.delete(deleteAll='true', namespace='rag-project')"
      ],
      "metadata": {
        "colab": {
          "base_uri": "https://localhost:8080/"
        },
        "id": "RwJpliteZlvD",
        "outputId": "1105c936-bfce-4817-b7a6-2f750d349004"
      },
      "execution_count": null,
      "outputs": [
        {
          "output_type": "execute_result",
          "data": {
            "text/plain": [
              "{'dimension': 1536,\n",
              " 'index_fullness': 0.0,\n",
              " 'namespaces': {},\n",
              " 'total_vector_count': 0}"
            ]
          },
          "metadata": {},
          "execution_count": 23
        }
      ]
    },
    {
      "cell_type": "markdown",
      "source": [
        "#Openai\n"
      ],
      "metadata": {
        "id": "lePeCbsCinyk"
      }
    },
    {
      "cell_type": "code",
      "source": [
        "import os\n",
        "import openai\n",
        "from openai import OpenAI\n",
        "import getpass\n",
        "from langchain_openai import ChatOpenAI, OpenAIEmbeddings\n",
        "from langchain_community.vectorstores import Pinecone\n",
        "os.environ['OPENAI_API_KEY'] = getpass.getpass('OpenAI API Key: OPENAI_API_KEY')"
      ],
      "metadata": {
        "id": "az7-XoG5ebqf"
      },
      "execution_count": null,
      "outputs": []
    },
    {
      "cell_type": "code",
      "source": [
        "openai_client = OpenAI()\n",
        "#assigning the model\n",
        "model = \"gpt-3.5-turbo\"\n",
        "\n",
        "# Prepare the embedding so that we can pass it to the pinecone call in the next step\n",
        "embeddings = OpenAIEmbeddings(model=\"text-embedding-ada-002\")"
      ],
      "metadata": {
        "id": "RBGgdsiFoK1Z"
      },
      "execution_count": null,
      "outputs": []
    },
    {
      "cell_type": "code",
      "source": [
        "index_name = 'rag-project'"
      ],
      "metadata": {
        "id": "BLu4nxcFimNd"
      },
      "execution_count": null,
      "outputs": []
    },
    {
      "cell_type": "code",
      "source": [
        "# The OpenAI embedding model `text-embedding-ada-002 uses 1536 dimensions`\n",
        "docsearch = Pinecone.from_documents(texts,embeddings,index_name=index_name)\n",
        "#docsearch = Pinecone.from_existing_index(index_name, embeddings)"
      ],
      "metadata": {
        "id": "ngFmaBfefyfs"
      },
      "execution_count": null,
      "outputs": []
    },
    {
      "cell_type": "code",
      "source": [
        "query = \"What has been the investment in research and development?\"\n",
        "docs = docsearch.similarity_search(query, k=5)"
      ],
      "metadata": {
        "id": "k4L3HTZjix9_"
      },
      "execution_count": null,
      "outputs": []
    },
    {
      "cell_type": "code",
      "source": [
        "docs"
      ],
      "metadata": {
        "colab": {
          "base_uri": "https://localhost:8080/"
        },
        "id": "IVjcg2uXfbg9",
        "outputId": "dcd29e72-ae33-4be5-9064-33e2ea98cbb6"
      },
      "execution_count": null,
      "outputs": [
        {
          "output_type": "execute_result",
          "data": {
            "text/plain": [
              "[Document(page_content='The Company’s ability to compete successfully depends heavily on ensuring the continuing and timely introduction of innovative \\nnew products, services and technologies to the marketplace. The Company designs and develops nearly the entire solution for \\nits products, including the hardware, operating system, numerous software applications and related services. As a result, the \\nCompany must make significant investments in R&D. There can be no assurance these investments will achieve expected \\nreturns, and the Company may not be able to develop and market new products and services successfully.\\nThe Company currently holds a significant number of patents, trademarks and copyrights and has registered, and applied to \\nregister, additional patents, trademarks and copyrights. In contrast, many of the Company’s competitors seek to compete \\nprimarily through aggressive pricing and very low cost structures, and by imitating the Company’s products and infringing on', metadata={'page': 9.0, 'source': '/content/apple_annual_report_2023.pdf'}),\n",
              " Document(page_content='Asia, with some Mac computers manufactured in the U.S. and Ireland.\\nResearch and Development\\nBecause the industries in which the Company competes are characterized by rapid technological advances, the Company’s \\nability to compete successfully depends heavily upon its ability to ensure a continual and timely flow of competitive products, \\nservices and technologies to the marketplace. The Company continues to develop new technologies to enhance existing \\nproducts and services, and to expand the range of its offerings through research and development (“R&D”), licensing of \\nintellectual property and acquisition of third-party businesses and technology.\\nIntellectual Property\\nThe Company currently holds a broad collection of intellectual property rights relating to certain aspects of its hardware devices, \\naccessories, software and services. This includes patents, designs, copyrights, trademarks and other forms of intellectual', metadata={'page': 5.0, 'source': '/content/apple_annual_report_2023.pdf'}),\n",
              " Document(page_content='property rights is an important factor in differentiating its business and that its success does depend in part on such ownership, \\nthe Company relies primarily on the innovative skills, technical competence and marketing abilities of its personnel.\\nThe Company regularly files patent, design, copyright and trademark applications to protect innovations arising from its research, \\ndevelopment, design and marketing, and is currently pursuing thousands of applications around the world. Over time, the \\nCompany has accumulated a large portfolio of issued and registered intellectual property rights around the world. No single \\nintellectual property right is solely responsible for protecting the Company’s products and services. The Company believes the \\nduration of its intellectual property rights is adequate relative to the expected lives of its products and services.\\nIn addition to Company-owned intellectual property, many of the Company’s products and services are designed to include', metadata={'page': 5.0, 'source': '/content/apple_annual_report_2023.pdf'}),\n",
              " Document(page_content='its\\xa0 intellectual property. Effective intellectual property protection is not consistently available in every country in which the \\nCompany operates. If the Company is unable to continue to develop and sell innovative new products with attractive margins or if \\ncompetitors infringe on the Company’s intellectual property, the Company’s ability to maintain a competitive advantage could be \\nmaterially adversely affected.\\nThe Company has a minority market share in the global smartphone, personal computer and tablet markets. The Company faces \\nsubstantial competition in these markets from companies that have significant technical, marketing, distribution and other \\nresources, as well as established hardware, software and digital content supplier relationships. In addition, some of the \\nCompany’s competitors have broader product lines, lower-priced products and a larger installed base of active devices.', metadata={'page': 9.0, 'source': '/content/apple_annual_report_2023.pdf'}),\n",
              " Document(page_content='The Company has faced and continues to face a significant number of patent claims relating to its cellular-enabled products, and \\nnew claims may arise in the future. For example, technology and other patent-holding companies frequently assert their patents \\nand seek royalties and often enter into litigation based on allegations of patent infringement or other violations of intellectual \\nproperty rights. The Company is vigorously defending infringement actions in courts in several U.S. jurisdictions, as well as \\ninternationally in various countries. The plaintiffs in these actions frequently seek injunctions and substantial damages.\\nRegardless of the merit of particular claims, defending against litigation or responding to government investigations can be \\nexpensive, time-consuming and disruptive to the Company’s operations. In recognition of these considerations, the Company', metadata={'page': 15.0, 'source': '/content/apple_annual_report_2023.pdf'})]"
            ]
          },
          "metadata": {},
          "execution_count": 73
        }
      ]
    },
    {
      "cell_type": "code",
      "source": [
        "def augment_query_generated(query, model):\n",
        "    messages = [\n",
        "        {\n",
        "            \"role\": \"system\",\n",
        "            \"content\": \"You are a helpful expert financial research assistant. Provide an example answer to the given question, that might be found in a document like an annual report. \"\n",
        "        },\n",
        "        {\"role\": \"user\", \"content\": query}\n",
        "    ]\n",
        "\n",
        "    response = openai_client.chat.completions.create(\n",
        "        model=model,\n",
        "        messages=messages,\n",
        "    )\n",
        "    content = response.choices[0].message.content\n",
        "    return content"
      ],
      "metadata": {
        "id": "BYUz72c2fyth"
      },
      "execution_count": null,
      "outputs": []
    },
    {
      "cell_type": "code",
      "source": [
        "original_query = \"Was there significant turnover in the executive team?\"\n",
        "hypothetical_answer = augment_query_generated(original_query,model)\n",
        "\n",
        "joint_query = f\"{original_query} {hypothetical_answer}\"\n",
        "for element in wrap(joint_query):\n",
        "  print(element)"
      ],
      "metadata": {
        "colab": {
          "base_uri": "https://localhost:8080/"
        },
        "id": "Ne9ALjxyoWsv",
        "outputId": "88c72254-fbfc-4827-fa33-8aca394f46b5"
      },
      "execution_count": null,
      "outputs": [
        {
          "output_type": "stream",
          "name": "stdout",
          "text": [
            "Was there significant turnover in the executive team? Yes, there was\n",
            "significant turnover in the executive team during the year. In the\n",
            "annual report, it is mentioned that three key executives resigned and\n",
            "were replaced by new individuals. The Chief Financial Officer, Chief\n",
            "Operating Officer, and Chief Marketing Officer all stepped down from\n",
            "their positions and were succeeded by new hires with extensive\n",
            "experience in their respective fields. The report highlights that the\n",
            "company underwent a deliberate effort to refresh its leadership team\n",
            "and bring in new perspectives and expertise to drive the company's\n",
            "growth strategy. The turnover in the executive team was seen as a\n",
            "positive development, further reinforcing the company's commitment to\n",
            "adapt to changing market dynamics and enhance its competitive\n",
            "position.\n"
          ]
        }
      ]
    },
    {
      "cell_type": "code",
      "source": [
        "results = docsearch.similarity_search(query, k=3)\n",
        "retrieved_documents = results[0:4]\n",
        "\n",
        "for doc in retrieved_documents:\n",
        "    print(doc.page_content)\n",
        "    print('')"
      ],
      "metadata": {
        "id": "wbG3IYlIqNv7",
        "colab": {
          "base_uri": "https://localhost:8080/"
        },
        "outputId": "74752b21-c97a-42c2-90ce-026992454d48"
      },
      "execution_count": null,
      "outputs": [
        {
          "output_type": "stream",
          "name": "stdout",
          "text": [
            "The Company’s ability to compete successfully depends heavily on ensuring the continuing and timely introduction of innovative \n",
            "new products, services and technologies to the marketplace. The Company designs and develops nearly the entire solution for \n",
            "its products, including the hardware, operating system, numerous software applications and related services. As a result, the \n",
            "Company must make significant investments in R&D. There can be no assurance these investments will achieve expected \n",
            "returns, and the Company may not be able to develop and market new products and services successfully.\n",
            "The Company currently holds a significant number of patents, trademarks and copyrights and has registered, and applied to \n",
            "register, additional patents, trademarks and copyrights. In contrast, many of the Company’s competitors seek to compete \n",
            "primarily through aggressive pricing and very low cost structures, and by imitating the Company’s products and infringing on\n",
            "\n",
            "Asia, with some Mac computers manufactured in the U.S. and Ireland.\n",
            "Research and Development\n",
            "Because the industries in which the Company competes are characterized by rapid technological advances, the Company’s \n",
            "ability to compete successfully depends heavily upon its ability to ensure a continual and timely flow of competitive products, \n",
            "services and technologies to the marketplace. The Company continues to develop new technologies to enhance existing \n",
            "products and services, and to expand the range of its offerings through research and development (“R&D”), licensing of \n",
            "intellectual property and acquisition of third-party businesses and technology.\n",
            "Intellectual Property\n",
            "The Company currently holds a broad collection of intellectual property rights relating to certain aspects of its hardware devices, \n",
            "accessories, software and services. This includes patents, designs, copyrights, trademarks and other forms of intellectual\n",
            "\n",
            "property rights is an important factor in differentiating its business and that its success does depend in part on such ownership, \n",
            "the Company relies primarily on the innovative skills, technical competence and marketing abilities of its personnel.\n",
            "The Company regularly files patent, design, copyright and trademark applications to protect innovations arising from its research, \n",
            "development, design and marketing, and is currently pursuing thousands of applications around the world. Over time, the \n",
            "Company has accumulated a large portfolio of issued and registered intellectual property rights around the world. No single \n",
            "intellectual property right is solely responsible for protecting the Company’s products and services. The Company believes the \n",
            "duration of its intellectual property rights is adequate relative to the expected lives of its products and services.\n",
            "In addition to Company-owned intellectual property, many of the Company’s products and services are designed to include\n",
            "\n"
          ]
        }
      ]
    },
    {
      "cell_type": "markdown",
      "source": [
        "#Genetating Multiple Query"
      ],
      "metadata": {
        "id": "CV-77L8KOjwp"
      }
    },
    {
      "cell_type": "code",
      "source": [
        "def augment_multiple_query(query, model):\n",
        "    messages = [\n",
        "        {\n",
        "            \"role\": \"system\",\n",
        "            \"content\": \"You are a helpful expert financial research assistant. Your users are asking questions about an annual report. \"\n",
        "            \"Suggest up to five additional related questions to help them find the information they need, for the provided question. \"\n",
        "            \"Suggest only short questions without compound sentences. Suggest a variety of questions that cover different aspects of the topic.\"\n",
        "            \"Make sure they are complete questions, and that they are related to the original question.\"\n",
        "            \"Output one question per line. Do not number the questions.\"\n",
        "        },\n",
        "        {\"role\": \"user\", \"content\": query}\n",
        "    ]\n",
        "\n",
        "    response = openai_client.chat.completions.create(\n",
        "        model=model,\n",
        "        messages=messages,\n",
        "    )\n",
        "    content = response.choices[0].message.content\n",
        "    content = content.split(\"\\n\")\n",
        "    return content"
      ],
      "metadata": {
        "id": "451ofE6ztUyw"
      },
      "execution_count": null,
      "outputs": []
    },
    {
      "cell_type": "code",
      "source": [
        "original_query = \"What are the main sources of revenue for the company?\"\n",
        "augmented_queries = augment_multiple_query(original_query,model)\n",
        "\n",
        "for query in augmented_queries:\n",
        "    print(query)"
      ],
      "metadata": {
        "colab": {
          "base_uri": "https://localhost:8080/"
        },
        "id": "CZ1Yrg_4tqDo",
        "outputId": "1932920b-ea5e-40fe-abf5-66f81a6e5921"
      },
      "execution_count": null,
      "outputs": [
        {
          "output_type": "stream",
          "name": "stdout",
          "text": [
            "What is the company's net income for the year? \n",
            "What were the company's operating expenses for the year? \n",
            "What is the breakdown of revenue by product/service category? \n",
            "What is the company's revenue growth compared to previous years? \n",
            "What percentage of the company's revenue comes from international markets?\n"
          ]
        }
      ]
    },
    {
      "cell_type": "code",
      "source": [
        "query = [original_query] + augmented_queries"
      ],
      "metadata": {
        "id": "vT7mF7fCx3LI"
      },
      "execution_count": null,
      "outputs": []
    },
    {
      "cell_type": "code",
      "source": [
        "def perform_similarity_search(question, k= 10):\n",
        "    results = docsearch.similarity_search(question, k=k)\n",
        "    return {question: results}"
      ],
      "metadata": {
        "id": "7Drdw2gKSi3J"
      },
      "execution_count": null,
      "outputs": []
    },
    {
      "cell_type": "code",
      "source": [
        "query_results_dict = {}\n",
        "for qes in query:\n",
        "    query_results_dict.update(perform_similarity_search(qes))"
      ],
      "metadata": {
        "id": "ugUZrGWxSuX0"
      },
      "execution_count": null,
      "outputs": []
    },
    {
      "cell_type": "code",
      "source": [
        "print(query_results_dict)"
      ],
      "metadata": {
        "colab": {
          "base_uri": "https://localhost:8080/"
        },
        "id": "JtATlwXLMaeO",
        "outputId": "c7f34fec-4052-4165-b4d8-526658789da8"
      },
      "execution_count": null,
      "outputs": [
        {
          "output_type": "stream",
          "name": "stdout",
          "text": [
            "{'What are the main sources of revenue for the company?': [Document(page_content='Business Seasonality and Product Introductions\\nThe Company has historically experienced higher net sales in its first quarter compared to other quarters in its fiscal year due in \\npart to seasonal holiday demand. Additionally, new product and service introductions can significantly impact net sales, cost of \\nsales and operating expenses. The timing of product introductions can also impact the Company’s net sales to its indirect \\ndistribution channels as these channels are filled with new inventory following a product launch, and channel inventory of an \\nolder product often declines as the launch of a newer product approaches. Net sales can also be affected when consumers and \\ndistributors anticipate a product introduction.\\nHuman Capital\\nThe Company believes it has a talented, motivated and dedicated team, and works to create an inclusive, safe and supportive \\nenvironment for all of its team members. As of September\\xa0 24, 2022 , the Company had approximately 164,000 full-time', metadata={'page': 6.0, 'source': '/content/apple_annual_report_2023.pdf'}), Document(page_content='For the sale of third-party products where the Company obtains control of the product before transferring it to the customer, the \\nCompany recognizes revenue based on the gross amount billed to customers. The Company considers multiple factors when \\ndetermining whether it obtains control of third-party products, including evaluating if it can establish the price of the product, \\nretains inventory risk for tangible products or has the responsibility for ensuring acceptability of the product. For third-party \\napplications sold through the App Store and certain digital content sold through the Company’s other digital content stores, the \\nCompany does not obtain control of the product before transferring it to the customer. Therefore, the Company accounts for such \\nsales on a net basis by recognizing in Services net sales only the commission it retains.\\nThe Company records revenue net of taxes collected from customers that are remitted to governmental authorities, with the', metadata={'page': 37.0, 'source': '/content/apple_annual_report_2023.pdf'}), Document(page_content='The Company is focused on expanding its market opportunities related to smartphones, personal computers, tablets, wearables \\nand accessories, and services. The Company faces substantial competition in these markets from companies that have \\nsignificant technical, marketing, distribution and other resources, as well as established hardware, software, and service offerings \\nwith large customer bases. In addition, some of the Company’s competitors have broader product lines, lower-priced products \\nand a larger installed base of active devices. Competition has been particularly intense as competitors have aggressively cut \\nprices and lowered product margins. Certain competitors have the resources, experience or cost structures to provide products \\nat little or no profit or even at a loss. The Company’s services compete with business models that provide content to users for', metadata={'page': 5.0, 'source': '/content/apple_annual_report_2023.pdf'}), Document(page_content='prices or model-driven valuations using significant inputs derived from or corroborated by observable market data.\\nIncome Taxes\\nThe Company records certain deferred tax assets and liabilities in connection with the minimum tax on certain foreign earnings', metadata={'page': 38.0, 'source': '/content/apple_annual_report_2023.pdf'}), Document(page_content='part to seasonal holiday demand. Additionally, new product and service introductions can significantly impact net sales, cost of \\nsales and operating expenses. Further, the Company generates a significant portion of its net sales from a single product and a \\ndecline in demand for that product could significantly impact quarterly net sales. The Company could also be subject to \\nunexpected developments, such as lower-than-anticipated demand for the Company’s products or services, issues with new \\nproduct or service introductions, information technology system failures or network disruptions, or failure of one of the \\nCompany’s logistics, components supply, or manufacturing partners.\\nApple Inc. | 2022  Form 10-K | 15', metadata={'page': 17.0, 'source': '/content/apple_annual_report_2023.pdf'}), Document(page_content='free and use illegitimate means to obtain third-party digital content and applications. The Company faces significant competition \\nas competitors imitate the Company’s product features and applications within their products, or collaborate to offer integrated \\nsolutions that are more competitive than those they currently offer.\\nSupply of Components\\nAlthough most components essential to the Company’s business are generally available from multiple sources, certain \\ncomponents are currently obtained from single or limited sources. The Company also competes for various components with \\nother participants in the markets for smartphones, personal computers, tablets, wearables and accessories. Therefore, many \\ncomponents used by the Company, including those that are available from multiple sources, are at times subject to industry-wide \\nshortage and significant commodity pricing fluctuations.', metadata={'page': 5.0, 'source': '/content/apple_annual_report_2023.pdf'}), Document(page_content='ownership of products or services are transferred to its customers. For most of the Company’s Products net sales, control \\ntransfers when products are shipped. For the Company’s Services net sales, control transfers over time as services are \\ndelivered. Payment for Products and Services net sales is collected within a short period following transfer of control or \\ncommencement of delivery of services, as applicable.\\nThe Company records reductions to Products net sales related to future product returns, price protection and other customer \\nincentive programs based on the Company’s expectations and historical experience.\\nFor arrangements with multiple performance obligations, which represent promises within an arrangement that are distinct, the \\nCompany allocates revenue to all distinct performance obligations based on their relative stand-alone selling prices (“SSPs”).', metadata={'page': 36.0, 'source': '/content/apple_annual_report_2023.pdf'}), Document(page_content='revenue represented a moderately higher proportion of net sales  in 2022  and 2021 .\\nAs of September\\xa024, 2022  and September\\xa025, 2021 , the Company had total deferred revenue of $12.4 billion  and $11.9\\xa0billion , \\nrespectively. As of September\\xa024, 2022 , the Company expects 64% of total deferred revenue to be realized in less than a year, \\n27% within one-to-two years, 7% within two-to-three years and 2% in greater than three years.\\nApple Inc. | 2022  Form 10-K | 37', metadata={'page': 39.0, 'source': '/content/apple_annual_report_2023.pdf'}), Document(page_content='included in the first fiscal quarter every five or six years to realign the Company’s fiscal quarters with calendar quarters , which will  \\noccur in the first quarter of the Company’s fiscal year ending September 30, 2023 . The Company’s fiscal years 2022 , 2021  and \\n2020  spanned 52 weeks each. Unless otherwise stated, references to particular years, quarters, months and periods refer to the \\nCompany’s fiscal years ended in September and the associated quarters, months and periods of those fiscal years .\\nRevenue Recognition\\nNet sales consist of revenue from the sale of iPhone, Mac, iPad, Services and other products. The Company recognizes revenue \\nat the amount to which it expects to be entitled when control of the products or services is transferred to its customers. Control is \\ngenerally transferred when the Company has a present right to payment and title and the significant risks and rewards of', metadata={'page': 36.0, 'source': '/content/apple_annual_report_2023.pdf'}), Document(page_content='direct sales force. The Company also employs a variety of indirect distribution channels, such as third-party cellular network \\ncarriers, wholesalers, retailers and resellers. During 2022 , the Company’s net sales through its direct and indirect distribution \\nchannels accounted for 38% and 62%, respectively, of total net sales.\\nCompetition\\nThe markets for the Company’s products and services are highly competitive, and are characterized by aggressive price \\ncompetition and resulting downward pressure on gross margins, frequent introduction of new products and services, short \\nproduct life cycles, evolving industry standards, continual improvement in product price and performance characteristics, rapid \\nadoption of technological advancements by competitors, and price sensitivity on the part of consumers and businesses. Many of \\nthe Company’s competitors seek to compete primarily through aggressive pricing and very low cost structures, and by imitating', metadata={'page': 4.0, 'source': '/content/apple_annual_report_2023.pdf'})], \"What is the company's net income for the year? \": [Document(page_content='Apple Inc.\\nCONSOLIDATED STATEMENTS OF OPERATIONS\\n(In millions, except number of shares which are reflected in thousands and per share amounts)\\nYears ended\\nSeptember 24,\\n2022September 25,\\n2021September 26,\\n2020\\nNet sales:\\n   Products $ 316,199 $ 297,392 $ 220,747 \\n   Services  78,129  68,425  53,768 \\nTotal net sales  394,328  365,817  274,515 \\nCost of sales:\\n   Products  201,471  192,266  151,286 \\n   Services  22,075  20,715  18,273 \\nTotal cost of sales  223,546  212,981  169,559 \\nGross margin  170,782  152,836  104,956 \\nOperating expenses:\\nResearch and development  26,251  21,914  18,752 \\nSelling, general and administrative  25,094  21,973  19,916 \\nTotal operating expenses  51,345  43,887  38,668 \\nOperating income  119,437  108,949  66,288 \\nOther income/(expense), net  (334)  258  803 \\nIncome before provision for income taxes  119,103  109,207  67,091 \\nProvision for income taxes  19,300  14,527  9,680 \\nNet income $ 99,803 $ 94,680 $ 57,411 \\nEarnings per share:', metadata={'page': 31.0, 'source': '/content/apple_annual_report_2023.pdf'}), Document(page_content='Apple Inc.\\nCONSOLIDATED STATEMENTS OF COMPREHENSIVE INCOME\\n(In millions)\\nYears ended\\nSeptember 24,\\n2022September 25,\\n2021September 26,\\n2020\\nNet income $ 99,803 $ 94,680 $ 57,411 \\nOther comprehensive income/(loss):\\nChange in foreign currency translation, net of tax  (1,511)  501  88 \\nChange in unrealized gains/losses on derivative instruments, net of tax:\\nChange in fair value of derivative instruments  3,212  32  79 \\nAdjustment for net (gains)/losses realized and included in net \\nincome  (1,074)  1,003  (1,264) \\nTotal change in unrealized gains/losses on derivative \\ninstruments  2,138  1,035  (1,185) \\nChange in unrealized gains/losses on marketable debt securities, net of \\ntax:\\nChange in fair value of marketable debt securities  (12,104)  (694)  1,202 \\nAdjustment for net (gains)/losses realized and included in net \\nincome  205  (273)  (63) \\nTotal change in unrealized gains/losses on marketable debt \\nsecurities  (11,899)  (967)  1,139', metadata={'page': 32.0, 'source': '/content/apple_annual_report_2023.pdf'}), Document(page_content='Note 11 – Segment Information and Geographic Data\\nThe following table shows information by reportable segment for 2022 , 2021  and 2020  (in millions):\\n2022 2021 2020\\nAmericas:\\nNet sales $ 169,658 $ 153,306 $ 124,556 \\nOperating income $ 62,683 $ 53,382 $ 37,722 \\nEurope:\\nNet sales $ 95,118 $ 89,307 $ 68,640 \\nOperating income $ 35,233 $ 32,505 $ 22,170 \\nGreater China:\\nNet sales $ 74,200 $ 68,366 $ 40,308 \\nOperating income $ 31,153 $ 28,504 $ 15,261 \\nJapan:\\nNet sales $ 25,977 $ 28,482 $ 21,418 \\nOperating income $ 12,257 $ 12,798 $ 9,279 \\nRest of Asia Pacific:\\nNet sales $ 29,375 $ 26,356 $ 19,593 \\nOperating income $ 11,569 $ 9,817 $ 6,808 \\nA reconciliation of the Company’s segment operating income to the Consolidated Statements of Operations for 2022 , 2021  and \\n2020  is as follows (in millions):\\n2022 2021 2020\\nSegment operating income $ 152,895 $ 137,006 $ 91,240 \\nResearch and development expense  (26,251)  (21,914)  (18,752) \\nOther corporate expenses, net  (7,207)  (6,143)  (6,200)', metadata={'page': 51.0, 'source': '/content/apple_annual_report_2023.pdf'}), Document(page_content='Business Seasonality and Product Introductions\\nThe Company has historically experienced higher net sales in its first quarter compared to other quarters in its fiscal year due in \\npart to seasonal holiday demand. Additionally, new product and service introductions can significantly impact net sales, cost of \\nsales and operating expenses. The timing of product introductions can also impact the Company’s net sales to its indirect \\ndistribution channels as these channels are filled with new inventory following a product launch, and channel inventory of an \\nolder product often declines as the launch of a newer product approaches. Net sales can also be affected when consumers and \\ndistributors anticipate a product introduction.\\nHuman Capital\\nThe Company believes it has a talented, motivated and dedicated team, and works to create an inclusive, safe and supportive \\nenvironment for all of its team members. As of September\\xa0 24, 2022 , the Company had approximately 164,000 full-time', metadata={'page': 6.0, 'source': '/content/apple_annual_report_2023.pdf'}), Document(page_content='Note 4 – Consolidated Financial Statement Details\\nThe following tables show the Company’s consolidated financial statement details as of September\\xa024, 2022  and September\\xa025, \\n2021  (in millions):\\nProperty, Plant and Equipment, Net\\n2022 2021\\nLand and buildings $ 22,126 $ 20,041 \\nMachinery, equipment and internal-use software  81,060  78,659 \\nLeasehold improvements  11,271  11,023 \\nGross property, plant and equipment  114,457  109,723 \\nAccumulated depreciation and amortization  (72,340)  (70,283) \\nTotal property, plant and equipment, net $ 42,117 $ 39,440 \\nOther Non-Current Liabilities\\n2022 2021\\nLong-term taxes payable $ 16,657 $ 24,689 \\nOther non-current liabilities  32,485  28,636 \\nTotal other non-current liabilities $ 49,142 $ 53,325 \\nOther Income/(Expense), Net\\nThe following table shows the detail of OI&E for 2022 , 2021  and 2020  (in millions):\\n2022 2021 2020\\nInterest and dividend income $ 2,825 $ 2,843 $ 3,763 \\nInterest expense  (2,931)  (2,645)  (2,873)', metadata={'page': 43.0, 'source': '/content/apple_annual_report_2023.pdf'}), Document(page_content='Other Income/(Expense), Net\\nOther income/(expense), net (“OI&E”) for 2022 , 2021  and 2020  was as follows (dollars in millions):\\n2022 Change 2021 Change 2020\\nInterest and dividend income $ 2,825 $ 2,843 $ 3,763 \\nInterest expense  (2,931)  (2,645)  (2,873) \\nOther income/(expense), net  (228)  60  (87) \\nTotal other income/(expense), net $ (334)  (229) % $ 258  (68) % $ 803 \\nThe decrease in OI&E during 2022  compared to 2021  was due primarily to higher realized losses on debt securities, unfavorable \\nfair value adjustments on equity securities and higher interest expense, partially offset by higher foreign exchange gains.\\nProvision for Income Taxes\\nProvision for income taxes, effective tax rate and statutory federal income tax rate for 2022 , 2021  and 2020  were as follows \\n(dollars in millions):\\n2022 2021 2020\\nProvision for income taxes $ 19,300 $ 14,527 $ 9,680 \\nEffective tax rate  16.2%  13.3%  14.4% \\nStatutory federal income tax rate  21%  21%  21%', metadata={'page': 26.0, 'source': '/content/apple_annual_report_2023.pdf'}), Document(page_content='Other income/(expense), net  (228)  60  (87) \\nTotal other income/(expense), net $ (334) $ 258 $ 803 \\nNote 5 – Income Taxes\\nProvision for Income Taxes and Effective Tax Rate\\nThe provision for income taxes for 2022 , 2021  and 2020 , consisted of the following (in millions):\\n2022 2021 2020\\nFederal:\\nCurrent $ 7,890 $ 8,257 $ 6,306 \\nDeferred  (2,265)  (7,176)  (3,619) \\nTotal  5,625  1,081  2,687 \\nState:\\nCurrent  1,519  1,620  455 \\nDeferred  84  (338)  21 \\nTotal  1,603  1,282  476 \\nForeign:\\nCurrent  8,996  9,424  3,134 \\nDeferred  3,076  2,740  3,383 \\nTotal  12,072  12,164  6,517 \\nProvision for income taxes $ 19,300 $ 14,527 $ 9,680 \\nThe foreign provision for income taxes is based on foreign pretax earnings of $71.3 billion , $68.7 billion  and $38.1 billion  in 2022 , \\n2021  and 2020 , respectively.\\nApple Inc. | 2022  Form 10-K | 41', metadata={'page': 43.0, 'source': '/content/apple_annual_report_2023.pdf'}), Document(page_content='Apple Inc.\\nCONSO LIDATED STATEMENTS OF CASH FLOWS\\n(In millions)\\nYears ended\\nSeptember 24,\\n2022September 25,\\n2021September 26,\\n2020\\nCash, cash equivalents and restricted cash, beginning balances $ 35,929 $ 39,789 $ 50,224 \\nOperating activities:\\nNet income  99,803  94,680  57,411 \\nAdjustments to reconcile net income to cash generated by operating activities:\\nDepreciation and amortization  11,104  11,284  11,056 \\nShare-based compensation expense  9,038  7,906  6,829 \\nDeferred income tax expense/(benefit)  895  (4,774)  (215) \\nOther  111  (147)  (97) \\nChanges in operating assets and liabilities:\\nAccounts receivable, net  (1,823)  (10,125)  6,917 \\nInventories  1,484  (2,642)  (127) \\nVendor non-trade receivables  (7,520)  (3,903)  1,553 \\nOther current and non-current assets  (6,499)  (8,042)  (9,588) \\nAccounts payable  9,448  12,326  (4,062) \\nDeferred revenue  478  1,676  2,081 \\nOther current and non-current liabilities  5,632  5,799  8,916', metadata={'page': 35.0, 'source': '/content/apple_annual_report_2023.pdf'}), Document(page_content='Item 8 of this Form 10-K in the Notes to Consolidated Financial Statements in Note 11, “Segment Information and Geographic \\nData.”\\nThe following table shows net sales by reportable segment for 2022 , 2021  and 2020  (dollars in millions):\\n2022 Change 2021 Change 2020\\nNet sales by reportable segment:\\nAmericas $ 169,658  11 % $ 153,306  23 % $ 124,556 \\nEurope  95,118  7 %  89,307  30 %  68,640 \\nGreater China  74,200  9 %  68,366  70 %  40,308 \\nJapan  25,977  (9) %  28,482  33 %  21,418 \\nRest of Asia Pacific  29,375  11 %  26,356  35 %  19,593 \\nTotal net sales $ 394,328  8 % $ 365,817  33 % $ 274,515 \\nAmericas\\nAmericas net sales increased during 2022  compared to 2021  due primarily to higher net sales of iPhone, Services and Mac.\\nEurope\\nEurope net sales increased during 2022  compared to 2021  due primarily to higher net sales of iPhone and Services. The \\nweakness in foreign currencies relative to the U.S. dollar had a net unfavorable year-over-year impact on Europe net sales', metadata={'page': 24.0, 'source': '/content/apple_annual_report_2023.pdf'}), Document(page_content='Total operating income $ 119,437 $ 108,949 $ 66,288 \\nThe U.S. and China were the only countries that accounted for more than 10% of the Company’s net sales in 2022 , 2021  and \\n2020 . Net sales for 2022 , 2021  and 2020  and long-lived assets as of September\\xa024, 2022  and September\\xa025, 2021  were as \\nfollows (in millions):\\n2022 2021 2020\\nNet sales:\\nU.S. $ 147,859 $ 133,803 $ 109,197 \\nChina (1) 74,200  68,366  40,308 \\nOther countries  172,269  163,648  125,010 \\nTotal net sales $ 394,328 $ 365,817 $ 274,515 \\n2022 2021\\nLong-lived assets:\\nU.S. $ 31,119 $ 28,203 \\nChina (1) 7,260  7,521 \\nOther countries  3,738  3,716 \\nTotal long-lived assets $ 42,117 $ 39,440 \\n(1) China includes Hong Kong and Taiwan.  Long-lived assets located in China consist primarily of assets related to product \\nmanufacturing, retail stores and related infrastructure .\\nApple Inc. | 2022  Form 10-K | 49', metadata={'page': 51.0, 'source': '/content/apple_annual_report_2023.pdf'})], \"What were the company's operating expenses for the year? \": [Document(page_content='Selling, general and administrative $ 25,094  14 % $ 21,973  10 % $ 19,916 \\nPercentage of total net sales  6%  6%  7% \\nTotal operating expenses $ 51,345  17 % $ 43,887  13 % $ 38,668 \\nPercentage of total net sales  13%  12%  14% \\nResearch and Development\\nThe year-over-year growth in R&D expense in 2022  was driven primarily by increases in headcount-related expenses and \\nengineering program costs.\\nSelling, General and Administrative\\nThe year-over-year growth in selling, general and administrative expense in 2022  was driven primarily by increases in \\nheadcount-related expenses, advertising and professional services.\\nApple Inc. | 2022  Form 10-K | 23', metadata={'page': 25.0, 'source': '/content/apple_annual_report_2023.pdf'}), Document(page_content='Apple Inc.\\nCONSOLIDATED STATEMENTS OF OPERATIONS\\n(In millions, except number of shares which are reflected in thousands and per share amounts)\\nYears ended\\nSeptember 24,\\n2022September 25,\\n2021September 26,\\n2020\\nNet sales:\\n   Products $ 316,199 $ 297,392 $ 220,747 \\n   Services  78,129  68,425  53,768 \\nTotal net sales  394,328  365,817  274,515 \\nCost of sales:\\n   Products  201,471  192,266  151,286 \\n   Services  22,075  20,715  18,273 \\nTotal cost of sales  223,546  212,981  169,559 \\nGross margin  170,782  152,836  104,956 \\nOperating expenses:\\nResearch and development  26,251  21,914  18,752 \\nSelling, general and administrative  25,094  21,973  19,916 \\nTotal operating expenses  51,345  43,887  38,668 \\nOperating income  119,437  108,949  66,288 \\nOther income/(expense), net  (334)  258  803 \\nIncome before provision for income taxes  119,103  109,207  67,091 \\nProvision for income taxes  19,300  14,527  9,680 \\nNet income $ 99,803 $ 94,680 $ 57,411 \\nEarnings per share:', metadata={'page': 31.0, 'source': '/content/apple_annual_report_2023.pdf'}), Document(page_content='Services gross margin increased during 2022  compared to 2021  due primarily to higher Services net sales, partially offset by the \\nweakness in foreign currencies relative to the U.S. dollar.\\nServices gross margin percentage increased during 2022  compared to 2021  due primarily to improved leverage and a different \\nServices mix, partially offset by the weakness in foreign currencies relative to the U.S. dollar.\\nThe Company’s future gross margins can be impacted by a variety of factors, as discussed in Part I, Item 1A of this Form 10-K \\nunder the heading “Risk Factors.” As a result, the Company believes, in general, gross margins will be subject to volatility and \\ndownward pressure.\\nOperating Expenses\\nOperating expenses for 2022 , 2021  and 2020  were as follows (dollars in millions):\\n2022 Change 2021 Change 2020\\nResearch and development $ 26,251  20 % $ 21,914  17 % $ 18,752 \\nPercentage of total net sales  7%  6%  7%', metadata={'page': 25.0, 'source': '/content/apple_annual_report_2023.pdf'}), Document(page_content='Apple Inc.\\nCONSO LIDATED STATEMENTS OF CASH FLOWS\\n(In millions)\\nYears ended\\nSeptember 24,\\n2022September 25,\\n2021September 26,\\n2020\\nCash, cash equivalents and restricted cash, beginning balances $ 35,929 $ 39,789 $ 50,224 \\nOperating activities:\\nNet income  99,803  94,680  57,411 \\nAdjustments to reconcile net income to cash generated by operating activities:\\nDepreciation and amortization  11,104  11,284  11,056 \\nShare-based compensation expense  9,038  7,906  6,829 \\nDeferred income tax expense/(benefit)  895  (4,774)  (215) \\nOther  111  (147)  (97) \\nChanges in operating assets and liabilities:\\nAccounts receivable, net  (1,823)  (10,125)  6,917 \\nInventories  1,484  (2,642)  (127) \\nVendor non-trade receivables  (7,520)  (3,903)  1,553 \\nOther current and non-current assets  (6,499)  (8,042)  (9,588) \\nAccounts payable  9,448  12,326  (4,062) \\nDeferred revenue  478  1,676  2,081 \\nOther current and non-current liabilities  5,632  5,799  8,916', metadata={'page': 35.0, 'source': '/content/apple_annual_report_2023.pdf'}), Document(page_content='on purchases of output of the underlying leased assets. Lease costs associated with fixed payments on the Company’s operating \\nleases were $1.9 billion , $1.7 billion  and $1.5 billion  for 2022 , 2021  and 2020 , respectively. Lease costs associated with variable \\npayments on the Company’s leases were $14.9 billion , $12.9 billion  and $9.3 billion  for 2022 , 2021  and 2020 , respectively.\\nThe Company made $1.8 billion , $1.4 billion  and $1.5 billion  of fixed cash payments related to operating leases in 2022 , 2021  \\nand 2020 , respectively. Noncash activities involving right-of-use (“ROU”) assets obtained in exchange for lease liabilities were \\n$2.8 billion  for 2022 , $3.3 billion  for 2021  and $10.5 billion  for 2020 , including the impact of adopting the Financial Accounting \\nStandards Board’s Accounting Standards Update No. 2016-02, Leases (Topic 842) in the first quarter of 2020.\\nApple Inc. | 2022  Form 10-K | 43', metadata={'page': 45.0, 'source': '/content/apple_annual_report_2023.pdf'}), Document(page_content='Note 4 – Consolidated Financial Statement Details\\nThe following tables show the Company’s consolidated financial statement details as of September\\xa024, 2022  and September\\xa025, \\n2021  (in millions):\\nProperty, Plant and Equipment, Net\\n2022 2021\\nLand and buildings $ 22,126 $ 20,041 \\nMachinery, equipment and internal-use software  81,060  78,659 \\nLeasehold improvements  11,271  11,023 \\nGross property, plant and equipment  114,457  109,723 \\nAccumulated depreciation and amortization  (72,340)  (70,283) \\nTotal property, plant and equipment, net $ 42,117 $ 39,440 \\nOther Non-Current Liabilities\\n2022 2021\\nLong-term taxes payable $ 16,657 $ 24,689 \\nOther non-current liabilities  32,485  28,636 \\nTotal other non-current liabilities $ 49,142 $ 53,325 \\nOther Income/(Expense), Net\\nThe following table shows the detail of OI&E for 2022 , 2021  and 2020  (in millions):\\n2022 2021 2020\\nInterest and dividend income $ 2,825 $ 2,843 $ 3,763 \\nInterest expense  (2,931)  (2,645)  (2,873)', metadata={'page': 43.0, 'source': '/content/apple_annual_report_2023.pdf'}), Document(page_content='expenses managed outside the reportable segments. Costs excluded from segment operating income include various corporate \\nexpenses such as research and development  (“R&D”),  corporate marketing expenses, certain share-based compensation \\nexpenses, income taxes, various nonrecurring charges and other separately managed general and administrative costs. The \\nCompany does not include intercompany transfers between segments for management reporting purposes.\\nNote 2  – Revenue\\nNet sales disaggregated  by significant products and services for 2022 , 2021  and 2020  were as follows (in millions):\\n2022 2021 2020\\niPhone (1)$ 205,489 $ 191,973 $ 137,781 \\nMac (1) 40,177  35,190  28,622 \\niPad (1) 29,292  31,862  23,724 \\nWearables, Home and Accessories (1)(2) 41,241  38,367  30,620 \\nServices (3) 78,129  68,425  53,768 \\nTotal net sales (4)$ 394,328 $ 365,817 $ 274,515 \\n(1) Products net sales include amortization of the deferred value of unspecified software upgrade rights, which are bundled in', metadata={'page': 39.0, 'source': '/content/apple_annual_report_2023.pdf'}), Document(page_content='Note 11 – Segment Information and Geographic Data\\nThe following table shows information by reportable segment for 2022 , 2021  and 2020  (in millions):\\n2022 2021 2020\\nAmericas:\\nNet sales $ 169,658 $ 153,306 $ 124,556 \\nOperating income $ 62,683 $ 53,382 $ 37,722 \\nEurope:\\nNet sales $ 95,118 $ 89,307 $ 68,640 \\nOperating income $ 35,233 $ 32,505 $ 22,170 \\nGreater China:\\nNet sales $ 74,200 $ 68,366 $ 40,308 \\nOperating income $ 31,153 $ 28,504 $ 15,261 \\nJapan:\\nNet sales $ 25,977 $ 28,482 $ 21,418 \\nOperating income $ 12,257 $ 12,798 $ 9,279 \\nRest of Asia Pacific:\\nNet sales $ 29,375 $ 26,356 $ 19,593 \\nOperating income $ 11,569 $ 9,817 $ 6,808 \\nA reconciliation of the Company’s segment operating income to the Consolidated Statements of Operations for 2022 , 2021  and \\n2020  is as follows (in millions):\\n2022 2021 2020\\nSegment operating income $ 152,895 $ 137,006 $ 91,240 \\nResearch and development expense  (26,251)  (21,914)  (18,752) \\nOther corporate expenses, net  (7,207)  (6,143)  (6,200)', metadata={'page': 51.0, 'source': '/content/apple_annual_report_2023.pdf'}), Document(page_content='Cash generated by operating activities  122,151  104,038  80,674 \\nInvesting activities:\\nPurchases of marketable securities  (76,923)  (109,558)  (114,938) \\nProceeds from maturities of marketable securities  29,917  59,023  69,918 \\nProceeds from sales of marketable securities  37,446  47,460  50,473 \\nPayments for acquisition of property, plant and equipment  (10,708)  (11,085)  (7,309) \\nPayments made in connection with business acquisitions, net  (306)  (33)  (1,524) \\nOther  (1,780)  (352)  (909) \\nCash used in investing activities  (22,354)  (14,545)  (4,289) \\nFinancing activities:\\nPayments for taxes related to net share settlement of equity awards  (6,223)  (6,556)  (3,634) \\nPayments for dividends and dividend equivalents  (14,841)  (14,467)  (14,081) \\nRepurchases of common stock  (89,402)  (85,971)  (72,358) \\nProceeds from issuance of term debt, net  5,465  20,393  16,091 \\nRepayments of term debt  (9,543)  (8,750)  (12,629)', metadata={'page': 35.0, 'source': '/content/apple_annual_report_2023.pdf'}), Document(page_content='assets, which range from five to seven years . Depreciation and amortization expense on property, plant  and equipment was $8.7 \\nbillion , $9.5 billion  and $9.7 billion  during 2022 , 2021  and 2020 , respectively.\\nDerivative Instruments and Hedging\\nAll derivative instruments are recorded in the Consolidated Balance Sheets at fair value. The accounting treatment for derivative \\ngains and losses is based on intended use and hedge designation.\\nGains and losses arising from amounts that are included in the assessment of cash flow hedge effectiveness are initially deferred \\nin accumulated other comprehensive income/(loss) (“AOCI”) and subsequently reclassified into earnings when the hedged \\ntransaction affects earnings, and in the same line item in the Consolidated Statements of Operations. For options designated as \\ncash flow hedges, the Company excludes time value from the assessment of hedge effectiveness and recognizes it on a', metadata={'page': 38.0, 'source': '/content/apple_annual_report_2023.pdf'})], 'What is the breakdown of revenue by product/service category? ': [Document(page_content='Products and Services Performance\\nThe following table shows net sales by category for 2022 , 2021  and 2020  (dollars in millions):\\n2022 Change 2021 Change 2020\\nNet sales by category:\\niPhone (1)$ 205,489  7 % $ 191,973  39 % $ 137,781 \\nMac (1) 40,177  14 %  35,190  23 %  28,622 \\niPad (1) 29,292  (8) %  31,862  34 %  23,724 \\nWearables, Home and Accessories (1)(2) 41,241  7 %  38,367  25 %  30,620 \\nServices (3) 78,129  14 %  68,425  27 %  53,768 \\nTotal net sales $ 394,328  8 % $ 365,817  33 % $ 274,515 \\n(1) Products net sales include amortization of the deferred value of unspecified software upgrade rights, which are bundled in \\nthe sales price of the respective product.\\n(2) Wearables, Home and Accessories net sales include sales of AirPods, Apple TV, Apple Watch, Beats products, HomePod \\nmini and accessories.\\n(3) Services net sales include sales from the Company’s advertising, AppleCare, cloud, digital content, payment and other', metadata={'page': 23.0, 'source': '/content/apple_annual_report_2023.pdf'}), Document(page_content='expenses managed outside the reportable segments. Costs excluded from segment operating income include various corporate \\nexpenses such as research and development  (“R&D”),  corporate marketing expenses, certain share-based compensation \\nexpenses, income taxes, various nonrecurring charges and other separately managed general and administrative costs. The \\nCompany does not include intercompany transfers between segments for management reporting purposes.\\nNote 2  – Revenue\\nNet sales disaggregated  by significant products and services for 2022 , 2021  and 2020  were as follows (in millions):\\n2022 2021 2020\\niPhone (1)$ 205,489 $ 191,973 $ 137,781 \\nMac (1) 40,177  35,190  28,622 \\niPad (1) 29,292  31,862  23,724 \\nWearables, Home and Accessories (1)(2) 41,241  38,367  30,620 \\nServices (3) 78,129  68,425  53,768 \\nTotal net sales (4)$ 394,328 $ 365,817 $ 274,515 \\n(1) Products net sales include amortization of the deferred value of unspecified software upgrade rights, which are bundled in', metadata={'page': 39.0, 'source': '/content/apple_annual_report_2023.pdf'}), Document(page_content='Gross Margin\\nProducts and Services gross margin and gross margin percentage for 2022 , 2021  and 2020  were as follows (dollars in millions):\\n2022 2021 2020\\nGross margin:\\nProducts $ 114,728 $ 105,126 $ 69,461 \\nServices  56,054  47,710  35,495 \\nTotal gross margin $ 170,782 $ 152,836 $ 104,956 \\nGross margin percentage:\\nProducts  36.3%  35.3%  31.5% \\nServices  71.7%  69.7%  66.0% \\nTotal gross margin percentage  43.3%  41.8%  38.2% \\nProducts Gross Margin\\nProducts gross margin increased during 2022  compared to 2021  due primarily to a different Products mix and higher Products \\nvolume, partially offset by the weakness in foreign currencies relative to the U.S. dollar.\\nProducts gross margin percentage increased during 2022  compared to 2021  due primarily to a different Products mix, partially \\noffset by the weakness in foreign currencies relative to the U.S. dollar.\\nServices Gross Margin', metadata={'page': 25.0, 'source': '/content/apple_annual_report_2023.pdf'}), Document(page_content='For the sale of third-party products where the Company obtains control of the product before transferring it to the customer, the \\nCompany recognizes revenue based on the gross amount billed to customers. The Company considers multiple factors when \\ndetermining whether it obtains control of third-party products, including evaluating if it can establish the price of the product, \\nretains inventory risk for tangible products or has the responsibility for ensuring acceptability of the product. For third-party \\napplications sold through the App Store and certain digital content sold through the Company’s other digital content stores, the \\nCompany does not obtain control of the product before transferring it to the customer. Therefore, the Company accounts for such \\nsales on a net basis by recognizing in Services net sales only the commission it retains.\\nThe Company records revenue net of taxes collected from customers that are remitted to governmental authorities, with the', metadata={'page': 37.0, 'source': '/content/apple_annual_report_2023.pdf'}), Document(page_content='the sales price of the respective product.\\n(2) Wearables, Home and Accessories net sales include sales of AirPods, Apple TV, Apple Watch, Beats products, HomePod \\nmini and accessories.\\n(3) Services net sales include sales from the Company’s advertising, AppleCare, cloud, digital content, payment and other \\nservices. Services net sales also include amortization of the deferred value of services bundled in the sales price of certain \\nproducts.\\n(4) Includes $7.5 billion  of revenue recognized in 2022  that was included in deferred revenue as of September\\xa025, 2021 , $6.7 \\nbillion  of revenue recognized in 2021  that was included in deferred revenue as of September\\xa026, 2020 , and $5.0 billion  of \\nrevenue recognized in 2020  that was included in deferred revenue as of September\\xa028, 2019 .\\nThe Company’s proportion of net sales by disaggregated revenue source was generally consistent for each reportable segment', metadata={'page': 39.0, 'source': '/content/apple_annual_report_2023.pdf'}), Document(page_content='part to seasonal holiday demand. Additionally, new product and service introductions can significantly impact net sales, cost of \\nsales and operating expenses. Further, the Company generates a significant portion of its net sales from a single product and a \\ndecline in demand for that product could significantly impact quarterly net sales. The Company could also be subject to \\nunexpected developments, such as lower-than-anticipated demand for the Company’s products or services, issues with new \\nproduct or service introductions, information technology system failures or network disruptions, or failure of one of the \\nCompany’s logistics, components supply, or manufacturing partners.\\nApple Inc. | 2022  Form 10-K | 15', metadata={'page': 17.0, 'source': '/content/apple_annual_report_2023.pdf'}), Document(page_content='Item 8 of this Form 10-K in the Notes to Consolidated Financial Statements in Note 11, “Segment Information and Geographic \\nData.”\\nThe following table shows net sales by reportable segment for 2022 , 2021  and 2020  (dollars in millions):\\n2022 Change 2021 Change 2020\\nNet sales by reportable segment:\\nAmericas $ 169,658  11 % $ 153,306  23 % $ 124,556 \\nEurope  95,118  7 %  89,307  30 %  68,640 \\nGreater China  74,200  9 %  68,366  70 %  40,308 \\nJapan  25,977  (9) %  28,482  33 %  21,418 \\nRest of Asia Pacific  29,375  11 %  26,356  35 %  19,593 \\nTotal net sales $ 394,328  8 % $ 365,817  33 % $ 274,515 \\nAmericas\\nAmericas net sales increased during 2022  compared to 2021  due primarily to higher net sales of iPhone, Services and Mac.\\nEurope\\nEurope net sales increased during 2022  compared to 2021  due primarily to higher net sales of iPhone and Services. The \\nweakness in foreign currencies relative to the U.S. dollar had a net unfavorable year-over-year impact on Europe net sales', metadata={'page': 24.0, 'source': '/content/apple_annual_report_2023.pdf'}), Document(page_content='Services gross margin increased during 2022  compared to 2021  due primarily to higher Services net sales, partially offset by the \\nweakness in foreign currencies relative to the U.S. dollar.\\nServices gross margin percentage increased during 2022  compared to 2021  due primarily to improved leverage and a different \\nServices mix, partially offset by the weakness in foreign currencies relative to the U.S. dollar.\\nThe Company’s future gross margins can be impacted by a variety of factors, as discussed in Part I, Item 1A of this Form 10-K \\nunder the heading “Risk Factors.” As a result, the Company believes, in general, gross margins will be subject to volatility and \\ndownward pressure.\\nOperating Expenses\\nOperating expenses for 2022 , 2021  and 2020  were as follows (dollars in millions):\\n2022 Change 2021 Change 2020\\nResearch and development $ 26,251  20 % $ 21,914  17 % $ 18,752 \\nPercentage of total net sales  7%  6%  7%', metadata={'page': 25.0, 'source': '/content/apple_annual_report_2023.pdf'}), Document(page_content='ownership of products or services are transferred to its customers. For most of the Company’s Products net sales, control \\ntransfers when products are shipped. For the Company’s Services net sales, control transfers over time as services are \\ndelivered. Payment for Products and Services net sales is collected within a short period following transfer of control or \\ncommencement of delivery of services, as applicable.\\nThe Company records reductions to Products net sales related to future product returns, price protection and other customer \\nincentive programs based on the Company’s expectations and historical experience.\\nFor arrangements with multiple performance obligations, which represent promises within an arrangement that are distinct, the \\nCompany allocates revenue to all distinct performance obligations based on their relative stand-alone selling prices (“SSPs”).', metadata={'page': 36.0, 'source': '/content/apple_annual_report_2023.pdf'}), Document(page_content='in Note 11, “Segment Information and Geographic Data” for 2022 , 2021  and 2020 , except in Greater China, where iPhone \\nrevenue represented a moderately higher proportion of net sales  in 2022  and 2021 .', metadata={'page': 39.0, 'source': '/content/apple_annual_report_2023.pdf'})], \"What is the company's revenue growth compared to previous years? \": [Document(page_content='revenue represented a moderately higher proportion of net sales  in 2022  and 2021 .\\nAs of September\\xa024, 2022  and September\\xa025, 2021 , the Company had total deferred revenue of $12.4 billion  and $11.9\\xa0billion , \\nrespectively. As of September\\xa024, 2022 , the Company expects 64% of total deferred revenue to be realized in less than a year, \\n27% within one-to-two years, 7% within two-to-three years and 2% in greater than three years.\\nApple Inc. | 2022  Form 10-K | 37', metadata={'page': 39.0, 'source': '/content/apple_annual_report_2023.pdf'}), Document(page_content='Services gross margin increased during 2022  compared to 2021  due primarily to higher Services net sales, partially offset by the \\nweakness in foreign currencies relative to the U.S. dollar.\\nServices gross margin percentage increased during 2022  compared to 2021  due primarily to improved leverage and a different \\nServices mix, partially offset by the weakness in foreign currencies relative to the U.S. dollar.\\nThe Company’s future gross margins can be impacted by a variety of factors, as discussed in Part I, Item 1A of this Form 10-K \\nunder the heading “Risk Factors.” As a result, the Company believes, in general, gross margins will be subject to volatility and \\ndownward pressure.\\nOperating Expenses\\nOperating expenses for 2022 , 2021  and 2020  were as follows (dollars in millions):\\n2022 Change 2021 Change 2020\\nResearch and development $ 26,251  20 % $ 21,914  17 % $ 18,752 \\nPercentage of total net sales  7%  6%  7%', metadata={'page': 25.0, 'source': '/content/apple_annual_report_2023.pdf'}), Document(page_content='Business Seasonality and Product Introductions\\nThe Company has historically experienced higher net sales in its first quarter compared to other quarters in its fiscal year due in \\npart to seasonal holiday demand. Additionally, new product and service introductions can significantly impact net sales, cost of \\nsales and operating expenses. The timing of product introductions can also impact the Company’s net sales to its indirect \\ndistribution channels as these channels are filled with new inventory following a product launch, and channel inventory of an \\nolder product often declines as the launch of a newer product approaches. Net sales can also be affected when consumers and \\ndistributors anticipate a product introduction.\\nHuman Capital\\nThe Company believes it has a talented, motivated and dedicated team, and works to create an inclusive, safe and supportive \\nenvironment for all of its team members. As of September\\xa0 24, 2022 , the Company had approximately 164,000 full-time', metadata={'page': 6.0, 'source': '/content/apple_annual_report_2023.pdf'}), Document(page_content='part to seasonal holiday demand. Additionally, new product and service introductions can significantly impact net sales, cost of \\nsales and operating expenses. Further, the Company generates a significant portion of its net sales from a single product and a \\ndecline in demand for that product could significantly impact quarterly net sales. The Company could also be subject to \\nunexpected developments, such as lower-than-anticipated demand for the Company’s products or services, issues with new \\nproduct or service introductions, information technology system failures or network disruptions, or failure of one of the \\nCompany’s logistics, components supply, or manufacturing partners.\\nApple Inc. | 2022  Form 10-K | 15', metadata={'page': 17.0, 'source': '/content/apple_annual_report_2023.pdf'}), Document(page_content='Item 8 of this Form 10-K in the Notes to Consolidated Financial Statements in Note 11, “Segment Information and Geographic \\nData.”\\nThe following table shows net sales by reportable segment for 2022 , 2021  and 2020  (dollars in millions):\\n2022 Change 2021 Change 2020\\nNet sales by reportable segment:\\nAmericas $ 169,658  11 % $ 153,306  23 % $ 124,556 \\nEurope  95,118  7 %  89,307  30 %  68,640 \\nGreater China  74,200  9 %  68,366  70 %  40,308 \\nJapan  25,977  (9) %  28,482  33 %  21,418 \\nRest of Asia Pacific  29,375  11 %  26,356  35 %  19,593 \\nTotal net sales $ 394,328  8 % $ 365,817  33 % $ 274,515 \\nAmericas\\nAmericas net sales increased during 2022  compared to 2021  due primarily to higher net sales of iPhone, Services and Mac.\\nEurope\\nEurope net sales increased during 2022  compared to 2021  due primarily to higher net sales of iPhone and Services. The \\nweakness in foreign currencies relative to the U.S. dollar had a net unfavorable year-over-year impact on Europe net sales', metadata={'page': 24.0, 'source': '/content/apple_annual_report_2023.pdf'}), Document(page_content='Gross Margin\\nProducts and Services gross margin and gross margin percentage for 2022 , 2021  and 2020  were as follows (dollars in millions):\\n2022 2021 2020\\nGross margin:\\nProducts $ 114,728 $ 105,126 $ 69,461 \\nServices  56,054  47,710  35,495 \\nTotal gross margin $ 170,782 $ 152,836 $ 104,956 \\nGross margin percentage:\\nProducts  36.3%  35.3%  31.5% \\nServices  71.7%  69.7%  66.0% \\nTotal gross margin percentage  43.3%  41.8%  38.2% \\nProducts Gross Margin\\nProducts gross margin increased during 2022  compared to 2021  due primarily to a different Products mix and higher Products \\nvolume, partially offset by the weakness in foreign currencies relative to the U.S. dollar.\\nProducts gross margin percentage increased during 2022  compared to 2021  due primarily to a different Products mix, partially \\noffset by the weakness in foreign currencies relative to the U.S. dollar.\\nServices Gross Margin', metadata={'page': 25.0, 'source': '/content/apple_annual_report_2023.pdf'}), Document(page_content='during 2022 .\\nGreater China\\nGreater China net sales increased during 2022  compared to 2021  due primarily to higher net sales of iPhone and Services. The \\nstrength of the renminbi relative to the U.S. dollar had a favorable year-over-year impact on Greater China net sales during 2022 .\\nJapan\\nJapan net sales decreased during 2022  compared to 2021  due to the weakness of the yen relative to the U.S. dollar.\\nRest of Asia Pacific\\nRest of Asia Pacific net sales increased during 2022  compared to 2021  due primarily to higher net sales of iPhone, Mac and \\nServices. The weakness in foreign currencies relative to the U.S. dollar had an unfavorable year-over-year impact on Rest of \\nAsia Pacific net sales during 2022 .\\nApple Inc. | 2022  Form 10-K | 22', metadata={'page': 24.0, 'source': '/content/apple_annual_report_2023.pdf'}), Document(page_content='Selling, general and administrative $ 25,094  14 % $ 21,973  10 % $ 19,916 \\nPercentage of total net sales  6%  6%  7% \\nTotal operating expenses $ 51,345  17 % $ 43,887  13 % $ 38,668 \\nPercentage of total net sales  13%  12%  14% \\nResearch and Development\\nThe year-over-year growth in R&D expense in 2022  was driven primarily by increases in headcount-related expenses and \\nengineering program costs.\\nSelling, General and Administrative\\nThe year-over-year growth in selling, general and administrative expense in 2022  was driven primarily by increases in \\nheadcount-related expenses, advertising and professional services.\\nApple Inc. | 2022  Form 10-K | 23', metadata={'page': 25.0, 'source': '/content/apple_annual_report_2023.pdf'}), Document(page_content='Note 11 – Segment Information and Geographic Data\\nThe following table shows information by reportable segment for 2022 , 2021  and 2020  (in millions):\\n2022 2021 2020\\nAmericas:\\nNet sales $ 169,658 $ 153,306 $ 124,556 \\nOperating income $ 62,683 $ 53,382 $ 37,722 \\nEurope:\\nNet sales $ 95,118 $ 89,307 $ 68,640 \\nOperating income $ 35,233 $ 32,505 $ 22,170 \\nGreater China:\\nNet sales $ 74,200 $ 68,366 $ 40,308 \\nOperating income $ 31,153 $ 28,504 $ 15,261 \\nJapan:\\nNet sales $ 25,977 $ 28,482 $ 21,418 \\nOperating income $ 12,257 $ 12,798 $ 9,279 \\nRest of Asia Pacific:\\nNet sales $ 29,375 $ 26,356 $ 19,593 \\nOperating income $ 11,569 $ 9,817 $ 6,808 \\nA reconciliation of the Company’s segment operating income to the Consolidated Statements of Operations for 2022 , 2021  and \\n2020  is as follows (in millions):\\n2022 2021 2020\\nSegment operating income $ 152,895 $ 137,006 $ 91,240 \\nResearch and development expense  (26,251)  (21,914)  (18,752) \\nOther corporate expenses, net  (7,207)  (6,143)  (6,200)', metadata={'page': 51.0, 'source': '/content/apple_annual_report_2023.pdf'}), Document(page_content='Apple Inc.\\nCONSOLIDATED STATEMENTS OF OPERATIONS\\n(In millions, except number of shares which are reflected in thousands and per share amounts)\\nYears ended\\nSeptember 24,\\n2022September 25,\\n2021September 26,\\n2020\\nNet sales:\\n   Products $ 316,199 $ 297,392 $ 220,747 \\n   Services  78,129  68,425  53,768 \\nTotal net sales  394,328  365,817  274,515 \\nCost of sales:\\n   Products  201,471  192,266  151,286 \\n   Services  22,075  20,715  18,273 \\nTotal cost of sales  223,546  212,981  169,559 \\nGross margin  170,782  152,836  104,956 \\nOperating expenses:\\nResearch and development  26,251  21,914  18,752 \\nSelling, general and administrative  25,094  21,973  19,916 \\nTotal operating expenses  51,345  43,887  38,668 \\nOperating income  119,437  108,949  66,288 \\nOther income/(expense), net  (334)  258  803 \\nIncome before provision for income taxes  119,103  109,207  67,091 \\nProvision for income taxes  19,300  14,527  9,680 \\nNet income $ 99,803 $ 94,680 $ 57,411 \\nEarnings per share:', metadata={'page': 31.0, 'source': '/content/apple_annual_report_2023.pdf'})], \"What percentage of the company's revenue comes from international markets?\": [Document(page_content='The Company has a large, global business with sales outside the U.S. representing a majority of the Company’s total net sales, \\nand the Company believes that it generally benefits from growth in international trade. Substantially all of the Company’s \\nmanufacturing is performed in whole or in part by outsourcing partners located primarily in Asia, including China mainland, India, \\nJapan, South Korea, Taiwan and Vietnam. Trade policies and disputes and other international conflicts can result in tariffs, \\nsanctions and other measures that restrict international trade, and can materially adversely affect the Company’s business, \\nparticularly if these measures occur in regions where the Company derives a significant portion of its revenues and/or has \\nsignificant supply chain operations. For example, tensions between the U.S. and China have led to a series of tariffs being', metadata={'page': 8.0, 'source': '/content/apple_annual_report_2023.pdf'}), Document(page_content='Item 8 of this Form 10-K in the Notes to Consolidated Financial Statements in Note 11, “Segment Information and Geographic \\nData.”\\nThe following table shows net sales by reportable segment for 2022 , 2021  and 2020  (dollars in millions):\\n2022 Change 2021 Change 2020\\nNet sales by reportable segment:\\nAmericas $ 169,658  11 % $ 153,306  23 % $ 124,556 \\nEurope  95,118  7 %  89,307  30 %  68,640 \\nGreater China  74,200  9 %  68,366  70 %  40,308 \\nJapan  25,977  (9) %  28,482  33 %  21,418 \\nRest of Asia Pacific  29,375  11 %  26,356  35 %  19,593 \\nTotal net sales $ 394,328  8 % $ 365,817  33 % $ 274,515 \\nAmericas\\nAmericas net sales increased during 2022  compared to 2021  due primarily to higher net sales of iPhone, Services and Mac.\\nEurope\\nEurope net sales increased during 2022  compared to 2021  due primarily to higher net sales of iPhone and Services. The \\nweakness in foreign currencies relative to the U.S. dollar had a net unfavorable year-over-year impact on Europe net sales', metadata={'page': 24.0, 'source': '/content/apple_annual_report_2023.pdf'}), Document(page_content='three  vendors that individually represented 10% or more of total vendor n on-trade re ceivables, which accounted for 52%, 11% \\nand 11%.', metadata={'page': 42.0, 'source': '/content/apple_annual_report_2023.pdf'}), Document(page_content='Services gross margin increased during 2022  compared to 2021  due primarily to higher Services net sales, partially offset by the \\nweakness in foreign currencies relative to the U.S. dollar.\\nServices gross margin percentage increased during 2022  compared to 2021  due primarily to improved leverage and a different \\nServices mix, partially offset by the weakness in foreign currencies relative to the U.S. dollar.\\nThe Company’s future gross margins can be impacted by a variety of factors, as discussed in Part I, Item 1A of this Form 10-K \\nunder the heading “Risk Factors.” As a result, the Company believes, in general, gross margins will be subject to volatility and \\ndownward pressure.\\nOperating Expenses\\nOperating expenses for 2022 , 2021  and 2020  were as follows (dollars in millions):\\n2022 Change 2021 Change 2020\\nResearch and development $ 26,251  20 % $ 21,914  17 % $ 18,752 \\nPercentage of total net sales  7%  6%  7%', metadata={'page': 25.0, 'source': '/content/apple_annual_report_2023.pdf'}), Document(page_content='Gross Margin\\nProducts and Services gross margin and gross margin percentage for 2022 , 2021  and 2020  were as follows (dollars in millions):\\n2022 2021 2020\\nGross margin:\\nProducts $ 114,728 $ 105,126 $ 69,461 \\nServices  56,054  47,710  35,495 \\nTotal gross margin $ 170,782 $ 152,836 $ 104,956 \\nGross margin percentage:\\nProducts  36.3%  35.3%  31.5% \\nServices  71.7%  69.7%  66.0% \\nTotal gross margin percentage  43.3%  41.8%  38.2% \\nProducts Gross Margin\\nProducts gross margin increased during 2022  compared to 2021  due primarily to a different Products mix and higher Products \\nvolume, partially offset by the weakness in foreign currencies relative to the U.S. dollar.\\nProducts gross margin percentage increased during 2022  compared to 2021  due primarily to a different Products mix, partially \\noffset by the weakness in foreign currencies relative to the U.S. dollar.\\nServices Gross Margin', metadata={'page': 25.0, 'source': '/content/apple_annual_report_2023.pdf'}), Document(page_content='three  vendors that individually represented 10% or more of total vendor n on-trade re ceivables, which accounted for 52%, 11% \\nand 11%.\\nApple Inc. | 2022  Form 10-K | 40', metadata={'page': 42.0, 'source': '/content/apple_annual_report_2023.pdf'}), Document(page_content='Total operating income $ 119,437 $ 108,949 $ 66,288 \\nThe U.S. and China were the only countries that accounted for more than 10% of the Company’s net sales in 2022 , 2021  and \\n2020 . Net sales for 2022 , 2021  and 2020  and long-lived assets as of September\\xa024, 2022  and September\\xa025, 2021  were as \\nfollows (in millions):\\n2022 2021 2020\\nNet sales:\\nU.S. $ 147,859 $ 133,803 $ 109,197 \\nChina (1) 74,200  68,366  40,308 \\nOther countries  172,269  163,648  125,010 \\nTotal net sales $ 394,328 $ 365,817 $ 274,515 \\n2022 2021\\nLong-lived assets:\\nU.S. $ 31,119 $ 28,203 \\nChina (1) 7,260  7,521 \\nOther countries  3,738  3,716 \\nTotal long-lived assets $ 42,117 $ 39,440 \\n(1) China includes Hong Kong and Taiwan.  Long-lived assets located in China consist primarily of assets related to product \\nmanufacturing, retail stores and related infrastructure .\\nApple Inc. | 2022  Form 10-K | 49', metadata={'page': 51.0, 'source': '/content/apple_annual_report_2023.pdf'}), Document(page_content='revenue represented a moderately higher proportion of net sales  in 2022  and 2021 .\\nAs of September\\xa024, 2022  and September\\xa025, 2021 , the Company had total deferred revenue of $12.4 billion  and $11.9\\xa0billion , \\nrespectively. As of September\\xa024, 2022 , the Company expects 64% of total deferred revenue to be realized in less than a year, \\n27% within one-to-two years, 7% within two-to-three years and 2% in greater than three years.\\nApple Inc. | 2022  Form 10-K | 37', metadata={'page': 39.0, 'source': '/content/apple_annual_report_2023.pdf'}), Document(page_content='The Company’s financial performance is subject to risks associated with changes in the value of the U.S. dollar relative \\nto local currencies.\\nThe Company’s primary exposure to movements in foreign currency exchange rates relates to non–U.S. dollar–denominated \\nsales, cost of sales and operating expenses worldwide. Gross margins on the Company’s products in foreign countries and on \\nproducts that include components obtained from foreign suppliers could be materially adversely affected by foreign currency \\nexchange rate fluctuations.\\nThe weakening of foreign currencies relative to the U.S. dollar adversely affects the U.S. dollar value of the Company’s foreign \\ncurrency–denominated sales and earnings, and generally leads the Company to raise international pricing, potentially reducing \\ndemand for the Company’s products. In some circumstances, for competitive or other reasons, the Company may decide not to', metadata={'page': 18.0, 'source': '/content/apple_annual_report_2023.pdf'}), Document(page_content='in Note 11, “Segment Information and Geographic Data” for 2022 , 2021  and 2020 , except in Greater China, where iPhone \\nrevenue represented a moderately higher proportion of net sales  in 2022  and 2021 .', metadata={'page': 39.0, 'source': '/content/apple_annual_report_2023.pdf'})]}\n"
          ]
        }
      ]
    },
    {
      "cell_type": "code",
      "source": [
        "for document_list in query_results_dict.values():\n",
        "    for document in document_list:\n",
        "        # Process each document here\n",
        "        print(document)\n",
        "        print('-'*100)"
      ],
      "metadata": {
        "id": "OeqeINJ2OXge",
        "colab": {
          "base_uri": "https://localhost:8080/"
        },
        "outputId": "f4f59244-7ab4-41be-f7ba-2bb8e7f438d0"
      },
      "execution_count": null,
      "outputs": [
        {
          "output_type": "stream",
          "name": "stdout",
          "text": [
            "page_content='Business Seasonality and Product Introductions\\nThe Company has historically experienced higher net sales in its first quarter compared to other quarters in its fiscal year due in \\npart to seasonal holiday demand. Additionally, new product and service introductions can significantly impact net sales, cost of \\nsales and operating expenses. The timing of product introductions can also impact the Company’s net sales to its indirect \\ndistribution channels as these channels are filled with new inventory following a product launch, and channel inventory of an \\nolder product often declines as the launch of a newer product approaches. Net sales can also be affected when consumers and \\ndistributors anticipate a product introduction.\\nHuman Capital\\nThe Company believes it has a talented, motivated and dedicated team, and works to create an inclusive, safe and supportive \\nenvironment for all of its team members. As of September\\xa0 24, 2022 , the Company had approximately 164,000 full-time' metadata={'page': 6.0, 'source': '/content/apple_annual_report_2023.pdf'}\n",
            "----------------------------------------------------------------------------------------------------\n",
            "page_content='For the sale of third-party products where the Company obtains control of the product before transferring it to the customer, the \\nCompany recognizes revenue based on the gross amount billed to customers. The Company considers multiple factors when \\ndetermining whether it obtains control of third-party products, including evaluating if it can establish the price of the product, \\nretains inventory risk for tangible products or has the responsibility for ensuring acceptability of the product. For third-party \\napplications sold through the App Store and certain digital content sold through the Company’s other digital content stores, the \\nCompany does not obtain control of the product before transferring it to the customer. Therefore, the Company accounts for such \\nsales on a net basis by recognizing in Services net sales only the commission it retains.\\nThe Company records revenue net of taxes collected from customers that are remitted to governmental authorities, with the' metadata={'page': 37.0, 'source': '/content/apple_annual_report_2023.pdf'}\n",
            "----------------------------------------------------------------------------------------------------\n",
            "page_content='The Company is focused on expanding its market opportunities related to smartphones, personal computers, tablets, wearables \\nand accessories, and services. The Company faces substantial competition in these markets from companies that have \\nsignificant technical, marketing, distribution and other resources, as well as established hardware, software, and service offerings \\nwith large customer bases. In addition, some of the Company’s competitors have broader product lines, lower-priced products \\nand a larger installed base of active devices. Competition has been particularly intense as competitors have aggressively cut \\nprices and lowered product margins. Certain competitors have the resources, experience or cost structures to provide products \\nat little or no profit or even at a loss. The Company’s services compete with business models that provide content to users for' metadata={'page': 5.0, 'source': '/content/apple_annual_report_2023.pdf'}\n",
            "----------------------------------------------------------------------------------------------------\n",
            "page_content='prices or model-driven valuations using significant inputs derived from or corroborated by observable market data.\\nIncome Taxes\\nThe Company records certain deferred tax assets and liabilities in connection with the minimum tax on certain foreign earnings' metadata={'page': 38.0, 'source': '/content/apple_annual_report_2023.pdf'}\n",
            "----------------------------------------------------------------------------------------------------\n",
            "page_content='part to seasonal holiday demand. Additionally, new product and service introductions can significantly impact net sales, cost of \\nsales and operating expenses. Further, the Company generates a significant portion of its net sales from a single product and a \\ndecline in demand for that product could significantly impact quarterly net sales. The Company could also be subject to \\nunexpected developments, such as lower-than-anticipated demand for the Company’s products or services, issues with new \\nproduct or service introductions, information technology system failures or network disruptions, or failure of one of the \\nCompany’s logistics, components supply, or manufacturing partners.\\nApple Inc. | 2022  Form 10-K | 15' metadata={'page': 17.0, 'source': '/content/apple_annual_report_2023.pdf'}\n",
            "----------------------------------------------------------------------------------------------------\n",
            "page_content='free and use illegitimate means to obtain third-party digital content and applications. The Company faces significant competition \\nas competitors imitate the Company’s product features and applications within their products, or collaborate to offer integrated \\nsolutions that are more competitive than those they currently offer.\\nSupply of Components\\nAlthough most components essential to the Company’s business are generally available from multiple sources, certain \\ncomponents are currently obtained from single or limited sources. The Company also competes for various components with \\nother participants in the markets for smartphones, personal computers, tablets, wearables and accessories. Therefore, many \\ncomponents used by the Company, including those that are available from multiple sources, are at times subject to industry-wide \\nshortage and significant commodity pricing fluctuations.' metadata={'page': 5.0, 'source': '/content/apple_annual_report_2023.pdf'}\n",
            "----------------------------------------------------------------------------------------------------\n",
            "page_content='ownership of products or services are transferred to its customers. For most of the Company’s Products net sales, control \\ntransfers when products are shipped. For the Company’s Services net sales, control transfers over time as services are \\ndelivered. Payment for Products and Services net sales is collected within a short period following transfer of control or \\ncommencement of delivery of services, as applicable.\\nThe Company records reductions to Products net sales related to future product returns, price protection and other customer \\nincentive programs based on the Company’s expectations and historical experience.\\nFor arrangements with multiple performance obligations, which represent promises within an arrangement that are distinct, the \\nCompany allocates revenue to all distinct performance obligations based on their relative stand-alone selling prices (“SSPs”).' metadata={'page': 36.0, 'source': '/content/apple_annual_report_2023.pdf'}\n",
            "----------------------------------------------------------------------------------------------------\n",
            "page_content='revenue represented a moderately higher proportion of net sales  in 2022  and 2021 .\\nAs of September\\xa024, 2022  and September\\xa025, 2021 , the Company had total deferred revenue of $12.4 billion  and $11.9\\xa0billion , \\nrespectively. As of September\\xa024, 2022 , the Company expects 64% of total deferred revenue to be realized in less than a year, \\n27% within one-to-two years, 7% within two-to-three years and 2% in greater than three years.\\nApple Inc. | 2022  Form 10-K | 37' metadata={'page': 39.0, 'source': '/content/apple_annual_report_2023.pdf'}\n",
            "----------------------------------------------------------------------------------------------------\n",
            "page_content='included in the first fiscal quarter every five or six years to realign the Company’s fiscal quarters with calendar quarters , which will  \\noccur in the first quarter of the Company’s fiscal year ending September 30, 2023 . The Company’s fiscal years 2022 , 2021  and \\n2020  spanned 52 weeks each. Unless otherwise stated, references to particular years, quarters, months and periods refer to the \\nCompany’s fiscal years ended in September and the associated quarters, months and periods of those fiscal years .\\nRevenue Recognition\\nNet sales consist of revenue from the sale of iPhone, Mac, iPad, Services and other products. The Company recognizes revenue \\nat the amount to which it expects to be entitled when control of the products or services is transferred to its customers. Control is \\ngenerally transferred when the Company has a present right to payment and title and the significant risks and rewards of' metadata={'page': 36.0, 'source': '/content/apple_annual_report_2023.pdf'}\n",
            "----------------------------------------------------------------------------------------------------\n",
            "page_content='direct sales force. The Company also employs a variety of indirect distribution channels, such as third-party cellular network \\ncarriers, wholesalers, retailers and resellers. During 2022 , the Company’s net sales through its direct and indirect distribution \\nchannels accounted for 38% and 62%, respectively, of total net sales.\\nCompetition\\nThe markets for the Company’s products and services are highly competitive, and are characterized by aggressive price \\ncompetition and resulting downward pressure on gross margins, frequent introduction of new products and services, short \\nproduct life cycles, evolving industry standards, continual improvement in product price and performance characteristics, rapid \\nadoption of technological advancements by competitors, and price sensitivity on the part of consumers and businesses. Many of \\nthe Company’s competitors seek to compete primarily through aggressive pricing and very low cost structures, and by imitating' metadata={'page': 4.0, 'source': '/content/apple_annual_report_2023.pdf'}\n",
            "----------------------------------------------------------------------------------------------------\n",
            "page_content='Apple Inc.\\nCONSOLIDATED STATEMENTS OF OPERATIONS\\n(In millions, except number of shares which are reflected in thousands and per share amounts)\\nYears ended\\nSeptember 24,\\n2022September 25,\\n2021September 26,\\n2020\\nNet sales:\\n   Products $ 316,199 $ 297,392 $ 220,747 \\n   Services  78,129  68,425  53,768 \\nTotal net sales  394,328  365,817  274,515 \\nCost of sales:\\n   Products  201,471  192,266  151,286 \\n   Services  22,075  20,715  18,273 \\nTotal cost of sales  223,546  212,981  169,559 \\nGross margin  170,782  152,836  104,956 \\nOperating expenses:\\nResearch and development  26,251  21,914  18,752 \\nSelling, general and administrative  25,094  21,973  19,916 \\nTotal operating expenses  51,345  43,887  38,668 \\nOperating income  119,437  108,949  66,288 \\nOther income/(expense), net  (334)  258  803 \\nIncome before provision for income taxes  119,103  109,207  67,091 \\nProvision for income taxes  19,300  14,527  9,680 \\nNet income $ 99,803 $ 94,680 $ 57,411 \\nEarnings per share:' metadata={'page': 31.0, 'source': '/content/apple_annual_report_2023.pdf'}\n",
            "----------------------------------------------------------------------------------------------------\n",
            "page_content='Apple Inc.\\nCONSOLIDATED STATEMENTS OF COMPREHENSIVE INCOME\\n(In millions)\\nYears ended\\nSeptember 24,\\n2022September 25,\\n2021September 26,\\n2020\\nNet income $ 99,803 $ 94,680 $ 57,411 \\nOther comprehensive income/(loss):\\nChange in foreign currency translation, net of tax  (1,511)  501  88 \\nChange in unrealized gains/losses on derivative instruments, net of tax:\\nChange in fair value of derivative instruments  3,212  32  79 \\nAdjustment for net (gains)/losses realized and included in net \\nincome  (1,074)  1,003  (1,264) \\nTotal change in unrealized gains/losses on derivative \\ninstruments  2,138  1,035  (1,185) \\nChange in unrealized gains/losses on marketable debt securities, net of \\ntax:\\nChange in fair value of marketable debt securities  (12,104)  (694)  1,202 \\nAdjustment for net (gains)/losses realized and included in net \\nincome  205  (273)  (63) \\nTotal change in unrealized gains/losses on marketable debt \\nsecurities  (11,899)  (967)  1,139' metadata={'page': 32.0, 'source': '/content/apple_annual_report_2023.pdf'}\n",
            "----------------------------------------------------------------------------------------------------\n",
            "page_content='Note 11 – Segment Information and Geographic Data\\nThe following table shows information by reportable segment for 2022 , 2021  and 2020  (in millions):\\n2022 2021 2020\\nAmericas:\\nNet sales $ 169,658 $ 153,306 $ 124,556 \\nOperating income $ 62,683 $ 53,382 $ 37,722 \\nEurope:\\nNet sales $ 95,118 $ 89,307 $ 68,640 \\nOperating income $ 35,233 $ 32,505 $ 22,170 \\nGreater China:\\nNet sales $ 74,200 $ 68,366 $ 40,308 \\nOperating income $ 31,153 $ 28,504 $ 15,261 \\nJapan:\\nNet sales $ 25,977 $ 28,482 $ 21,418 \\nOperating income $ 12,257 $ 12,798 $ 9,279 \\nRest of Asia Pacific:\\nNet sales $ 29,375 $ 26,356 $ 19,593 \\nOperating income $ 11,569 $ 9,817 $ 6,808 \\nA reconciliation of the Company’s segment operating income to the Consolidated Statements of Operations for 2022 , 2021  and \\n2020  is as follows (in millions):\\n2022 2021 2020\\nSegment operating income $ 152,895 $ 137,006 $ 91,240 \\nResearch and development expense  (26,251)  (21,914)  (18,752) \\nOther corporate expenses, net  (7,207)  (6,143)  (6,200)' metadata={'page': 51.0, 'source': '/content/apple_annual_report_2023.pdf'}\n",
            "----------------------------------------------------------------------------------------------------\n",
            "page_content='Business Seasonality and Product Introductions\\nThe Company has historically experienced higher net sales in its first quarter compared to other quarters in its fiscal year due in \\npart to seasonal holiday demand. Additionally, new product and service introductions can significantly impact net sales, cost of \\nsales and operating expenses. The timing of product introductions can also impact the Company’s net sales to its indirect \\ndistribution channels as these channels are filled with new inventory following a product launch, and channel inventory of an \\nolder product often declines as the launch of a newer product approaches. Net sales can also be affected when consumers and \\ndistributors anticipate a product introduction.\\nHuman Capital\\nThe Company believes it has a talented, motivated and dedicated team, and works to create an inclusive, safe and supportive \\nenvironment for all of its team members. As of September\\xa0 24, 2022 , the Company had approximately 164,000 full-time' metadata={'page': 6.0, 'source': '/content/apple_annual_report_2023.pdf'}\n",
            "----------------------------------------------------------------------------------------------------\n",
            "page_content='Note 4 – Consolidated Financial Statement Details\\nThe following tables show the Company’s consolidated financial statement details as of September\\xa024, 2022  and September\\xa025, \\n2021  (in millions):\\nProperty, Plant and Equipment, Net\\n2022 2021\\nLand and buildings $ 22,126 $ 20,041 \\nMachinery, equipment and internal-use software  81,060  78,659 \\nLeasehold improvements  11,271  11,023 \\nGross property, plant and equipment  114,457  109,723 \\nAccumulated depreciation and amortization  (72,340)  (70,283) \\nTotal property, plant and equipment, net $ 42,117 $ 39,440 \\nOther Non-Current Liabilities\\n2022 2021\\nLong-term taxes payable $ 16,657 $ 24,689 \\nOther non-current liabilities  32,485  28,636 \\nTotal other non-current liabilities $ 49,142 $ 53,325 \\nOther Income/(Expense), Net\\nThe following table shows the detail of OI&E for 2022 , 2021  and 2020  (in millions):\\n2022 2021 2020\\nInterest and dividend income $ 2,825 $ 2,843 $ 3,763 \\nInterest expense  (2,931)  (2,645)  (2,873)' metadata={'page': 43.0, 'source': '/content/apple_annual_report_2023.pdf'}\n",
            "----------------------------------------------------------------------------------------------------\n",
            "page_content='Other Income/(Expense), Net\\nOther income/(expense), net (“OI&E”) for 2022 , 2021  and 2020  was as follows (dollars in millions):\\n2022 Change 2021 Change 2020\\nInterest and dividend income $ 2,825 $ 2,843 $ 3,763 \\nInterest expense  (2,931)  (2,645)  (2,873) \\nOther income/(expense), net  (228)  60  (87) \\nTotal other income/(expense), net $ (334)  (229) % $ 258  (68) % $ 803 \\nThe decrease in OI&E during 2022  compared to 2021  was due primarily to higher realized losses on debt securities, unfavorable \\nfair value adjustments on equity securities and higher interest expense, partially offset by higher foreign exchange gains.\\nProvision for Income Taxes\\nProvision for income taxes, effective tax rate and statutory federal income tax rate for 2022 , 2021  and 2020  were as follows \\n(dollars in millions):\\n2022 2021 2020\\nProvision for income taxes $ 19,300 $ 14,527 $ 9,680 \\nEffective tax rate  16.2%  13.3%  14.4% \\nStatutory federal income tax rate  21%  21%  21%' metadata={'page': 26.0, 'source': '/content/apple_annual_report_2023.pdf'}\n",
            "----------------------------------------------------------------------------------------------------\n",
            "page_content='Other income/(expense), net  (228)  60  (87) \\nTotal other income/(expense), net $ (334) $ 258 $ 803 \\nNote 5 – Income Taxes\\nProvision for Income Taxes and Effective Tax Rate\\nThe provision for income taxes for 2022 , 2021  and 2020 , consisted of the following (in millions):\\n2022 2021 2020\\nFederal:\\nCurrent $ 7,890 $ 8,257 $ 6,306 \\nDeferred  (2,265)  (7,176)  (3,619) \\nTotal  5,625  1,081  2,687 \\nState:\\nCurrent  1,519  1,620  455 \\nDeferred  84  (338)  21 \\nTotal  1,603  1,282  476 \\nForeign:\\nCurrent  8,996  9,424  3,134 \\nDeferred  3,076  2,740  3,383 \\nTotal  12,072  12,164  6,517 \\nProvision for income taxes $ 19,300 $ 14,527 $ 9,680 \\nThe foreign provision for income taxes is based on foreign pretax earnings of $71.3 billion , $68.7 billion  and $38.1 billion  in 2022 , \\n2021  and 2020 , respectively.\\nApple Inc. | 2022  Form 10-K | 41' metadata={'page': 43.0, 'source': '/content/apple_annual_report_2023.pdf'}\n",
            "----------------------------------------------------------------------------------------------------\n",
            "page_content='Apple Inc.\\nCONSO LIDATED STATEMENTS OF CASH FLOWS\\n(In millions)\\nYears ended\\nSeptember 24,\\n2022September 25,\\n2021September 26,\\n2020\\nCash, cash equivalents and restricted cash, beginning balances $ 35,929 $ 39,789 $ 50,224 \\nOperating activities:\\nNet income  99,803  94,680  57,411 \\nAdjustments to reconcile net income to cash generated by operating activities:\\nDepreciation and amortization  11,104  11,284  11,056 \\nShare-based compensation expense  9,038  7,906  6,829 \\nDeferred income tax expense/(benefit)  895  (4,774)  (215) \\nOther  111  (147)  (97) \\nChanges in operating assets and liabilities:\\nAccounts receivable, net  (1,823)  (10,125)  6,917 \\nInventories  1,484  (2,642)  (127) \\nVendor non-trade receivables  (7,520)  (3,903)  1,553 \\nOther current and non-current assets  (6,499)  (8,042)  (9,588) \\nAccounts payable  9,448  12,326  (4,062) \\nDeferred revenue  478  1,676  2,081 \\nOther current and non-current liabilities  5,632  5,799  8,916' metadata={'page': 35.0, 'source': '/content/apple_annual_report_2023.pdf'}\n",
            "----------------------------------------------------------------------------------------------------\n",
            "page_content='Item 8 of this Form 10-K in the Notes to Consolidated Financial Statements in Note 11, “Segment Information and Geographic \\nData.”\\nThe following table shows net sales by reportable segment for 2022 , 2021  and 2020  (dollars in millions):\\n2022 Change 2021 Change 2020\\nNet sales by reportable segment:\\nAmericas $ 169,658  11 % $ 153,306  23 % $ 124,556 \\nEurope  95,118  7 %  89,307  30 %  68,640 \\nGreater China  74,200  9 %  68,366  70 %  40,308 \\nJapan  25,977  (9) %  28,482  33 %  21,418 \\nRest of Asia Pacific  29,375  11 %  26,356  35 %  19,593 \\nTotal net sales $ 394,328  8 % $ 365,817  33 % $ 274,515 \\nAmericas\\nAmericas net sales increased during 2022  compared to 2021  due primarily to higher net sales of iPhone, Services and Mac.\\nEurope\\nEurope net sales increased during 2022  compared to 2021  due primarily to higher net sales of iPhone and Services. The \\nweakness in foreign currencies relative to the U.S. dollar had a net unfavorable year-over-year impact on Europe net sales' metadata={'page': 24.0, 'source': '/content/apple_annual_report_2023.pdf'}\n",
            "----------------------------------------------------------------------------------------------------\n",
            "page_content='Total operating income $ 119,437 $ 108,949 $ 66,288 \\nThe U.S. and China were the only countries that accounted for more than 10% of the Company’s net sales in 2022 , 2021  and \\n2020 . Net sales for 2022 , 2021  and 2020  and long-lived assets as of September\\xa024, 2022  and September\\xa025, 2021  were as \\nfollows (in millions):\\n2022 2021 2020\\nNet sales:\\nU.S. $ 147,859 $ 133,803 $ 109,197 \\nChina (1) 74,200  68,366  40,308 \\nOther countries  172,269  163,648  125,010 \\nTotal net sales $ 394,328 $ 365,817 $ 274,515 \\n2022 2021\\nLong-lived assets:\\nU.S. $ 31,119 $ 28,203 \\nChina (1) 7,260  7,521 \\nOther countries  3,738  3,716 \\nTotal long-lived assets $ 42,117 $ 39,440 \\n(1) China includes Hong Kong and Taiwan.  Long-lived assets located in China consist primarily of assets related to product \\nmanufacturing, retail stores and related infrastructure .\\nApple Inc. | 2022  Form 10-K | 49' metadata={'page': 51.0, 'source': '/content/apple_annual_report_2023.pdf'}\n",
            "----------------------------------------------------------------------------------------------------\n",
            "page_content='Selling, general and administrative $ 25,094  14 % $ 21,973  10 % $ 19,916 \\nPercentage of total net sales  6%  6%  7% \\nTotal operating expenses $ 51,345  17 % $ 43,887  13 % $ 38,668 \\nPercentage of total net sales  13%  12%  14% \\nResearch and Development\\nThe year-over-year growth in R&D expense in 2022  was driven primarily by increases in headcount-related expenses and \\nengineering program costs.\\nSelling, General and Administrative\\nThe year-over-year growth in selling, general and administrative expense in 2022  was driven primarily by increases in \\nheadcount-related expenses, advertising and professional services.\\nApple Inc. | 2022  Form 10-K | 23' metadata={'page': 25.0, 'source': '/content/apple_annual_report_2023.pdf'}\n",
            "----------------------------------------------------------------------------------------------------\n",
            "page_content='Apple Inc.\\nCONSOLIDATED STATEMENTS OF OPERATIONS\\n(In millions, except number of shares which are reflected in thousands and per share amounts)\\nYears ended\\nSeptember 24,\\n2022September 25,\\n2021September 26,\\n2020\\nNet sales:\\n   Products $ 316,199 $ 297,392 $ 220,747 \\n   Services  78,129  68,425  53,768 \\nTotal net sales  394,328  365,817  274,515 \\nCost of sales:\\n   Products  201,471  192,266  151,286 \\n   Services  22,075  20,715  18,273 \\nTotal cost of sales  223,546  212,981  169,559 \\nGross margin  170,782  152,836  104,956 \\nOperating expenses:\\nResearch and development  26,251  21,914  18,752 \\nSelling, general and administrative  25,094  21,973  19,916 \\nTotal operating expenses  51,345  43,887  38,668 \\nOperating income  119,437  108,949  66,288 \\nOther income/(expense), net  (334)  258  803 \\nIncome before provision for income taxes  119,103  109,207  67,091 \\nProvision for income taxes  19,300  14,527  9,680 \\nNet income $ 99,803 $ 94,680 $ 57,411 \\nEarnings per share:' metadata={'page': 31.0, 'source': '/content/apple_annual_report_2023.pdf'}\n",
            "----------------------------------------------------------------------------------------------------\n",
            "page_content='Services gross margin increased during 2022  compared to 2021  due primarily to higher Services net sales, partially offset by the \\nweakness in foreign currencies relative to the U.S. dollar.\\nServices gross margin percentage increased during 2022  compared to 2021  due primarily to improved leverage and a different \\nServices mix, partially offset by the weakness in foreign currencies relative to the U.S. dollar.\\nThe Company’s future gross margins can be impacted by a variety of factors, as discussed in Part I, Item 1A of this Form 10-K \\nunder the heading “Risk Factors.” As a result, the Company believes, in general, gross margins will be subject to volatility and \\ndownward pressure.\\nOperating Expenses\\nOperating expenses for 2022 , 2021  and 2020  were as follows (dollars in millions):\\n2022 Change 2021 Change 2020\\nResearch and development $ 26,251  20 % $ 21,914  17 % $ 18,752 \\nPercentage of total net sales  7%  6%  7%' metadata={'page': 25.0, 'source': '/content/apple_annual_report_2023.pdf'}\n",
            "----------------------------------------------------------------------------------------------------\n",
            "page_content='Apple Inc.\\nCONSO LIDATED STATEMENTS OF CASH FLOWS\\n(In millions)\\nYears ended\\nSeptember 24,\\n2022September 25,\\n2021September 26,\\n2020\\nCash, cash equivalents and restricted cash, beginning balances $ 35,929 $ 39,789 $ 50,224 \\nOperating activities:\\nNet income  99,803  94,680  57,411 \\nAdjustments to reconcile net income to cash generated by operating activities:\\nDepreciation and amortization  11,104  11,284  11,056 \\nShare-based compensation expense  9,038  7,906  6,829 \\nDeferred income tax expense/(benefit)  895  (4,774)  (215) \\nOther  111  (147)  (97) \\nChanges in operating assets and liabilities:\\nAccounts receivable, net  (1,823)  (10,125)  6,917 \\nInventories  1,484  (2,642)  (127) \\nVendor non-trade receivables  (7,520)  (3,903)  1,553 \\nOther current and non-current assets  (6,499)  (8,042)  (9,588) \\nAccounts payable  9,448  12,326  (4,062) \\nDeferred revenue  478  1,676  2,081 \\nOther current and non-current liabilities  5,632  5,799  8,916' metadata={'page': 35.0, 'source': '/content/apple_annual_report_2023.pdf'}\n",
            "----------------------------------------------------------------------------------------------------\n",
            "page_content='on purchases of output of the underlying leased assets. Lease costs associated with fixed payments on the Company’s operating \\nleases were $1.9 billion , $1.7 billion  and $1.5 billion  for 2022 , 2021  and 2020 , respectively. Lease costs associated with variable \\npayments on the Company’s leases were $14.9 billion , $12.9 billion  and $9.3 billion  for 2022 , 2021  and 2020 , respectively.\\nThe Company made $1.8 billion , $1.4 billion  and $1.5 billion  of fixed cash payments related to operating leases in 2022 , 2021  \\nand 2020 , respectively. Noncash activities involving right-of-use (“ROU”) assets obtained in exchange for lease liabilities were \\n$2.8 billion  for 2022 , $3.3 billion  for 2021  and $10.5 billion  for 2020 , including the impact of adopting the Financial Accounting \\nStandards Board’s Accounting Standards Update No. 2016-02, Leases (Topic 842) in the first quarter of 2020.\\nApple Inc. | 2022  Form 10-K | 43' metadata={'page': 45.0, 'source': '/content/apple_annual_report_2023.pdf'}\n",
            "----------------------------------------------------------------------------------------------------\n",
            "page_content='Note 4 – Consolidated Financial Statement Details\\nThe following tables show the Company’s consolidated financial statement details as of September\\xa024, 2022  and September\\xa025, \\n2021  (in millions):\\nProperty, Plant and Equipment, Net\\n2022 2021\\nLand and buildings $ 22,126 $ 20,041 \\nMachinery, equipment and internal-use software  81,060  78,659 \\nLeasehold improvements  11,271  11,023 \\nGross property, plant and equipment  114,457  109,723 \\nAccumulated depreciation and amortization  (72,340)  (70,283) \\nTotal property, plant and equipment, net $ 42,117 $ 39,440 \\nOther Non-Current Liabilities\\n2022 2021\\nLong-term taxes payable $ 16,657 $ 24,689 \\nOther non-current liabilities  32,485  28,636 \\nTotal other non-current liabilities $ 49,142 $ 53,325 \\nOther Income/(Expense), Net\\nThe following table shows the detail of OI&E for 2022 , 2021  and 2020  (in millions):\\n2022 2021 2020\\nInterest and dividend income $ 2,825 $ 2,843 $ 3,763 \\nInterest expense  (2,931)  (2,645)  (2,873)' metadata={'page': 43.0, 'source': '/content/apple_annual_report_2023.pdf'}\n",
            "----------------------------------------------------------------------------------------------------\n",
            "page_content='expenses managed outside the reportable segments. Costs excluded from segment operating income include various corporate \\nexpenses such as research and development  (“R&D”),  corporate marketing expenses, certain share-based compensation \\nexpenses, income taxes, various nonrecurring charges and other separately managed general and administrative costs. The \\nCompany does not include intercompany transfers between segments for management reporting purposes.\\nNote 2  – Revenue\\nNet sales disaggregated  by significant products and services for 2022 , 2021  and 2020  were as follows (in millions):\\n2022 2021 2020\\niPhone (1)$ 205,489 $ 191,973 $ 137,781 \\nMac (1) 40,177  35,190  28,622 \\niPad (1) 29,292  31,862  23,724 \\nWearables, Home and Accessories (1)(2) 41,241  38,367  30,620 \\nServices (3) 78,129  68,425  53,768 \\nTotal net sales (4)$ 394,328 $ 365,817 $ 274,515 \\n(1) Products net sales include amortization of the deferred value of unspecified software upgrade rights, which are bundled in' metadata={'page': 39.0, 'source': '/content/apple_annual_report_2023.pdf'}\n",
            "----------------------------------------------------------------------------------------------------\n",
            "page_content='Note 11 – Segment Information and Geographic Data\\nThe following table shows information by reportable segment for 2022 , 2021  and 2020  (in millions):\\n2022 2021 2020\\nAmericas:\\nNet sales $ 169,658 $ 153,306 $ 124,556 \\nOperating income $ 62,683 $ 53,382 $ 37,722 \\nEurope:\\nNet sales $ 95,118 $ 89,307 $ 68,640 \\nOperating income $ 35,233 $ 32,505 $ 22,170 \\nGreater China:\\nNet sales $ 74,200 $ 68,366 $ 40,308 \\nOperating income $ 31,153 $ 28,504 $ 15,261 \\nJapan:\\nNet sales $ 25,977 $ 28,482 $ 21,418 \\nOperating income $ 12,257 $ 12,798 $ 9,279 \\nRest of Asia Pacific:\\nNet sales $ 29,375 $ 26,356 $ 19,593 \\nOperating income $ 11,569 $ 9,817 $ 6,808 \\nA reconciliation of the Company’s segment operating income to the Consolidated Statements of Operations for 2022 , 2021  and \\n2020  is as follows (in millions):\\n2022 2021 2020\\nSegment operating income $ 152,895 $ 137,006 $ 91,240 \\nResearch and development expense  (26,251)  (21,914)  (18,752) \\nOther corporate expenses, net  (7,207)  (6,143)  (6,200)' metadata={'page': 51.0, 'source': '/content/apple_annual_report_2023.pdf'}\n",
            "----------------------------------------------------------------------------------------------------\n",
            "page_content='Cash generated by operating activities  122,151  104,038  80,674 \\nInvesting activities:\\nPurchases of marketable securities  (76,923)  (109,558)  (114,938) \\nProceeds from maturities of marketable securities  29,917  59,023  69,918 \\nProceeds from sales of marketable securities  37,446  47,460  50,473 \\nPayments for acquisition of property, plant and equipment  (10,708)  (11,085)  (7,309) \\nPayments made in connection with business acquisitions, net  (306)  (33)  (1,524) \\nOther  (1,780)  (352)  (909) \\nCash used in investing activities  (22,354)  (14,545)  (4,289) \\nFinancing activities:\\nPayments for taxes related to net share settlement of equity awards  (6,223)  (6,556)  (3,634) \\nPayments for dividends and dividend equivalents  (14,841)  (14,467)  (14,081) \\nRepurchases of common stock  (89,402)  (85,971)  (72,358) \\nProceeds from issuance of term debt, net  5,465  20,393  16,091 \\nRepayments of term debt  (9,543)  (8,750)  (12,629)' metadata={'page': 35.0, 'source': '/content/apple_annual_report_2023.pdf'}\n",
            "----------------------------------------------------------------------------------------------------\n",
            "page_content='assets, which range from five to seven years . Depreciation and amortization expense on property, plant  and equipment was $8.7 \\nbillion , $9.5 billion  and $9.7 billion  during 2022 , 2021  and 2020 , respectively.\\nDerivative Instruments and Hedging\\nAll derivative instruments are recorded in the Consolidated Balance Sheets at fair value. The accounting treatment for derivative \\ngains and losses is based on intended use and hedge designation.\\nGains and losses arising from amounts that are included in the assessment of cash flow hedge effectiveness are initially deferred \\nin accumulated other comprehensive income/(loss) (“AOCI”) and subsequently reclassified into earnings when the hedged \\ntransaction affects earnings, and in the same line item in the Consolidated Statements of Operations. For options designated as \\ncash flow hedges, the Company excludes time value from the assessment of hedge effectiveness and recognizes it on a' metadata={'page': 38.0, 'source': '/content/apple_annual_report_2023.pdf'}\n",
            "----------------------------------------------------------------------------------------------------\n",
            "page_content='Products and Services Performance\\nThe following table shows net sales by category for 2022 , 2021  and 2020  (dollars in millions):\\n2022 Change 2021 Change 2020\\nNet sales by category:\\niPhone (1)$ 205,489  7 % $ 191,973  39 % $ 137,781 \\nMac (1) 40,177  14 %  35,190  23 %  28,622 \\niPad (1) 29,292  (8) %  31,862  34 %  23,724 \\nWearables, Home and Accessories (1)(2) 41,241  7 %  38,367  25 %  30,620 \\nServices (3) 78,129  14 %  68,425  27 %  53,768 \\nTotal net sales $ 394,328  8 % $ 365,817  33 % $ 274,515 \\n(1) Products net sales include amortization of the deferred value of unspecified software upgrade rights, which are bundled in \\nthe sales price of the respective product.\\n(2) Wearables, Home and Accessories net sales include sales of AirPods, Apple TV, Apple Watch, Beats products, HomePod \\nmini and accessories.\\n(3) Services net sales include sales from the Company’s advertising, AppleCare, cloud, digital content, payment and other' metadata={'page': 23.0, 'source': '/content/apple_annual_report_2023.pdf'}\n",
            "----------------------------------------------------------------------------------------------------\n",
            "page_content='expenses managed outside the reportable segments. Costs excluded from segment operating income include various corporate \\nexpenses such as research and development  (“R&D”),  corporate marketing expenses, certain share-based compensation \\nexpenses, income taxes, various nonrecurring charges and other separately managed general and administrative costs. The \\nCompany does not include intercompany transfers between segments for management reporting purposes.\\nNote 2  – Revenue\\nNet sales disaggregated  by significant products and services for 2022 , 2021  and 2020  were as follows (in millions):\\n2022 2021 2020\\niPhone (1)$ 205,489 $ 191,973 $ 137,781 \\nMac (1) 40,177  35,190  28,622 \\niPad (1) 29,292  31,862  23,724 \\nWearables, Home and Accessories (1)(2) 41,241  38,367  30,620 \\nServices (3) 78,129  68,425  53,768 \\nTotal net sales (4)$ 394,328 $ 365,817 $ 274,515 \\n(1) Products net sales include amortization of the deferred value of unspecified software upgrade rights, which are bundled in' metadata={'page': 39.0, 'source': '/content/apple_annual_report_2023.pdf'}\n",
            "----------------------------------------------------------------------------------------------------\n",
            "page_content='Gross Margin\\nProducts and Services gross margin and gross margin percentage for 2022 , 2021  and 2020  were as follows (dollars in millions):\\n2022 2021 2020\\nGross margin:\\nProducts $ 114,728 $ 105,126 $ 69,461 \\nServices  56,054  47,710  35,495 \\nTotal gross margin $ 170,782 $ 152,836 $ 104,956 \\nGross margin percentage:\\nProducts  36.3%  35.3%  31.5% \\nServices  71.7%  69.7%  66.0% \\nTotal gross margin percentage  43.3%  41.8%  38.2% \\nProducts Gross Margin\\nProducts gross margin increased during 2022  compared to 2021  due primarily to a different Products mix and higher Products \\nvolume, partially offset by the weakness in foreign currencies relative to the U.S. dollar.\\nProducts gross margin percentage increased during 2022  compared to 2021  due primarily to a different Products mix, partially \\noffset by the weakness in foreign currencies relative to the U.S. dollar.\\nServices Gross Margin' metadata={'page': 25.0, 'source': '/content/apple_annual_report_2023.pdf'}\n",
            "----------------------------------------------------------------------------------------------------\n",
            "page_content='For the sale of third-party products where the Company obtains control of the product before transferring it to the customer, the \\nCompany recognizes revenue based on the gross amount billed to customers. The Company considers multiple factors when \\ndetermining whether it obtains control of third-party products, including evaluating if it can establish the price of the product, \\nretains inventory risk for tangible products or has the responsibility for ensuring acceptability of the product. For third-party \\napplications sold through the App Store and certain digital content sold through the Company’s other digital content stores, the \\nCompany does not obtain control of the product before transferring it to the customer. Therefore, the Company accounts for such \\nsales on a net basis by recognizing in Services net sales only the commission it retains.\\nThe Company records revenue net of taxes collected from customers that are remitted to governmental authorities, with the' metadata={'page': 37.0, 'source': '/content/apple_annual_report_2023.pdf'}\n",
            "----------------------------------------------------------------------------------------------------\n",
            "page_content='the sales price of the respective product.\\n(2) Wearables, Home and Accessories net sales include sales of AirPods, Apple TV, Apple Watch, Beats products, HomePod \\nmini and accessories.\\n(3) Services net sales include sales from the Company’s advertising, AppleCare, cloud, digital content, payment and other \\nservices. Services net sales also include amortization of the deferred value of services bundled in the sales price of certain \\nproducts.\\n(4) Includes $7.5 billion  of revenue recognized in 2022  that was included in deferred revenue as of September\\xa025, 2021 , $6.7 \\nbillion  of revenue recognized in 2021  that was included in deferred revenue as of September\\xa026, 2020 , and $5.0 billion  of \\nrevenue recognized in 2020  that was included in deferred revenue as of September\\xa028, 2019 .\\nThe Company’s proportion of net sales by disaggregated revenue source was generally consistent for each reportable segment' metadata={'page': 39.0, 'source': '/content/apple_annual_report_2023.pdf'}\n",
            "----------------------------------------------------------------------------------------------------\n",
            "page_content='part to seasonal holiday demand. Additionally, new product and service introductions can significantly impact net sales, cost of \\nsales and operating expenses. Further, the Company generates a significant portion of its net sales from a single product and a \\ndecline in demand for that product could significantly impact quarterly net sales. The Company could also be subject to \\nunexpected developments, such as lower-than-anticipated demand for the Company’s products or services, issues with new \\nproduct or service introductions, information technology system failures or network disruptions, or failure of one of the \\nCompany’s logistics, components supply, or manufacturing partners.\\nApple Inc. | 2022  Form 10-K | 15' metadata={'page': 17.0, 'source': '/content/apple_annual_report_2023.pdf'}\n",
            "----------------------------------------------------------------------------------------------------\n",
            "page_content='Item 8 of this Form 10-K in the Notes to Consolidated Financial Statements in Note 11, “Segment Information and Geographic \\nData.”\\nThe following table shows net sales by reportable segment for 2022 , 2021  and 2020  (dollars in millions):\\n2022 Change 2021 Change 2020\\nNet sales by reportable segment:\\nAmericas $ 169,658  11 % $ 153,306  23 % $ 124,556 \\nEurope  95,118  7 %  89,307  30 %  68,640 \\nGreater China  74,200  9 %  68,366  70 %  40,308 \\nJapan  25,977  (9) %  28,482  33 %  21,418 \\nRest of Asia Pacific  29,375  11 %  26,356  35 %  19,593 \\nTotal net sales $ 394,328  8 % $ 365,817  33 % $ 274,515 \\nAmericas\\nAmericas net sales increased during 2022  compared to 2021  due primarily to higher net sales of iPhone, Services and Mac.\\nEurope\\nEurope net sales increased during 2022  compared to 2021  due primarily to higher net sales of iPhone and Services. The \\nweakness in foreign currencies relative to the U.S. dollar had a net unfavorable year-over-year impact on Europe net sales' metadata={'page': 24.0, 'source': '/content/apple_annual_report_2023.pdf'}\n",
            "----------------------------------------------------------------------------------------------------\n",
            "page_content='Services gross margin increased during 2022  compared to 2021  due primarily to higher Services net sales, partially offset by the \\nweakness in foreign currencies relative to the U.S. dollar.\\nServices gross margin percentage increased during 2022  compared to 2021  due primarily to improved leverage and a different \\nServices mix, partially offset by the weakness in foreign currencies relative to the U.S. dollar.\\nThe Company’s future gross margins can be impacted by a variety of factors, as discussed in Part I, Item 1A of this Form 10-K \\nunder the heading “Risk Factors.” As a result, the Company believes, in general, gross margins will be subject to volatility and \\ndownward pressure.\\nOperating Expenses\\nOperating expenses for 2022 , 2021  and 2020  were as follows (dollars in millions):\\n2022 Change 2021 Change 2020\\nResearch and development $ 26,251  20 % $ 21,914  17 % $ 18,752 \\nPercentage of total net sales  7%  6%  7%' metadata={'page': 25.0, 'source': '/content/apple_annual_report_2023.pdf'}\n",
            "----------------------------------------------------------------------------------------------------\n",
            "page_content='ownership of products or services are transferred to its customers. For most of the Company’s Products net sales, control \\ntransfers when products are shipped. For the Company’s Services net sales, control transfers over time as services are \\ndelivered. Payment for Products and Services net sales is collected within a short period following transfer of control or \\ncommencement of delivery of services, as applicable.\\nThe Company records reductions to Products net sales related to future product returns, price protection and other customer \\nincentive programs based on the Company’s expectations and historical experience.\\nFor arrangements with multiple performance obligations, which represent promises within an arrangement that are distinct, the \\nCompany allocates revenue to all distinct performance obligations based on their relative stand-alone selling prices (“SSPs”).' metadata={'page': 36.0, 'source': '/content/apple_annual_report_2023.pdf'}\n",
            "----------------------------------------------------------------------------------------------------\n",
            "page_content='in Note 11, “Segment Information and Geographic Data” for 2022 , 2021  and 2020 , except in Greater China, where iPhone \\nrevenue represented a moderately higher proportion of net sales  in 2022  and 2021 .' metadata={'page': 39.0, 'source': '/content/apple_annual_report_2023.pdf'}\n",
            "----------------------------------------------------------------------------------------------------\n",
            "page_content='revenue represented a moderately higher proportion of net sales  in 2022  and 2021 .\\nAs of September\\xa024, 2022  and September\\xa025, 2021 , the Company had total deferred revenue of $12.4 billion  and $11.9\\xa0billion , \\nrespectively. As of September\\xa024, 2022 , the Company expects 64% of total deferred revenue to be realized in less than a year, \\n27% within one-to-two years, 7% within two-to-three years and 2% in greater than three years.\\nApple Inc. | 2022  Form 10-K | 37' metadata={'page': 39.0, 'source': '/content/apple_annual_report_2023.pdf'}\n",
            "----------------------------------------------------------------------------------------------------\n",
            "page_content='Services gross margin increased during 2022  compared to 2021  due primarily to higher Services net sales, partially offset by the \\nweakness in foreign currencies relative to the U.S. dollar.\\nServices gross margin percentage increased during 2022  compared to 2021  due primarily to improved leverage and a different \\nServices mix, partially offset by the weakness in foreign currencies relative to the U.S. dollar.\\nThe Company’s future gross margins can be impacted by a variety of factors, as discussed in Part I, Item 1A of this Form 10-K \\nunder the heading “Risk Factors.” As a result, the Company believes, in general, gross margins will be subject to volatility and \\ndownward pressure.\\nOperating Expenses\\nOperating expenses for 2022 , 2021  and 2020  were as follows (dollars in millions):\\n2022 Change 2021 Change 2020\\nResearch and development $ 26,251  20 % $ 21,914  17 % $ 18,752 \\nPercentage of total net sales  7%  6%  7%' metadata={'page': 25.0, 'source': '/content/apple_annual_report_2023.pdf'}\n",
            "----------------------------------------------------------------------------------------------------\n",
            "page_content='Business Seasonality and Product Introductions\\nThe Company has historically experienced higher net sales in its first quarter compared to other quarters in its fiscal year due in \\npart to seasonal holiday demand. Additionally, new product and service introductions can significantly impact net sales, cost of \\nsales and operating expenses. The timing of product introductions can also impact the Company’s net sales to its indirect \\ndistribution channels as these channels are filled with new inventory following a product launch, and channel inventory of an \\nolder product often declines as the launch of a newer product approaches. Net sales can also be affected when consumers and \\ndistributors anticipate a product introduction.\\nHuman Capital\\nThe Company believes it has a talented, motivated and dedicated team, and works to create an inclusive, safe and supportive \\nenvironment for all of its team members. As of September\\xa0 24, 2022 , the Company had approximately 164,000 full-time' metadata={'page': 6.0, 'source': '/content/apple_annual_report_2023.pdf'}\n",
            "----------------------------------------------------------------------------------------------------\n",
            "page_content='part to seasonal holiday demand. Additionally, new product and service introductions can significantly impact net sales, cost of \\nsales and operating expenses. Further, the Company generates a significant portion of its net sales from a single product and a \\ndecline in demand for that product could significantly impact quarterly net sales. The Company could also be subject to \\nunexpected developments, such as lower-than-anticipated demand for the Company’s products or services, issues with new \\nproduct or service introductions, information technology system failures or network disruptions, or failure of one of the \\nCompany’s logistics, components supply, or manufacturing partners.\\nApple Inc. | 2022  Form 10-K | 15' metadata={'page': 17.0, 'source': '/content/apple_annual_report_2023.pdf'}\n",
            "----------------------------------------------------------------------------------------------------\n",
            "page_content='Item 8 of this Form 10-K in the Notes to Consolidated Financial Statements in Note 11, “Segment Information and Geographic \\nData.”\\nThe following table shows net sales by reportable segment for 2022 , 2021  and 2020  (dollars in millions):\\n2022 Change 2021 Change 2020\\nNet sales by reportable segment:\\nAmericas $ 169,658  11 % $ 153,306  23 % $ 124,556 \\nEurope  95,118  7 %  89,307  30 %  68,640 \\nGreater China  74,200  9 %  68,366  70 %  40,308 \\nJapan  25,977  (9) %  28,482  33 %  21,418 \\nRest of Asia Pacific  29,375  11 %  26,356  35 %  19,593 \\nTotal net sales $ 394,328  8 % $ 365,817  33 % $ 274,515 \\nAmericas\\nAmericas net sales increased during 2022  compared to 2021  due primarily to higher net sales of iPhone, Services and Mac.\\nEurope\\nEurope net sales increased during 2022  compared to 2021  due primarily to higher net sales of iPhone and Services. The \\nweakness in foreign currencies relative to the U.S. dollar had a net unfavorable year-over-year impact on Europe net sales' metadata={'page': 24.0, 'source': '/content/apple_annual_report_2023.pdf'}\n",
            "----------------------------------------------------------------------------------------------------\n",
            "page_content='Gross Margin\\nProducts and Services gross margin and gross margin percentage for 2022 , 2021  and 2020  were as follows (dollars in millions):\\n2022 2021 2020\\nGross margin:\\nProducts $ 114,728 $ 105,126 $ 69,461 \\nServices  56,054  47,710  35,495 \\nTotal gross margin $ 170,782 $ 152,836 $ 104,956 \\nGross margin percentage:\\nProducts  36.3%  35.3%  31.5% \\nServices  71.7%  69.7%  66.0% \\nTotal gross margin percentage  43.3%  41.8%  38.2% \\nProducts Gross Margin\\nProducts gross margin increased during 2022  compared to 2021  due primarily to a different Products mix and higher Products \\nvolume, partially offset by the weakness in foreign currencies relative to the U.S. dollar.\\nProducts gross margin percentage increased during 2022  compared to 2021  due primarily to a different Products mix, partially \\noffset by the weakness in foreign currencies relative to the U.S. dollar.\\nServices Gross Margin' metadata={'page': 25.0, 'source': '/content/apple_annual_report_2023.pdf'}\n",
            "----------------------------------------------------------------------------------------------------\n",
            "page_content='during 2022 .\\nGreater China\\nGreater China net sales increased during 2022  compared to 2021  due primarily to higher net sales of iPhone and Services. The \\nstrength of the renminbi relative to the U.S. dollar had a favorable year-over-year impact on Greater China net sales during 2022 .\\nJapan\\nJapan net sales decreased during 2022  compared to 2021  due to the weakness of the yen relative to the U.S. dollar.\\nRest of Asia Pacific\\nRest of Asia Pacific net sales increased during 2022  compared to 2021  due primarily to higher net sales of iPhone, Mac and \\nServices. The weakness in foreign currencies relative to the U.S. dollar had an unfavorable year-over-year impact on Rest of \\nAsia Pacific net sales during 2022 .\\nApple Inc. | 2022  Form 10-K | 22' metadata={'page': 24.0, 'source': '/content/apple_annual_report_2023.pdf'}\n",
            "----------------------------------------------------------------------------------------------------\n",
            "page_content='Selling, general and administrative $ 25,094  14 % $ 21,973  10 % $ 19,916 \\nPercentage of total net sales  6%  6%  7% \\nTotal operating expenses $ 51,345  17 % $ 43,887  13 % $ 38,668 \\nPercentage of total net sales  13%  12%  14% \\nResearch and Development\\nThe year-over-year growth in R&D expense in 2022  was driven primarily by increases in headcount-related expenses and \\nengineering program costs.\\nSelling, General and Administrative\\nThe year-over-year growth in selling, general and administrative expense in 2022  was driven primarily by increases in \\nheadcount-related expenses, advertising and professional services.\\nApple Inc. | 2022  Form 10-K | 23' metadata={'page': 25.0, 'source': '/content/apple_annual_report_2023.pdf'}\n",
            "----------------------------------------------------------------------------------------------------\n",
            "page_content='Note 11 – Segment Information and Geographic Data\\nThe following table shows information by reportable segment for 2022 , 2021  and 2020  (in millions):\\n2022 2021 2020\\nAmericas:\\nNet sales $ 169,658 $ 153,306 $ 124,556 \\nOperating income $ 62,683 $ 53,382 $ 37,722 \\nEurope:\\nNet sales $ 95,118 $ 89,307 $ 68,640 \\nOperating income $ 35,233 $ 32,505 $ 22,170 \\nGreater China:\\nNet sales $ 74,200 $ 68,366 $ 40,308 \\nOperating income $ 31,153 $ 28,504 $ 15,261 \\nJapan:\\nNet sales $ 25,977 $ 28,482 $ 21,418 \\nOperating income $ 12,257 $ 12,798 $ 9,279 \\nRest of Asia Pacific:\\nNet sales $ 29,375 $ 26,356 $ 19,593 \\nOperating income $ 11,569 $ 9,817 $ 6,808 \\nA reconciliation of the Company’s segment operating income to the Consolidated Statements of Operations for 2022 , 2021  and \\n2020  is as follows (in millions):\\n2022 2021 2020\\nSegment operating income $ 152,895 $ 137,006 $ 91,240 \\nResearch and development expense  (26,251)  (21,914)  (18,752) \\nOther corporate expenses, net  (7,207)  (6,143)  (6,200)' metadata={'page': 51.0, 'source': '/content/apple_annual_report_2023.pdf'}\n",
            "----------------------------------------------------------------------------------------------------\n",
            "page_content='Apple Inc.\\nCONSOLIDATED STATEMENTS OF OPERATIONS\\n(In millions, except number of shares which are reflected in thousands and per share amounts)\\nYears ended\\nSeptember 24,\\n2022September 25,\\n2021September 26,\\n2020\\nNet sales:\\n   Products $ 316,199 $ 297,392 $ 220,747 \\n   Services  78,129  68,425  53,768 \\nTotal net sales  394,328  365,817  274,515 \\nCost of sales:\\n   Products  201,471  192,266  151,286 \\n   Services  22,075  20,715  18,273 \\nTotal cost of sales  223,546  212,981  169,559 \\nGross margin  170,782  152,836  104,956 \\nOperating expenses:\\nResearch and development  26,251  21,914  18,752 \\nSelling, general and administrative  25,094  21,973  19,916 \\nTotal operating expenses  51,345  43,887  38,668 \\nOperating income  119,437  108,949  66,288 \\nOther income/(expense), net  (334)  258  803 \\nIncome before provision for income taxes  119,103  109,207  67,091 \\nProvision for income taxes  19,300  14,527  9,680 \\nNet income $ 99,803 $ 94,680 $ 57,411 \\nEarnings per share:' metadata={'page': 31.0, 'source': '/content/apple_annual_report_2023.pdf'}\n",
            "----------------------------------------------------------------------------------------------------\n",
            "page_content='The Company has a large, global business with sales outside the U.S. representing a majority of the Company’s total net sales, \\nand the Company believes that it generally benefits from growth in international trade. Substantially all of the Company’s \\nmanufacturing is performed in whole or in part by outsourcing partners located primarily in Asia, including China mainland, India, \\nJapan, South Korea, Taiwan and Vietnam. Trade policies and disputes and other international conflicts can result in tariffs, \\nsanctions and other measures that restrict international trade, and can materially adversely affect the Company’s business, \\nparticularly if these measures occur in regions where the Company derives a significant portion of its revenues and/or has \\nsignificant supply chain operations. For example, tensions between the U.S. and China have led to a series of tariffs being' metadata={'page': 8.0, 'source': '/content/apple_annual_report_2023.pdf'}\n",
            "----------------------------------------------------------------------------------------------------\n",
            "page_content='Item 8 of this Form 10-K in the Notes to Consolidated Financial Statements in Note 11, “Segment Information and Geographic \\nData.”\\nThe following table shows net sales by reportable segment for 2022 , 2021  and 2020  (dollars in millions):\\n2022 Change 2021 Change 2020\\nNet sales by reportable segment:\\nAmericas $ 169,658  11 % $ 153,306  23 % $ 124,556 \\nEurope  95,118  7 %  89,307  30 %  68,640 \\nGreater China  74,200  9 %  68,366  70 %  40,308 \\nJapan  25,977  (9) %  28,482  33 %  21,418 \\nRest of Asia Pacific  29,375  11 %  26,356  35 %  19,593 \\nTotal net sales $ 394,328  8 % $ 365,817  33 % $ 274,515 \\nAmericas\\nAmericas net sales increased during 2022  compared to 2021  due primarily to higher net sales of iPhone, Services and Mac.\\nEurope\\nEurope net sales increased during 2022  compared to 2021  due primarily to higher net sales of iPhone and Services. The \\nweakness in foreign currencies relative to the U.S. dollar had a net unfavorable year-over-year impact on Europe net sales' metadata={'page': 24.0, 'source': '/content/apple_annual_report_2023.pdf'}\n",
            "----------------------------------------------------------------------------------------------------\n",
            "page_content='three  vendors that individually represented 10% or more of total vendor n on-trade re ceivables, which accounted for 52%, 11% \\nand 11%.' metadata={'page': 42.0, 'source': '/content/apple_annual_report_2023.pdf'}\n",
            "----------------------------------------------------------------------------------------------------\n",
            "page_content='Services gross margin increased during 2022  compared to 2021  due primarily to higher Services net sales, partially offset by the \\nweakness in foreign currencies relative to the U.S. dollar.\\nServices gross margin percentage increased during 2022  compared to 2021  due primarily to improved leverage and a different \\nServices mix, partially offset by the weakness in foreign currencies relative to the U.S. dollar.\\nThe Company’s future gross margins can be impacted by a variety of factors, as discussed in Part I, Item 1A of this Form 10-K \\nunder the heading “Risk Factors.” As a result, the Company believes, in general, gross margins will be subject to volatility and \\ndownward pressure.\\nOperating Expenses\\nOperating expenses for 2022 , 2021  and 2020  were as follows (dollars in millions):\\n2022 Change 2021 Change 2020\\nResearch and development $ 26,251  20 % $ 21,914  17 % $ 18,752 \\nPercentage of total net sales  7%  6%  7%' metadata={'page': 25.0, 'source': '/content/apple_annual_report_2023.pdf'}\n",
            "----------------------------------------------------------------------------------------------------\n",
            "page_content='Gross Margin\\nProducts and Services gross margin and gross margin percentage for 2022 , 2021  and 2020  were as follows (dollars in millions):\\n2022 2021 2020\\nGross margin:\\nProducts $ 114,728 $ 105,126 $ 69,461 \\nServices  56,054  47,710  35,495 \\nTotal gross margin $ 170,782 $ 152,836 $ 104,956 \\nGross margin percentage:\\nProducts  36.3%  35.3%  31.5% \\nServices  71.7%  69.7%  66.0% \\nTotal gross margin percentage  43.3%  41.8%  38.2% \\nProducts Gross Margin\\nProducts gross margin increased during 2022  compared to 2021  due primarily to a different Products mix and higher Products \\nvolume, partially offset by the weakness in foreign currencies relative to the U.S. dollar.\\nProducts gross margin percentage increased during 2022  compared to 2021  due primarily to a different Products mix, partially \\noffset by the weakness in foreign currencies relative to the U.S. dollar.\\nServices Gross Margin' metadata={'page': 25.0, 'source': '/content/apple_annual_report_2023.pdf'}\n",
            "----------------------------------------------------------------------------------------------------\n",
            "page_content='three  vendors that individually represented 10% or more of total vendor n on-trade re ceivables, which accounted for 52%, 11% \\nand 11%.\\nApple Inc. | 2022  Form 10-K | 40' metadata={'page': 42.0, 'source': '/content/apple_annual_report_2023.pdf'}\n",
            "----------------------------------------------------------------------------------------------------\n",
            "page_content='Total operating income $ 119,437 $ 108,949 $ 66,288 \\nThe U.S. and China were the only countries that accounted for more than 10% of the Company’s net sales in 2022 , 2021  and \\n2020 . Net sales for 2022 , 2021  and 2020  and long-lived assets as of September\\xa024, 2022  and September\\xa025, 2021  were as \\nfollows (in millions):\\n2022 2021 2020\\nNet sales:\\nU.S. $ 147,859 $ 133,803 $ 109,197 \\nChina (1) 74,200  68,366  40,308 \\nOther countries  172,269  163,648  125,010 \\nTotal net sales $ 394,328 $ 365,817 $ 274,515 \\n2022 2021\\nLong-lived assets:\\nU.S. $ 31,119 $ 28,203 \\nChina (1) 7,260  7,521 \\nOther countries  3,738  3,716 \\nTotal long-lived assets $ 42,117 $ 39,440 \\n(1) China includes Hong Kong and Taiwan.  Long-lived assets located in China consist primarily of assets related to product \\nmanufacturing, retail stores and related infrastructure .\\nApple Inc. | 2022  Form 10-K | 49' metadata={'page': 51.0, 'source': '/content/apple_annual_report_2023.pdf'}\n",
            "----------------------------------------------------------------------------------------------------\n",
            "page_content='revenue represented a moderately higher proportion of net sales  in 2022  and 2021 .\\nAs of September\\xa024, 2022  and September\\xa025, 2021 , the Company had total deferred revenue of $12.4 billion  and $11.9\\xa0billion , \\nrespectively. As of September\\xa024, 2022 , the Company expects 64% of total deferred revenue to be realized in less than a year, \\n27% within one-to-two years, 7% within two-to-three years and 2% in greater than three years.\\nApple Inc. | 2022  Form 10-K | 37' metadata={'page': 39.0, 'source': '/content/apple_annual_report_2023.pdf'}\n",
            "----------------------------------------------------------------------------------------------------\n",
            "page_content='The Company’s financial performance is subject to risks associated with changes in the value of the U.S. dollar relative \\nto local currencies.\\nThe Company’s primary exposure to movements in foreign currency exchange rates relates to non–U.S. dollar–denominated \\nsales, cost of sales and operating expenses worldwide. Gross margins on the Company’s products in foreign countries and on \\nproducts that include components obtained from foreign suppliers could be materially adversely affected by foreign currency \\nexchange rate fluctuations.\\nThe weakening of foreign currencies relative to the U.S. dollar adversely affects the U.S. dollar value of the Company’s foreign \\ncurrency–denominated sales and earnings, and generally leads the Company to raise international pricing, potentially reducing \\ndemand for the Company’s products. In some circumstances, for competitive or other reasons, the Company may decide not to' metadata={'page': 18.0, 'source': '/content/apple_annual_report_2023.pdf'}\n",
            "----------------------------------------------------------------------------------------------------\n",
            "page_content='in Note 11, “Segment Information and Geographic Data” for 2022 , 2021  and 2020 , except in Greater China, where iPhone \\nrevenue represented a moderately higher proportion of net sales  in 2022  and 2021 .' metadata={'page': 39.0, 'source': '/content/apple_annual_report_2023.pdf'}\n",
            "----------------------------------------------------------------------------------------------------\n"
          ]
        }
      ]
    },
    {
      "cell_type": "code",
      "source": [
        "# Deduplicate the retrieved documents\n",
        "unique_documents = set()\n",
        "for documents in query_results_dict.values():\n",
        "    for document in documents:\n",
        "        unique_documents.add(document.page_content)\n",
        "\n",
        "unique_documents = list(unique_documents)"
      ],
      "metadata": {
        "id": "IyBNEzAdTtV3"
      },
      "execution_count": null,
      "outputs": []
    },
    {
      "cell_type": "code",
      "source": [
        "unique_documents"
      ],
      "metadata": {
        "id": "PPbSWtWVULGn",
        "colab": {
          "base_uri": "https://localhost:8080/"
        },
        "outputId": "9fc334c6-be3c-47ab-f83f-b913e72464fc"
      },
      "execution_count": null,
      "outputs": [
        {
          "output_type": "execute_result",
          "data": {
            "text/plain": [
              "['the sales price of the respective product.\\n(2) Wearables, Home and Accessories net sales include sales of AirPods, Apple TV, Apple Watch, Beats products, HomePod \\nmini and accessories.\\n(3) Services net sales include sales from the Company’s advertising, AppleCare, cloud, digital content, payment and other \\nservices. Services net sales also include amortization of the deferred value of services bundled in the sales price of certain \\nproducts.\\n(4) Includes $7.5 billion  of revenue recognized in 2022  that was included in deferred revenue as of September\\xa025, 2021 , $6.7 \\nbillion  of revenue recognized in 2021  that was included in deferred revenue as of September\\xa026, 2020 , and $5.0 billion  of \\nrevenue recognized in 2020  that was included in deferred revenue as of September\\xa028, 2019 .\\nThe Company’s proportion of net sales by disaggregated revenue source was generally consistent for each reportable segment',\n",
              " 'Apple Inc.\\nCONSO LIDATED STATEMENTS OF CASH FLOWS\\n(In millions)\\nYears ended\\nSeptember 24,\\n2022September 25,\\n2021September 26,\\n2020\\nCash, cash equivalents and restricted cash, beginning balances $ 35,929 $ 39,789 $ 50,224 \\nOperating activities:\\nNet income  99,803  94,680  57,411 \\nAdjustments to reconcile net income to cash generated by operating activities:\\nDepreciation and amortization  11,104  11,284  11,056 \\nShare-based compensation expense  9,038  7,906  6,829 \\nDeferred income tax expense/(benefit)  895  (4,774)  (215) \\nOther  111  (147)  (97) \\nChanges in operating assets and liabilities:\\nAccounts receivable, net  (1,823)  (10,125)  6,917 \\nInventories  1,484  (2,642)  (127) \\nVendor non-trade receivables  (7,520)  (3,903)  1,553 \\nOther current and non-current assets  (6,499)  (8,042)  (9,588) \\nAccounts payable  9,448  12,326  (4,062) \\nDeferred revenue  478  1,676  2,081 \\nOther current and non-current liabilities  5,632  5,799  8,916',\n",
              " 'included in the first fiscal quarter every five or six years to realign the Company’s fiscal quarters with calendar quarters , which will  \\noccur in the first quarter of the Company’s fiscal year ending September 30, 2023 . The Company’s fiscal years 2022 , 2021  and \\n2020  spanned 52 weeks each. Unless otherwise stated, references to particular years, quarters, months and periods refer to the \\nCompany’s fiscal years ended in September and the associated quarters, months and periods of those fiscal years .\\nRevenue Recognition\\nNet sales consist of revenue from the sale of iPhone, Mac, iPad, Services and other products. The Company recognizes revenue \\nat the amount to which it expects to be entitled when control of the products or services is transferred to its customers. Control is \\ngenerally transferred when the Company has a present right to payment and title and the significant risks and rewards of',\n",
              " 'during 2022 .\\nGreater China\\nGreater China net sales increased during 2022  compared to 2021  due primarily to higher net sales of iPhone and Services. The \\nstrength of the renminbi relative to the U.S. dollar had a favorable year-over-year impact on Greater China net sales during 2022 .\\nJapan\\nJapan net sales decreased during 2022  compared to 2021  due to the weakness of the yen relative to the U.S. dollar.\\nRest of Asia Pacific\\nRest of Asia Pacific net sales increased during 2022  compared to 2021  due primarily to higher net sales of iPhone, Mac and \\nServices. The weakness in foreign currencies relative to the U.S. dollar had an unfavorable year-over-year impact on Rest of \\nAsia Pacific net sales during 2022 .\\nApple Inc. | 2022  Form 10-K | 22',\n",
              " 'The Company’s financial performance is subject to risks associated with changes in the value of the U.S. dollar relative \\nto local currencies.\\nThe Company’s primary exposure to movements in foreign currency exchange rates relates to non–U.S. dollar–denominated \\nsales, cost of sales and operating expenses worldwide. Gross margins on the Company’s products in foreign countries and on \\nproducts that include components obtained from foreign suppliers could be materially adversely affected by foreign currency \\nexchange rate fluctuations.\\nThe weakening of foreign currencies relative to the U.S. dollar adversely affects the U.S. dollar value of the Company’s foreign \\ncurrency–denominated sales and earnings, and generally leads the Company to raise international pricing, potentially reducing \\ndemand for the Company’s products. In some circumstances, for competitive or other reasons, the Company may decide not to',\n",
              " 'Total operating income $ 119,437 $ 108,949 $ 66,288 \\nThe U.S. and China were the only countries that accounted for more than 10% of the Company’s net sales in 2022 , 2021  and \\n2020 . Net sales for 2022 , 2021  and 2020  and long-lived assets as of September\\xa024, 2022  and September\\xa025, 2021  were as \\nfollows (in millions):\\n2022 2021 2020\\nNet sales:\\nU.S. $ 147,859 $ 133,803 $ 109,197 \\nChina (1) 74,200  68,366  40,308 \\nOther countries  172,269  163,648  125,010 \\nTotal net sales $ 394,328 $ 365,817 $ 274,515 \\n2022 2021\\nLong-lived assets:\\nU.S. $ 31,119 $ 28,203 \\nChina (1) 7,260  7,521 \\nOther countries  3,738  3,716 \\nTotal long-lived assets $ 42,117 $ 39,440 \\n(1) China includes Hong Kong and Taiwan.  Long-lived assets located in China consist primarily of assets related to product \\nmanufacturing, retail stores and related infrastructure .\\nApple Inc. | 2022  Form 10-K | 49',\n",
              " 'Other Income/(Expense), Net\\nOther income/(expense), net (“OI&E”) for 2022 , 2021  and 2020  was as follows (dollars in millions):\\n2022 Change 2021 Change 2020\\nInterest and dividend income $ 2,825 $ 2,843 $ 3,763 \\nInterest expense  (2,931)  (2,645)  (2,873) \\nOther income/(expense), net  (228)  60  (87) \\nTotal other income/(expense), net $ (334)  (229) % $ 258  (68) % $ 803 \\nThe decrease in OI&E during 2022  compared to 2021  was due primarily to higher realized losses on debt securities, unfavorable \\nfair value adjustments on equity securities and higher interest expense, partially offset by higher foreign exchange gains.\\nProvision for Income Taxes\\nProvision for income taxes, effective tax rate and statutory federal income tax rate for 2022 , 2021  and 2020  were as follows \\n(dollars in millions):\\n2022 2021 2020\\nProvision for income taxes $ 19,300 $ 14,527 $ 9,680 \\nEffective tax rate  16.2%  13.3%  14.4% \\nStatutory federal income tax rate  21%  21%  21%',\n",
              " 'expenses managed outside the reportable segments. Costs excluded from segment operating income include various corporate \\nexpenses such as research and development  (“R&D”),  corporate marketing expenses, certain share-based compensation \\nexpenses, income taxes, various nonrecurring charges and other separately managed general and administrative costs. The \\nCompany does not include intercompany transfers between segments for management reporting purposes.\\nNote 2  – Revenue\\nNet sales disaggregated  by significant products and services for 2022 , 2021  and 2020  were as follows (in millions):\\n2022 2021 2020\\niPhone (1)$ 205,489 $ 191,973 $ 137,781 \\nMac (1) 40,177  35,190  28,622 \\niPad (1) 29,292  31,862  23,724 \\nWearables, Home and Accessories (1)(2) 41,241  38,367  30,620 \\nServices (3) 78,129  68,425  53,768 \\nTotal net sales (4)$ 394,328 $ 365,817 $ 274,515 \\n(1) Products net sales include amortization of the deferred value of unspecified software upgrade rights, which are bundled in',\n",
              " 'direct sales force. The Company also employs a variety of indirect distribution channels, such as third-party cellular network \\ncarriers, wholesalers, retailers and resellers. During 2022 , the Company’s net sales through its direct and indirect distribution \\nchannels accounted for 38% and 62%, respectively, of total net sales.\\nCompetition\\nThe markets for the Company’s products and services are highly competitive, and are characterized by aggressive price \\ncompetition and resulting downward pressure on gross margins, frequent introduction of new products and services, short \\nproduct life cycles, evolving industry standards, continual improvement in product price and performance characteristics, rapid \\nadoption of technological advancements by competitors, and price sensitivity on the part of consumers and businesses. Many of \\nthe Company’s competitors seek to compete primarily through aggressive pricing and very low cost structures, and by imitating',\n",
              " 'on purchases of output of the underlying leased assets. Lease costs associated with fixed payments on the Company’s operating \\nleases were $1.9 billion , $1.7 billion  and $1.5 billion  for 2022 , 2021  and 2020 , respectively. Lease costs associated with variable \\npayments on the Company’s leases were $14.9 billion , $12.9 billion  and $9.3 billion  for 2022 , 2021  and 2020 , respectively.\\nThe Company made $1.8 billion , $1.4 billion  and $1.5 billion  of fixed cash payments related to operating leases in 2022 , 2021  \\nand 2020 , respectively. Noncash activities involving right-of-use (“ROU”) assets obtained in exchange for lease liabilities were \\n$2.8 billion  for 2022 , $3.3 billion  for 2021  and $10.5 billion  for 2020 , including the impact of adopting the Financial Accounting \\nStandards Board’s Accounting Standards Update No. 2016-02, Leases (Topic 842) in the first quarter of 2020.\\nApple Inc. | 2022  Form 10-K | 43',\n",
              " 'The Company has a large, global business with sales outside the U.S. representing a majority of the Company’s total net sales, \\nand the Company believes that it generally benefits from growth in international trade. Substantially all of the Company’s \\nmanufacturing is performed in whole or in part by outsourcing partners located primarily in Asia, including China mainland, India, \\nJapan, South Korea, Taiwan and Vietnam. Trade policies and disputes and other international conflicts can result in tariffs, \\nsanctions and other measures that restrict international trade, and can materially adversely affect the Company’s business, \\nparticularly if these measures occur in regions where the Company derives a significant portion of its revenues and/or has \\nsignificant supply chain operations. For example, tensions between the U.S. and China have led to a series of tariffs being',\n",
              " 'For the sale of third-party products where the Company obtains control of the product before transferring it to the customer, the \\nCompany recognizes revenue based on the gross amount billed to customers. The Company considers multiple factors when \\ndetermining whether it obtains control of third-party products, including evaluating if it can establish the price of the product, \\nretains inventory risk for tangible products or has the responsibility for ensuring acceptability of the product. For third-party \\napplications sold through the App Store and certain digital content sold through the Company’s other digital content stores, the \\nCompany does not obtain control of the product before transferring it to the customer. Therefore, the Company accounts for such \\nsales on a net basis by recognizing in Services net sales only the commission it retains.\\nThe Company records revenue net of taxes collected from customers that are remitted to governmental authorities, with the',\n",
              " 'ownership of products or services are transferred to its customers. For most of the Company’s Products net sales, control \\ntransfers when products are shipped. For the Company’s Services net sales, control transfers over time as services are \\ndelivered. Payment for Products and Services net sales is collected within a short period following transfer of control or \\ncommencement of delivery of services, as applicable.\\nThe Company records reductions to Products net sales related to future product returns, price protection and other customer \\nincentive programs based on the Company’s expectations and historical experience.\\nFor arrangements with multiple performance obligations, which represent promises within an arrangement that are distinct, the \\nCompany allocates revenue to all distinct performance obligations based on their relative stand-alone selling prices (“SSPs”).',\n",
              " 'Note 11 – Segment Information and Geographic Data\\nThe following table shows information by reportable segment for 2022 , 2021  and 2020  (in millions):\\n2022 2021 2020\\nAmericas:\\nNet sales $ 169,658 $ 153,306 $ 124,556 \\nOperating income $ 62,683 $ 53,382 $ 37,722 \\nEurope:\\nNet sales $ 95,118 $ 89,307 $ 68,640 \\nOperating income $ 35,233 $ 32,505 $ 22,170 \\nGreater China:\\nNet sales $ 74,200 $ 68,366 $ 40,308 \\nOperating income $ 31,153 $ 28,504 $ 15,261 \\nJapan:\\nNet sales $ 25,977 $ 28,482 $ 21,418 \\nOperating income $ 12,257 $ 12,798 $ 9,279 \\nRest of Asia Pacific:\\nNet sales $ 29,375 $ 26,356 $ 19,593 \\nOperating income $ 11,569 $ 9,817 $ 6,808 \\nA reconciliation of the Company’s segment operating income to the Consolidated Statements of Operations for 2022 , 2021  and \\n2020  is as follows (in millions):\\n2022 2021 2020\\nSegment operating income $ 152,895 $ 137,006 $ 91,240 \\nResearch and development expense  (26,251)  (21,914)  (18,752) \\nOther corporate expenses, net  (7,207)  (6,143)  (6,200)',\n",
              " 'Products and Services Performance\\nThe following table shows net sales by category for 2022 , 2021  and 2020  (dollars in millions):\\n2022 Change 2021 Change 2020\\nNet sales by category:\\niPhone (1)$ 205,489  7 % $ 191,973  39 % $ 137,781 \\nMac (1) 40,177  14 %  35,190  23 %  28,622 \\niPad (1) 29,292  (8) %  31,862  34 %  23,724 \\nWearables, Home and Accessories (1)(2) 41,241  7 %  38,367  25 %  30,620 \\nServices (3) 78,129  14 %  68,425  27 %  53,768 \\nTotal net sales $ 394,328  8 % $ 365,817  33 % $ 274,515 \\n(1) Products net sales include amortization of the deferred value of unspecified software upgrade rights, which are bundled in \\nthe sales price of the respective product.\\n(2) Wearables, Home and Accessories net sales include sales of AirPods, Apple TV, Apple Watch, Beats products, HomePod \\nmini and accessories.\\n(3) Services net sales include sales from the Company’s advertising, AppleCare, cloud, digital content, payment and other',\n",
              " 'Cash generated by operating activities  122,151  104,038  80,674 \\nInvesting activities:\\nPurchases of marketable securities  (76,923)  (109,558)  (114,938) \\nProceeds from maturities of marketable securities  29,917  59,023  69,918 \\nProceeds from sales of marketable securities  37,446  47,460  50,473 \\nPayments for acquisition of property, plant and equipment  (10,708)  (11,085)  (7,309) \\nPayments made in connection with business acquisitions, net  (306)  (33)  (1,524) \\nOther  (1,780)  (352)  (909) \\nCash used in investing activities  (22,354)  (14,545)  (4,289) \\nFinancing activities:\\nPayments for taxes related to net share settlement of equity awards  (6,223)  (6,556)  (3,634) \\nPayments for dividends and dividend equivalents  (14,841)  (14,467)  (14,081) \\nRepurchases of common stock  (89,402)  (85,971)  (72,358) \\nProceeds from issuance of term debt, net  5,465  20,393  16,091 \\nRepayments of term debt  (9,543)  (8,750)  (12,629)',\n",
              " 'part to seasonal holiday demand. Additionally, new product and service introductions can significantly impact net sales, cost of \\nsales and operating expenses. Further, the Company generates a significant portion of its net sales from a single product and a \\ndecline in demand for that product could significantly impact quarterly net sales. The Company could also be subject to \\nunexpected developments, such as lower-than-anticipated demand for the Company’s products or services, issues with new \\nproduct or service introductions, information technology system failures or network disruptions, or failure of one of the \\nCompany’s logistics, components supply, or manufacturing partners.\\nApple Inc. | 2022  Form 10-K | 15',\n",
              " 'three  vendors that individually represented 10% or more of total vendor n on-trade re ceivables, which accounted for 52%, 11% \\nand 11%.\\nApple Inc. | 2022  Form 10-K | 40',\n",
              " 'Services gross margin increased during 2022  compared to 2021  due primarily to higher Services net sales, partially offset by the \\nweakness in foreign currencies relative to the U.S. dollar.\\nServices gross margin percentage increased during 2022  compared to 2021  due primarily to improved leverage and a different \\nServices mix, partially offset by the weakness in foreign currencies relative to the U.S. dollar.\\nThe Company’s future gross margins can be impacted by a variety of factors, as discussed in Part I, Item 1A of this Form 10-K \\nunder the heading “Risk Factors.” As a result, the Company believes, in general, gross margins will be subject to volatility and \\ndownward pressure.\\nOperating Expenses\\nOperating expenses for 2022 , 2021  and 2020  were as follows (dollars in millions):\\n2022 Change 2021 Change 2020\\nResearch and development $ 26,251  20 % $ 21,914  17 % $ 18,752 \\nPercentage of total net sales  7%  6%  7%',\n",
              " 'Item 8 of this Form 10-K in the Notes to Consolidated Financial Statements in Note 11, “Segment Information and Geographic \\nData.”\\nThe following table shows net sales by reportable segment for 2022 , 2021  and 2020  (dollars in millions):\\n2022 Change 2021 Change 2020\\nNet sales by reportable segment:\\nAmericas $ 169,658  11 % $ 153,306  23 % $ 124,556 \\nEurope  95,118  7 %  89,307  30 %  68,640 \\nGreater China  74,200  9 %  68,366  70 %  40,308 \\nJapan  25,977  (9) %  28,482  33 %  21,418 \\nRest of Asia Pacific  29,375  11 %  26,356  35 %  19,593 \\nTotal net sales $ 394,328  8 % $ 365,817  33 % $ 274,515 \\nAmericas\\nAmericas net sales increased during 2022  compared to 2021  due primarily to higher net sales of iPhone, Services and Mac.\\nEurope\\nEurope net sales increased during 2022  compared to 2021  due primarily to higher net sales of iPhone and Services. The \\nweakness in foreign currencies relative to the U.S. dollar had a net unfavorable year-over-year impact on Europe net sales',\n",
              " 'three  vendors that individually represented 10% or more of total vendor n on-trade re ceivables, which accounted for 52%, 11% \\nand 11%.',\n",
              " 'Gross Margin\\nProducts and Services gross margin and gross margin percentage for 2022 , 2021  and 2020  were as follows (dollars in millions):\\n2022 2021 2020\\nGross margin:\\nProducts $ 114,728 $ 105,126 $ 69,461 \\nServices  56,054  47,710  35,495 \\nTotal gross margin $ 170,782 $ 152,836 $ 104,956 \\nGross margin percentage:\\nProducts  36.3%  35.3%  31.5% \\nServices  71.7%  69.7%  66.0% \\nTotal gross margin percentage  43.3%  41.8%  38.2% \\nProducts Gross Margin\\nProducts gross margin increased during 2022  compared to 2021  due primarily to a different Products mix and higher Products \\nvolume, partially offset by the weakness in foreign currencies relative to the U.S. dollar.\\nProducts gross margin percentage increased during 2022  compared to 2021  due primarily to a different Products mix, partially \\noffset by the weakness in foreign currencies relative to the U.S. dollar.\\nServices Gross Margin',\n",
              " 'Selling, general and administrative $ 25,094  14 % $ 21,973  10 % $ 19,916 \\nPercentage of total net sales  6%  6%  7% \\nTotal operating expenses $ 51,345  17 % $ 43,887  13 % $ 38,668 \\nPercentage of total net sales  13%  12%  14% \\nResearch and Development\\nThe year-over-year growth in R&D expense in 2022  was driven primarily by increases in headcount-related expenses and \\nengineering program costs.\\nSelling, General and Administrative\\nThe year-over-year growth in selling, general and administrative expense in 2022  was driven primarily by increases in \\nheadcount-related expenses, advertising and professional services.\\nApple Inc. | 2022  Form 10-K | 23',\n",
              " 'in Note 11, “Segment Information and Geographic Data” for 2022 , 2021  and 2020 , except in Greater China, where iPhone \\nrevenue represented a moderately higher proportion of net sales  in 2022  and 2021 .',\n",
              " 'Other income/(expense), net  (228)  60  (87) \\nTotal other income/(expense), net $ (334) $ 258 $ 803 \\nNote 5 – Income Taxes\\nProvision for Income Taxes and Effective Tax Rate\\nThe provision for income taxes for 2022 , 2021  and 2020 , consisted of the following (in millions):\\n2022 2021 2020\\nFederal:\\nCurrent $ 7,890 $ 8,257 $ 6,306 \\nDeferred  (2,265)  (7,176)  (3,619) \\nTotal  5,625  1,081  2,687 \\nState:\\nCurrent  1,519  1,620  455 \\nDeferred  84  (338)  21 \\nTotal  1,603  1,282  476 \\nForeign:\\nCurrent  8,996  9,424  3,134 \\nDeferred  3,076  2,740  3,383 \\nTotal  12,072  12,164  6,517 \\nProvision for income taxes $ 19,300 $ 14,527 $ 9,680 \\nThe foreign provision for income taxes is based on foreign pretax earnings of $71.3 billion , $68.7 billion  and $38.1 billion  in 2022 , \\n2021  and 2020 , respectively.\\nApple Inc. | 2022  Form 10-K | 41',\n",
              " 'revenue represented a moderately higher proportion of net sales  in 2022  and 2021 .\\nAs of September\\xa024, 2022  and September\\xa025, 2021 , the Company had total deferred revenue of $12.4 billion  and $11.9\\xa0billion , \\nrespectively. As of September\\xa024, 2022 , the Company expects 64% of total deferred revenue to be realized in less than a year, \\n27% within one-to-two years, 7% within two-to-three years and 2% in greater than three years.\\nApple Inc. | 2022  Form 10-K | 37',\n",
              " 'Note 4 – Consolidated Financial Statement Details\\nThe following tables show the Company’s consolidated financial statement details as of September\\xa024, 2022  and September\\xa025, \\n2021  (in millions):\\nProperty, Plant and Equipment, Net\\n2022 2021\\nLand and buildings $ 22,126 $ 20,041 \\nMachinery, equipment and internal-use software  81,060  78,659 \\nLeasehold improvements  11,271  11,023 \\nGross property, plant and equipment  114,457  109,723 \\nAccumulated depreciation and amortization  (72,340)  (70,283) \\nTotal property, plant and equipment, net $ 42,117 $ 39,440 \\nOther Non-Current Liabilities\\n2022 2021\\nLong-term taxes payable $ 16,657 $ 24,689 \\nOther non-current liabilities  32,485  28,636 \\nTotal other non-current liabilities $ 49,142 $ 53,325 \\nOther Income/(Expense), Net\\nThe following table shows the detail of OI&E for 2022 , 2021  and 2020  (in millions):\\n2022 2021 2020\\nInterest and dividend income $ 2,825 $ 2,843 $ 3,763 \\nInterest expense  (2,931)  (2,645)  (2,873)',\n",
              " 'free and use illegitimate means to obtain third-party digital content and applications. The Company faces significant competition \\nas competitors imitate the Company’s product features and applications within their products, or collaborate to offer integrated \\nsolutions that are more competitive than those they currently offer.\\nSupply of Components\\nAlthough most components essential to the Company’s business are generally available from multiple sources, certain \\ncomponents are currently obtained from single or limited sources. The Company also competes for various components with \\nother participants in the markets for smartphones, personal computers, tablets, wearables and accessories. Therefore, many \\ncomponents used by the Company, including those that are available from multiple sources, are at times subject to industry-wide \\nshortage and significant commodity pricing fluctuations.',\n",
              " 'Business Seasonality and Product Introductions\\nThe Company has historically experienced higher net sales in its first quarter compared to other quarters in its fiscal year due in \\npart to seasonal holiday demand. Additionally, new product and service introductions can significantly impact net sales, cost of \\nsales and operating expenses. The timing of product introductions can also impact the Company’s net sales to its indirect \\ndistribution channels as these channels are filled with new inventory following a product launch, and channel inventory of an \\nolder product often declines as the launch of a newer product approaches. Net sales can also be affected when consumers and \\ndistributors anticipate a product introduction.\\nHuman Capital\\nThe Company believes it has a talented, motivated and dedicated team, and works to create an inclusive, safe and supportive \\nenvironment for all of its team members. As of September\\xa0 24, 2022 , the Company had approximately 164,000 full-time',\n",
              " 'The Company is focused on expanding its market opportunities related to smartphones, personal computers, tablets, wearables \\nand accessories, and services. The Company faces substantial competition in these markets from companies that have \\nsignificant technical, marketing, distribution and other resources, as well as established hardware, software, and service offerings \\nwith large customer bases. In addition, some of the Company’s competitors have broader product lines, lower-priced products \\nand a larger installed base of active devices. Competition has been particularly intense as competitors have aggressively cut \\nprices and lowered product margins. Certain competitors have the resources, experience or cost structures to provide products \\nat little or no profit or even at a loss. The Company’s services compete with business models that provide content to users for',\n",
              " 'assets, which range from five to seven years . Depreciation and amortization expense on property, plant  and equipment was $8.7 \\nbillion , $9.5 billion  and $9.7 billion  during 2022 , 2021  and 2020 , respectively.\\nDerivative Instruments and Hedging\\nAll derivative instruments are recorded in the Consolidated Balance Sheets at fair value. The accounting treatment for derivative \\ngains and losses is based on intended use and hedge designation.\\nGains and losses arising from amounts that are included in the assessment of cash flow hedge effectiveness are initially deferred \\nin accumulated other comprehensive income/(loss) (“AOCI”) and subsequently reclassified into earnings when the hedged \\ntransaction affects earnings, and in the same line item in the Consolidated Statements of Operations. For options designated as \\ncash flow hedges, the Company excludes time value from the assessment of hedge effectiveness and recognizes it on a',\n",
              " 'Apple Inc.\\nCONSOLIDATED STATEMENTS OF OPERATIONS\\n(In millions, except number of shares which are reflected in thousands and per share amounts)\\nYears ended\\nSeptember 24,\\n2022September 25,\\n2021September 26,\\n2020\\nNet sales:\\n   Products $ 316,199 $ 297,392 $ 220,747 \\n   Services  78,129  68,425  53,768 \\nTotal net sales  394,328  365,817  274,515 \\nCost of sales:\\n   Products  201,471  192,266  151,286 \\n   Services  22,075  20,715  18,273 \\nTotal cost of sales  223,546  212,981  169,559 \\nGross margin  170,782  152,836  104,956 \\nOperating expenses:\\nResearch and development  26,251  21,914  18,752 \\nSelling, general and administrative  25,094  21,973  19,916 \\nTotal operating expenses  51,345  43,887  38,668 \\nOperating income  119,437  108,949  66,288 \\nOther income/(expense), net  (334)  258  803 \\nIncome before provision for income taxes  119,103  109,207  67,091 \\nProvision for income taxes  19,300  14,527  9,680 \\nNet income $ 99,803 $ 94,680 $ 57,411 \\nEarnings per share:',\n",
              " 'Apple Inc.\\nCONSOLIDATED STATEMENTS OF COMPREHENSIVE INCOME\\n(In millions)\\nYears ended\\nSeptember 24,\\n2022September 25,\\n2021September 26,\\n2020\\nNet income $ 99,803 $ 94,680 $ 57,411 \\nOther comprehensive income/(loss):\\nChange in foreign currency translation, net of tax  (1,511)  501  88 \\nChange in unrealized gains/losses on derivative instruments, net of tax:\\nChange in fair value of derivative instruments  3,212  32  79 \\nAdjustment for net (gains)/losses realized and included in net \\nincome  (1,074)  1,003  (1,264) \\nTotal change in unrealized gains/losses on derivative \\ninstruments  2,138  1,035  (1,185) \\nChange in unrealized gains/losses on marketable debt securities, net of \\ntax:\\nChange in fair value of marketable debt securities  (12,104)  (694)  1,202 \\nAdjustment for net (gains)/losses realized and included in net \\nincome  205  (273)  (63) \\nTotal change in unrealized gains/losses on marketable debt \\nsecurities  (11,899)  (967)  1,139',\n",
              " 'prices or model-driven valuations using significant inputs derived from or corroborated by observable market data.\\nIncome Taxes\\nThe Company records certain deferred tax assets and liabilities in connection with the minimum tax on certain foreign earnings']"
            ]
          },
          "metadata": {},
          "execution_count": 88
        }
      ]
    },
    {
      "cell_type": "markdown",
      "source": [
        "#CrossEncoder ReRanking\n"
      ],
      "metadata": {
        "id": "DW2VNojtPe1W"
      }
    },
    {
      "cell_type": "code",
      "source": [
        "!pip install sentence_transformers"
      ],
      "metadata": {
        "id": "WKSWARU0Yecg"
      },
      "execution_count": null,
      "outputs": []
    },
    {
      "cell_type": "code",
      "source": [
        "from sentence_transformers import CrossEncoder\n",
        "cross_encoder = CrossEncoder('cross-encoder/ms-marco-MiniLM-L-6-v2')"
      ],
      "metadata": {
        "id": "nj4llInJveZn",
        "colab": {
          "base_uri": "https://localhost:8080/",
          "height": 177,
          "referenced_widgets": [
            "fce67404222b4f189b546a5bcaaf1ceb",
            "00e8b5704fbf49798d537165556320e4",
            "1ea0d53a9d354446a9c7bb7dcc293e52",
            "78776283cd404d55b3790fee5bffbffb",
            "7fcadf16143840d5aca96b6e3f1adc59",
            "23876d50823d403a9f0bc9c336ce0d04",
            "8d6c5e40f9434f0d9d3140eccbc12fb7",
            "776c9f9d6a2f437d98f9f10acef30fe9",
            "b7089ec7fc0a40aba06f5c5fb951ea1f",
            "1ccf1fc117af4138b9794e7eb90a3fd1",
            "ccc9b6041d34422fae1669907941fa04",
            "d357b5e673314a35b64d82ea1b7bec7b",
            "1a012e1fe0114f5f8c617ad80b61fbd7",
            "f6e2689990df49ec906d11d31da44e06",
            "553d4b1da9a342109a2bc8d05b6b18ce",
            "fcc5e73e99644dc8af0548542f5c4871",
            "7ff81328608f4ee6b4009b21da4b2242",
            "1be0e36fb2994683a3f95f7fff02b153",
            "41a42d585d7744c28c3de7799fd4dab2",
            "69b71c5d35264d8bba443244eb7ff6d1",
            "e9b4d5e0b60c41df9f86280d8484216a",
            "396a1a12506647ffa3c4842d4f946cc4",
            "2779e04c6dd844129c06bc3606330c12",
            "149d4ae5615e495f9fe484b8881b908a",
            "ec28568d251e4c2f8d21b14ad9ee51dc",
            "3b62b1acd3384b75a6dd8be3e9b15911",
            "2491e5f14b6e4bfbbe4ad6556357e877",
            "1fcf56558cd14b2a98acac5af4d414b8",
            "4b67908f027c4d8b8135956d2ef545a2",
            "4162a9ae792a42f8bed7930dbc384fb0",
            "ff6b0a054e5e4d79b49c7d37cf966b9f",
            "9b1bf31e9e69499c9a514e4592607154",
            "8ce3247e46334a36bd2e06193ce502dc",
            "970981b7de824491a4bef80dbc1d15d0",
            "53eda179987c48d18b65415183293475",
            "ef7340a0d83046078cfdf3f362d77390",
            "25d2b698b1f34f028849d2a5a50f9133",
            "3e0a4507106c42f2af9016f5fae3c50c",
            "3de9733b7ccc4fd5be416b86650b883c",
            "f409f902c0e54485911fb51efefc0220",
            "6f28711826cd4567865842810c26786d",
            "dfadb8878d6249b5bfe17de4d3a24f48",
            "1d129e28def8481b89f535126a88df2a",
            "401b7afd169746f1837affddda1b1808",
            "f11a323473ea4dff840cdbf9a3e3a9c7",
            "a84f24e93933421aa4876c49cefbe1ca",
            "24ad531d0e074099b92f8c7aee816871",
            "86a20dfea642474d995ae2213ec27044",
            "35d1f02a34564a0d9b1fddfe9b95a779",
            "d88daaa101f94b4c9f28a4d2ef72b869",
            "cefdae980faa4001b1d57793916d99c5",
            "c62bb6ab77214859b584003556d591c9",
            "abd7ece77ea94dffb679ab661f2c5905",
            "9f008a1e1ccd4d58bd941ab2904e9629",
            "68d454ca08f04dd4b3b9e4126383a470"
          ]
        },
        "outputId": "235572f7-25fb-4a73-a060-02147d80b589"
      },
      "execution_count": null,
      "outputs": [
        {
          "output_type": "display_data",
          "data": {
            "text/plain": [
              "config.json:   0%|          | 0.00/794 [00:00<?, ?B/s]"
            ],
            "application/vnd.jupyter.widget-view+json": {
              "version_major": 2,
              "version_minor": 0,
              "model_id": "fce67404222b4f189b546a5bcaaf1ceb"
            }
          },
          "metadata": {}
        },
        {
          "output_type": "display_data",
          "data": {
            "text/plain": [
              "pytorch_model.bin:   0%|          | 0.00/90.9M [00:00<?, ?B/s]"
            ],
            "application/vnd.jupyter.widget-view+json": {
              "version_major": 2,
              "version_minor": 0,
              "model_id": "d357b5e673314a35b64d82ea1b7bec7b"
            }
          },
          "metadata": {}
        },
        {
          "output_type": "display_data",
          "data": {
            "text/plain": [
              "tokenizer_config.json:   0%|          | 0.00/316 [00:00<?, ?B/s]"
            ],
            "application/vnd.jupyter.widget-view+json": {
              "version_major": 2,
              "version_minor": 0,
              "model_id": "2779e04c6dd844129c06bc3606330c12"
            }
          },
          "metadata": {}
        },
        {
          "output_type": "display_data",
          "data": {
            "text/plain": [
              "vocab.txt:   0%|          | 0.00/232k [00:00<?, ?B/s]"
            ],
            "application/vnd.jupyter.widget-view+json": {
              "version_major": 2,
              "version_minor": 0,
              "model_id": "970981b7de824491a4bef80dbc1d15d0"
            }
          },
          "metadata": {}
        },
        {
          "output_type": "display_data",
          "data": {
            "text/plain": [
              "special_tokens_map.json:   0%|          | 0.00/112 [00:00<?, ?B/s]"
            ],
            "application/vnd.jupyter.widget-view+json": {
              "version_major": 2,
              "version_minor": 0,
              "model_id": "f11a323473ea4dff840cdbf9a3e3a9c7"
            }
          },
          "metadata": {}
        }
      ]
    },
    {
      "cell_type": "code",
      "source": [
        "original_query"
      ],
      "metadata": {
        "colab": {
          "base_uri": "https://localhost:8080/",
          "height": 36
        },
        "id": "ZGXL4hzGYxt5",
        "outputId": "a702e71e-d187-4fac-a683-6cb036838e4b"
      },
      "execution_count": null,
      "outputs": [
        {
          "output_type": "execute_result",
          "data": {
            "text/plain": [
              "'What are the main sources of revenue for the company?'"
            ],
            "application/vnd.google.colaboratory.intrinsic+json": {
              "type": "string"
            }
          },
          "metadata": {},
          "execution_count": 91
        }
      ]
    },
    {
      "cell_type": "code",
      "source": [
        "pairs = []\n",
        "for doc in unique_documents:\n",
        "    pairs.append([original_query, doc])"
      ],
      "metadata": {
        "id": "wRr-_aA4YyHc"
      },
      "execution_count": null,
      "outputs": []
    },
    {
      "cell_type": "code",
      "source": [
        "pairs[0]"
      ],
      "metadata": {
        "id": "Yurr-vqPY3rm",
        "colab": {
          "base_uri": "https://localhost:8080/"
        },
        "outputId": "df79ec80-e284-4fc7-ba05-01c49b0d689b"
      },
      "execution_count": null,
      "outputs": [
        {
          "output_type": "execute_result",
          "data": {
            "text/plain": [
              "['What are the main sources of revenue for the company?',\n",
              " 'the sales price of the respective product.\\n(2) Wearables, Home and Accessories net sales include sales of AirPods, Apple TV, Apple Watch, Beats products, HomePod \\nmini and accessories.\\n(3) Services net sales include sales from the Company’s advertising, AppleCare, cloud, digital content, payment and other \\nservices. Services net sales also include amortization of the deferred value of services bundled in the sales price of certain \\nproducts.\\n(4) Includes $7.5 billion  of revenue recognized in 2022  that was included in deferred revenue as of September\\xa025, 2021 , $6.7 \\nbillion  of revenue recognized in 2021  that was included in deferred revenue as of September\\xa026, 2020 , and $5.0 billion  of \\nrevenue recognized in 2020  that was included in deferred revenue as of September\\xa028, 2019 .\\nThe Company’s proportion of net sales by disaggregated revenue source was generally consistent for each reportable segment']"
            ]
          },
          "metadata": {},
          "execution_count": 93
        }
      ]
    },
    {
      "cell_type": "code",
      "source": [
        "scores = cross_encoder.predict(pairs)"
      ],
      "metadata": {
        "id": "vQDArKxIY48N"
      },
      "execution_count": null,
      "outputs": []
    },
    {
      "cell_type": "code",
      "source": [
        "print(\"Scores:\")\n",
        "for score in scores:\n",
        "    print(score)"
      ],
      "metadata": {
        "colab": {
          "base_uri": "https://localhost:8080/"
        },
        "id": "_zUasX5cZAg_",
        "outputId": "af68322c-f000-434a-aad0-f2a51cde6958"
      },
      "execution_count": null,
      "outputs": [
        {
          "output_type": "stream",
          "name": "stdout",
          "text": [
            "Scores:\n",
            "-2.1661196\n",
            "-9.4072275\n",
            "-3.027835\n",
            "-10.799191\n",
            "-7.3105316\n",
            "-7.3626065\n",
            "-10.770123\n",
            "-5.8069496\n",
            "-5.967999\n",
            "-8.474387\n",
            "-3.8404212\n",
            "-1.6677408\n",
            "-4.403803\n",
            "-10.176614\n",
            "-10.318494\n",
            "-8.996105\n",
            "-8.645668\n",
            "-10.185031\n",
            "-9.6425\n",
            "-10.580616\n",
            "-10.181423\n",
            "-10.445876\n",
            "-10.200811\n",
            "-7.6111503\n",
            "-10.647938\n",
            "-2.5745893\n",
            "-9.271004\n",
            "-5.888918\n",
            "-9.44285\n",
            "-7.6121073\n",
            "-8.660635\n",
            "-9.366646\n",
            "-10.446329\n",
            "-5.716876\n"
          ]
        }
      ]
    },
    {
      "cell_type": "code",
      "source": [
        "import numpy as np"
      ],
      "metadata": {
        "id": "JdcV3iOQZJqw"
      },
      "execution_count": null,
      "outputs": []
    },
    {
      "cell_type": "code",
      "source": [
        "new_ordering = []"
      ],
      "metadata": {
        "id": "yRb2bPdeP1Sw"
      },
      "execution_count": null,
      "outputs": []
    },
    {
      "cell_type": "code",
      "source": [
        "print(\"New Ordering:\")\n",
        "for o in np.argsort(scores)[::-1]:\n",
        "  new_ordering.append(o)\n",
        "  print(o)"
      ],
      "metadata": {
        "colab": {
          "base_uri": "https://localhost:8080/"
        },
        "id": "pcVXf9NYZEWJ",
        "outputId": "40322587-def7-4d6c-80f8-0ef98a717796"
      },
      "execution_count": null,
      "outputs": [
        {
          "output_type": "stream",
          "name": "stdout",
          "text": [
            "New Ordering:\n",
            "11\n",
            "0\n",
            "25\n",
            "2\n",
            "10\n",
            "12\n",
            "33\n",
            "7\n",
            "27\n",
            "8\n",
            "4\n",
            "5\n",
            "23\n",
            "29\n",
            "9\n",
            "16\n",
            "30\n",
            "15\n",
            "26\n",
            "31\n",
            "1\n",
            "28\n",
            "18\n",
            "13\n",
            "20\n",
            "17\n",
            "22\n",
            "14\n",
            "21\n",
            "32\n",
            "19\n",
            "24\n",
            "6\n",
            "3\n"
          ]
        }
      ]
    },
    {
      "cell_type": "code",
      "source": [
        "# increase the input documents if the model have larger context window or large tokens window\n",
        "new_ordering = new_ordering[0:2]"
      ],
      "metadata": {
        "id": "vI8SiCFdORnG"
      },
      "execution_count": null,
      "outputs": []
    },
    {
      "cell_type": "code",
      "source": [
        "ordered_list = [pairs[i] for i in new_ordering]"
      ],
      "metadata": {
        "id": "3UDMnUllZIIU"
      },
      "execution_count": null,
      "outputs": []
    },
    {
      "cell_type": "code",
      "source": [
        "cleaned_list = [[sublist[1]] for sublist in ordered_list]"
      ],
      "metadata": {
        "id": "1kZyglc3T89k"
      },
      "execution_count": null,
      "outputs": []
    },
    {
      "cell_type": "code",
      "source": [
        "cleaned_list"
      ],
      "metadata": {
        "colab": {
          "base_uri": "https://localhost:8080/"
        },
        "id": "MtGmz8fST-l5",
        "outputId": "49b681ce-01aa-4e6a-c608-0a11065f69ad"
      },
      "execution_count": null,
      "outputs": [
        {
          "output_type": "execute_result",
          "data": {
            "text/plain": [
              "[['For the sale of third-party products where the Company obtains control of the product before transferring it to the customer, the \\nCompany recognizes revenue based on the gross amount billed to customers. The Company considers multiple factors when \\ndetermining whether it obtains control of third-party products, including evaluating if it can establish the price of the product, \\nretains inventory risk for tangible products or has the responsibility for ensuring acceptability of the product. For third-party \\napplications sold through the App Store and certain digital content sold through the Company’s other digital content stores, the \\nCompany does not obtain control of the product before transferring it to the customer. Therefore, the Company accounts for such \\nsales on a net basis by recognizing in Services net sales only the commission it retains.\\nThe Company records revenue net of taxes collected from customers that are remitted to governmental authorities, with the'],\n",
              " ['the sales price of the respective product.\\n(2) Wearables, Home and Accessories net sales include sales of AirPods, Apple TV, Apple Watch, Beats products, HomePod \\nmini and accessories.\\n(3) Services net sales include sales from the Company’s advertising, AppleCare, cloud, digital content, payment and other \\nservices. Services net sales also include amortization of the deferred value of services bundled in the sales price of certain \\nproducts.\\n(4) Includes $7.5 billion  of revenue recognized in 2022  that was included in deferred revenue as of September\\xa025, 2021 , $6.7 \\nbillion  of revenue recognized in 2021  that was included in deferred revenue as of September\\xa026, 2020 , and $5.0 billion  of \\nrevenue recognized in 2020  that was included in deferred revenue as of September\\xa028, 2019 .\\nThe Company’s proportion of net sales by disaggregated revenue source was generally consistent for each reportable segment']]"
            ]
          },
          "metadata": {},
          "execution_count": 102
        }
      ]
    },
    {
      "cell_type": "code",
      "source": [
        "# Convert each sublist to a string with newline characters\n",
        "string_with_newline = '\\n'.join([' '.join(sublist) for sublist in cleaned_list])"
      ],
      "metadata": {
        "id": "D8hQm3_hV10f"
      },
      "execution_count": null,
      "outputs": []
    },
    {
      "cell_type": "code",
      "source": [
        "string_with_newline"
      ],
      "metadata": {
        "colab": {
          "base_uri": "https://localhost:8080/",
          "height": 109
        },
        "id": "jzdO653AV48F",
        "outputId": "d9d944e4-0065-4407-b62c-9b0ab9bbe035"
      },
      "execution_count": null,
      "outputs": [
        {
          "output_type": "execute_result",
          "data": {
            "text/plain": [
              "'For the sale of third-party products where the Company obtains control of the product before transferring it to the customer, the \\nCompany recognizes revenue based on the gross amount billed to customers. The Company considers multiple factors when \\ndetermining whether it obtains control of third-party products, including evaluating if it can establish the price of the product, \\nretains inventory risk for tangible products or has the responsibility for ensuring acceptability of the product. For third-party \\napplications sold through the App Store and certain digital content sold through the Company’s other digital content stores, the \\nCompany does not obtain control of the product before transferring it to the customer. Therefore, the Company accounts for such \\nsales on a net basis by recognizing in Services net sales only the commission it retains.\\nThe Company records revenue net of taxes collected from customers that are remitted to governmental authorities, with the\\nthe sales price of the respective product.\\n(2) Wearables, Home and Accessories net sales include sales of AirPods, Apple TV, Apple Watch, Beats products, HomePod \\nmini and accessories.\\n(3) Services net sales include sales from the Company’s advertising, AppleCare, cloud, digital content, payment and other \\nservices. Services net sales also include amortization of the deferred value of services bundled in the sales price of certain \\nproducts.\\n(4) Includes $7.5 billion  of revenue recognized in 2022  that was included in deferred revenue as of September\\xa025, 2021 , $6.7 \\nbillion  of revenue recognized in 2021  that was included in deferred revenue as of September\\xa026, 2020 , and $5.0 billion  of \\nrevenue recognized in 2020  that was included in deferred revenue as of September\\xa028, 2019 .\\nThe Company’s proportion of net sales by disaggregated revenue source was generally consistent for each reportable segment'"
            ],
            "application/vnd.google.colaboratory.intrinsic+json": {
              "type": "string"
            }
          },
          "metadata": {},
          "execution_count": 104
        }
      ]
    },
    {
      "cell_type": "code",
      "source": [
        "def rag(query, retrieved_documents,model):\n",
        "    information = \"\\n\\n\".join(retrieved_documents)\n",
        "\n",
        "    messages = [\n",
        "        {\n",
        "            \"role\": \"system\",\n",
        "            \"content\": \"You are a helpful expert financial research assistant. Your users are asking questions about information contained in an annual report.\"\n",
        "            \"You will be shown the user's question, and the relevant information from the annual report. Answer the user's question using only this information.\"\n",
        "        },\n",
        "        {\"role\": \"user\", \"content\": f\"Question: {query}. \\n Information: {information}\"}\n",
        "    ]\n",
        "\n",
        "    response = openai_client.chat.completions.create(\n",
        "        model=model,\n",
        "        messages=messages,\n",
        "    )\n",
        "    content = response.choices[0].message.content\n",
        "    return content"
      ],
      "metadata": {
        "id": "IuNHqcSDZROb"
      },
      "execution_count": null,
      "outputs": []
    },
    {
      "cell_type": "code",
      "source": [
        "rag(original_query,string_with_newline,model)"
      ],
      "metadata": {
        "id": "AdbMVx0gUPap"
      },
      "execution_count": null,
      "outputs": []
    },
    {
      "cell_type": "code",
      "source": [],
      "metadata": {
        "id": "-FO9rU_hyMpK"
      },
      "execution_count": null,
      "outputs": []
    }
  ]
}